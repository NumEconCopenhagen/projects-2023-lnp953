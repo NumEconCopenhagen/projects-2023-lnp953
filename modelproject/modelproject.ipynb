{
 "cells": [
  {
   "attachments": {},
   "cell_type": "markdown",
   "metadata": {},
   "source": [
    "# The AD-AS curve and supply shocks"
   ]
  },
  {
   "cell_type": "markdown",
   "metadata": {},
   "source": [
    "Imports and set magics:"
   ]
  },
  {
   "cell_type": "code",
   "execution_count": 78,
   "metadata": {},
   "outputs": [
    {
     "name": "stdout",
     "output_type": "stream",
     "text": [
      "The autoreload extension is already loaded. To reload it, use:\n",
      "  %reload_ext autoreload\n"
     ]
    }
   ],
   "source": [
    "import numpy as np\n",
    "from scipy import optimize\n",
    "import scipy.optimize as opt\n",
    "import sympy as sm\n",
    "import matplotlib.pyplot as plt\n",
    "from ipywidgets import interact, FloatSlider\n",
    "\n",
    "plt.rcParams.update({\"axes.grid\":True,\"grid.color\":\"black\",\"grid.alpha\":\"0.25\",\"grid.linestyle\":\"--\"})\n",
    "plt.rcParams.update({'font.size': 14})\n",
    "\n",
    "# autoreload modules when code is run\n",
    "%load_ext autoreload\n",
    "%autoreload 2\n",
    "\n",
    "# local modules\n",
    "import modelproject"
   ]
  },
  {
   "attachments": {},
   "cell_type": "markdown",
   "metadata": {},
   "source": [
    "# Model description of the AD-AS model "
   ]
  },
  {
   "attachments": {},
   "cell_type": "markdown",
   "metadata": {},
   "source": [
    "\n",
    "**In a closed economy on the short run**"
   ]
  },
  {
   "attachments": {},
   "cell_type": "markdown",
   "metadata": {},
   "source": [
    "The AD-AS model is a model from macroeconomics that describes the relationship between aggregate demand (AD) and aggregate supply (AS) in the short run. The model can be used to analyze how changes in government spending, taxes and monetary policy affect the output, prices and employment."
   ]
  },
  {
   "attachments": {},
   "cell_type": "markdown",
   "metadata": {},
   "source": [
    "The model below is inspired from the textbook \"Introducing Advanced Macroeconomics - Growth and Business Cycles\" by Peter Birch Sørensen og Hans Jørgen Whitta-Jacobsen. \n",
    "\n",
    "Following five equations describe a closed economy:\n",
    "\n",
    "**1) The Fischer Equation**:\n",
    "\n",
    "$$\n",
    "r = i-\\pi^{e}_{+1}\n",
    "$$\n",
    "\n",
    "**2) The general market equilibrium**\n",
    "\n",
    "$$\n",
    "y-\\bar{y} = \\alpha_1 (g-\\bar{g}) - \\alpha_2(r-\\bar{r})\n",
    "$$\n",
    "\n",
    "**3) The Taylor Rule**\n",
    "\n",
    "$$\n",
    "i = \\bar{r} + \\pi^{e}_{+1} + h(\\pi - \\pi^*) + b(y- \\bar{y})\n",
    "$$\n",
    "\n",
    "**4) The SRAS curve** which is derived from the Expectations-Augmented Phillips Curve\n",
    "\n",
    "$$\n",
    "\\pi = \\pi^e + \\gamma (y-\\bar{y}) + s\n",
    "$$\n",
    "\n",
    "\n",
    "**5) Assuming static inflation expectations in the economy**\n",
    "\n",
    "$$\n",
    "\\pi^e = \\pi_{-1}\n",
    "$$\n",
    "\n",
    "\n"
   ]
  },
  {
   "attachments": {},
   "cell_type": "markdown",
   "metadata": {},
   "source": [
    "The **AD-curve** is given by a combination of equation 1), 2) and 3):\n",
    "\n",
    "$$\n",
    "y-\\bar{y} = z-\\alpha(\\pi - \\pi^*)\n",
    "$$\n",
    "where\n",
    "$$\n",
    "z = \\frac{\\alpha_1}{1+\\alpha_2b}(g-\\bar{g}), \\alpha = \\frac{\\alpha_2 h}{1+\\alpha_2b}\n",
    "$$\n",
    "\n",
    "The **AS-curve** is given by a combination of equation 4) and 5):\n",
    "\n",
    "$$\n",
    "\\pi = \\pi_{-1} + \\gamma(y-\\bar{y}) + s"
   ]
  },
  {
   "attachments": {},
   "cell_type": "markdown",
   "metadata": {},
   "source": [
    "Explanation of the two curves: The **AD curve** represents the relationship between output, Y, and aggregate demand, AD, while the **AS curve** represents the relationship between output, Y, and aggregate supply, AS. \n",
    "\n",
    "**Alpha** is a function of the sensitivity of real interest rates,**h** to changes in the output gap and the slope of the Phillips curve, **b**.\n",
    "\n",
    "**Gamma** is the slope of the AS-curve and **s** represents supply shocks.\n",
    "\n",
    "\n",
    "Equilibrium: The equilibrium condition for the AD-AS-model is where the two curves intersect.\n",
    "\n",
    "\n"
   ]
  },
  {
   "cell_type": "markdown",
   "metadata": {},
   "source": [
    "## Analytical solution"
   ]
  },
  {
   "attachments": {},
   "cell_type": "markdown",
   "metadata": {},
   "source": [
    "I start by defing the AD- and AS-curve using the equations above:"
   ]
  },
  {
   "cell_type": "code",
   "execution_count": 79,
   "metadata": {},
   "outputs": [],
   "source": [
    "#Defining the symbols using sympy\n",
    "y, pi, g, b, alpha1, alpha2, h, s, y_bar, pi_star = sm.symbols('y pi g b alpha1 alpha2 h s y_bar pi_star')\n",
    "\n",
    "#Defining the AD-curve\n",
    "z = alpha1/(1 + alpha2*b)*(g - y_bar)\n",
    "alpha = alpha2*h/(1 + alpha2*b)\n",
    "AD = y - y_bar - alpha*(pi - pi_star) - z\n",
    "\n",
    "#Defining the AS-curve\n",
    "gamma = sm.symbols('gamma')\n",
    "AS = pi - pi_star + gamma*(y - y_bar) + s"
   ]
  },
  {
   "attachments": {},
   "cell_type": "markdown",
   "metadata": {},
   "source": [
    "I then derive the steady state equation. This is done by setting AD and AS equal to each other and then solving for y:"
   ]
  },
  {
   "cell_type": "code",
   "execution_count": 80,
   "metadata": {},
   "outputs": [],
   "source": [
    "#Steady state equation\n",
    "steady_state_eq = sm.solve(sm.Eq(AD, AS), y)[0]\n"
   ]
  },
  {
   "attachments": {},
   "cell_type": "markdown",
   "metadata": {},
   "source": [
    "I now use lambdify to turn it into a Python function:"
   ]
  },
  {
   "cell_type": "code",
   "execution_count": 81,
   "metadata": {},
   "outputs": [],
   "source": [
    "#Using lambdify to define the SS function\n",
    "#ss_func takes in the parameters of the model and returns the value of y at SS\n",
    "\n",
    "ss_func = sm.lambdify((pi, g, b, alpha1, alpha2, h, s, y_bar, pi_star, gamma), steady_state_eq)\n"
   ]
  },
  {
   "attachments": {},
   "cell_type": "markdown",
   "metadata": {},
   "source": [
    "I now want to study the AD-AS model when a supply shock hits the economy. I use ipywidgets to illustrate how a supply shock, s, affects the AD- and AS-curve. In period 0 the economy is in its long-term equilibrium. However, in period one the user can make a temporary, negative or positive supply shock in the range -5 to +5. Remember: A supply shock is negative when s > 0 and positive when s > 0.  S is 0 in period zero and two, but in period 1 the user can change the value.\n",
    "\n"
   ]
  },
  {
   "cell_type": "code",
   "execution_count": 82,
   "metadata": {},
   "outputs": [
    {
     "data": {
      "application/vnd.jupyter.widget-view+json": {
       "model_id": "5bd5cf4cddd74b69b3b1828e9d4e1a54",
       "version_major": 2,
       "version_minor": 0
      },
      "text/plain": [
       "interactive(children=(FloatSlider(value=0.0, description='s', max=5.0, min=-5.0), Output()), _dom_classes=('wi…"
      ]
     },
     "metadata": {},
     "output_type": "display_data"
    }
   ],
   "source": [
    "#Defining functions for the AD and AS curves\n",
    "def ad(y, pi, pi_star, alpha, alpha_1, alpha_2, b, g, g_bar, h):\n",
    "    z = alpha_1 / (1 + alpha_2 * b) * (g - g_bar)\n",
    "    return y - y_bar - z + alpha * (pi - pi_star)\n",
    "\n",
    "def as_curve(y, pi, pi_1, gamma, s):\n",
    "    return pi - pi_1 - gamma * (y - y_bar) - s\n",
    "\n",
    "#Defining the parameter values\n",
    "y_bar = 100\n",
    "pi_star = 2\n",
    "alpha_1 = 1\n",
    "alpha_2 = 1\n",
    "b = 1\n",
    "g = 1\n",
    "g_bar = 1\n",
    "h = 1\n",
    "alpha = alpha_2 * h / (1 + alpha_2 * b)\n",
    "gamma = 0.5\n",
    "\n",
    "#Defining a function to plot the AD and AS curves\n",
    "def plot_ad_as(s):\n",
    "    #Creating a range of output levels\n",
    "    y_range = np.linspace(y_bar - 10, y_bar + 10, 100)\n",
    "\n",
    "    #Deriving the AD and AS curves\n",
    "    ad_curve = ad(y_range, pi_star, pi_star, alpha, alpha_1, alpha_2, b, g, g_bar, h)\n",
    "    as_curve_0 = as_curve(y_range, pi_star, pi_star, gamma, 0)\n",
    "    as_curve_1 = as_curve(y_range, pi_star, pi_star, gamma, s)\n",
    "\n",
    "    #Plotting\n",
    "    plt.plot(y_range, ad_curve, label='AD')\n",
    "    plt.plot(y_range, as_curve_0, label='AS (s=0)', color='grey')\n",
    "    plt.plot(y_range, as_curve_1, label='AS (s={:.2f})'.format(s), color='red')\n",
    "\n",
    "    \n",
    "    plt.xlabel('Output')\n",
    "    plt.ylabel('Inflation')\n",
    "    plt.legend()\n",
    "\n",
    "#Creating the interactive plot with a slider \n",
    "interact(plot_ad_as, s=FloatSlider(min=-5, max=5, step=0.1, value=0));\n"
   ]
  },
  {
   "attachments": {},
   "cell_type": "markdown",
   "metadata": {},
   "source": [
    "It is worth noting, that the AD curve is upward sloping and the AS curve is downward sloping in this model. This is due to the assumptions that are made. For example, an increase in the price level leads to an increase in aggregate demand. This can be counterintuitive, because one would think a higher price level leads to a decrease in demand. But in this case, it is due to the effect of higher inflation on the real interest rate, which thereby affects consumption and investments.\n",
    "\n",
    "\n"
   ]
  },
  {
   "cell_type": "markdown",
   "metadata": {},
   "source": [
    "## Numerical solution"
   ]
  },
  {
   "attachments": {},
   "cell_type": "markdown",
   "metadata": {},
   "source": [
    "To solve an optimization problem in a AD-AS model, it is very appropriate to look a the social loss function. The social loss function measures the welfare loss that the society experiences due to the economy deviating from its optimal state. It is therefore essential to minimize the social loss function. This can be done by finding the optimal parameter values, that minimixes the following equation:\n",
    "\n",
    "$$\n",
    "L=(\\pi-\\pi^{*})^{2}+a(y-\\bar{y})^{2}\n",
    "\n",
    "$$\n",
    "\n",
    "Where $\\pi$ is the actual inflation rate, $\\pi^{*}$ is the target inflation rate, $y$ is the actual output level, $\\bar{y}$ is the natural output level and $a$ is a parameter that determines the weight given to the output gap in the loss function."
   ]
  },
  {
   "cell_type": "code",
   "execution_count": 83,
   "metadata": {},
   "outputs": [
    {
     "name": "stdout",
     "output_type": "stream",
     "text": [
      "The optimal parameter values that minimize the social loss are:\n",
      "g: 0.04500637346159248\n",
      "alpha1: 1.8421020773482135e-12\n"
     ]
    }
   ],
   "source": [
    "# Fixing the parameter values\n",
    "pi = 0.02\n",
    "b = 0.5\n",
    "alpha2 = 1\n",
    "h = 0.5\n",
    "s = 0\n",
    "y_bar = 100 \n",
    "pi_star = 0.02\n",
    "gamma = 0.5\n",
    "\n",
    "# Defining the social loss function with fixed parameters\n",
    "def social_loss(args):\n",
    "    g, alpha1 = args\n",
    "    y = ss_func(pi, g, b, alpha1, alpha2, h, s, y_bar, pi_star, gamma)\n",
    "    return (y_bar - y) ** 2 + (pi_star - pi) ** 2\n",
    "\n",
    "# Initial values for the varying parameters\n",
    "initial_g = 0.03\n",
    "initial_alpha1 = 1.5\n",
    "\n",
    "# Optimizing the social loss function with respect to g and alpha1 using the trust-constr method\n",
    "optimal_par_gh = opt.minimize(social_loss, [initial_g, initial_alpha1], method='trust-constr')\n",
    "\n",
    "print(\"The optimal parameter values that minimize the social loss are:\")\n",
    "print(\"g:\", optimal_par_gh.x[0])\n",
    "print(\"alpha1:\", optimal_par_gh.x[1])\n",
    "\n",
    "\n"
   ]
  },
  {
   "cell_type": "code",
   "execution_count": 84,
   "metadata": {},
   "outputs": [
    {
     "data": {
      "image/png": "[encoded data removed]",
      "text/plain": [
       "<Figure size 640x480 with 1 Axes>"
      ]
     },
     "metadata": {},
     "output_type": "display_data"
    }
   ],
   "source": [
    "import matplotlib.pyplot as plt\n",
    "\n",
    "# Perform the optimization and collect the objective function values\n",
    "history = []\n",
    "\n",
    "def social_loss(args):\n",
    "    g, alpha1 = args\n",
    "    y = ss_func(pi, g, b, alpha1, alpha2, h, s, y_bar, pi_star, gamma)\n",
    "    loss = (y_bar - y) ** 2 + (pi_star - pi) ** 2\n",
    "    history.append(loss)  # Collect the objective function value\n",
    "    return loss\n",
    "\n",
    "optimal_par_gh = opt.minimize(social_loss, [initial_g, initial_alpha1], method='trust-constr')\n",
    "\n",
    "# Plot the convergence of the objective function\n",
    "plt.plot(history)\n",
    "plt.xlabel(\"Iteration\")\n",
    "plt.ylabel(\"Objective Function Value\")\n",
    "plt.title(\"Convergence of the Objective Function\")\n",
    "plt.show()\n"
   ]
  },
  {
   "cell_type": "code",
   "execution_count": 88,
   "metadata": {},
   "outputs": [
    {
     "name": "stdout",
     "output_type": "stream",
     "text": [
      "The optimal parameter values that minimize the social loss are: [0.02321371 0.03382991 0.70061025 0.00670146 1.41716115 0.53288151\n",
      " 0.00158333 0.50487948 0.02321361 0.37929403]\n"
     ]
    }
   ],
   "source": [
    "# #OLD !!!! Defining the social loss function\n",
    "# def social_loss(args):\n",
    "#     pi, g, b, alpha1, alpha2, h, s, y_bar, pi_star, gamma = args\n",
    "#     y = ss_func(pi, g, b, alpha1, alpha2, h, s, y_bar, pi_star, gamma)\n",
    "#     return (y_bar - y)**2 + (pi_star - pi)**2\n",
    "\n",
    "# #Defining initial parameter values\n",
    "# pi = 0.02\n",
    "# g = 0.03\n",
    "# b = 0.5\n",
    "# alpha1 = 1.5\n",
    "# alpha2 = 1\n",
    "# h = 0.5\n",
    "# s = 0\n",
    "# y_bar = 1\n",
    "# pi_star = 0.02\n",
    "# gamma = 0.5\n",
    "\n",
    "# #Optimizing the social loss function using the Nelder-Mead method\n",
    "# optimal_par = opt.minimize(social_loss, [pi, g, b, alpha1, alpha2, h, s, y_bar, pi_star, gamma], method='Nelder-Mead')\n",
    "\n",
    "# # Print the optimal parameter values\n",
    "# print(\"The optimal parameter values that minimize the social loss are:\", optimal_par.x)"
   ]
  },
  {
   "cell_type": "markdown",
   "metadata": {},
   "source": [
    "# Conclusion"
   ]
  },
  {
   "cell_type": "markdown",
   "metadata": {},
   "source": [
    "Add concise conclusion. "
   ]
  }
 ],
 "metadata": {
  "kernelspec": {
   "display_name": "base",
   "language": "python",
   "name": "python3"
  },
  "language_info": {
   "codemirror_mode": {
    "name": "ipython",
    "version": 3
   },
   "file_extension": ".py",
   "mimetype": "text/x-python",
   "name": "python",
   "nbconvert_exporter": "python",
   "pygments_lexer": "ipython3",
   "version": "3.9.13"
  },
  "toc-autonumbering": true,
  "vscode": {
   "interpreter": {
    "hash": "545c8d92fb4c24119f13202458cf7a7750e646aaf47478867c31e3beae5469ad"
   }
  }
 },
 "nbformat": 4,
 "nbformat_minor": 4
}
