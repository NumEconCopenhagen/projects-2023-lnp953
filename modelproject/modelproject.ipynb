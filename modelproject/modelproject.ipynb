{
 "cells": [
  {
   "attachments": {},
   "cell_type": "markdown",
   "metadata": {},
   "source": [
    "# The AD-AS curve and supply shocks"
   ]
  },
  {
   "cell_type": "markdown",
   "metadata": {},
   "source": [
    "Imports and set magics:"
   ]
  },
  {
   "cell_type": "code",
   "execution_count": 417,
   "metadata": {},
   "outputs": [
    {
     "name": "stdout",
     "output_type": "stream",
     "text": [
      "The autoreload extension is already loaded. To reload it, use:\n",
      "  %reload_ext autoreload\n"
     ]
    }
   ],
   "source": [
    "import numpy as np\n",
    "from scipy import optimize\n",
    "import scipy.optimize as opt\n",
    "import sympy as sm\n",
    "import matplotlib.pyplot as plt\n",
    "from ipywidgets import interact, FloatSlider\n",
    "\n",
    "plt.rcParams.update({\"axes.grid\":True,\"grid.color\":\"black\",\"grid.alpha\":\"0.25\",\"grid.linestyle\":\"--\"})\n",
    "plt.rcParams.update({'font.size': 14})\n",
    "\n",
    "# autoreload modules when code is run\n",
    "%load_ext autoreload\n",
    "%autoreload 2\n"
   ]
  },
  {
   "attachments": {},
   "cell_type": "markdown",
   "metadata": {},
   "source": [
    "# Model description of the AD-AS model "
   ]
  },
  {
   "attachments": {},
   "cell_type": "markdown",
   "metadata": {},
   "source": [
    "\n",
    "**In a closed economy on the short run**"
   ]
  },
  {
   "attachments": {},
   "cell_type": "markdown",
   "metadata": {},
   "source": [
    "The AD-AS model is a model from macroeconomics that describes the relationship between aggregate demand (AD) and aggregate supply (AS) in the short run. The model can be used to analyze how changes in government spending, taxes and monetary policy affect the output, prices and employment."
   ]
  },
  {
   "attachments": {},
   "cell_type": "markdown",
   "metadata": {},
   "source": [
    "The model below is inspired from the textbook \"Introducing Advanced Macroeconomics - Growth and Business Cycles\" by Peter Birch Sørensen og Hans Jørgen Whitta-Jacobsen. \n",
    "\n",
    "Following five equations describe a closed economy:\n",
    "\n",
    "**1) The Fischer Equation**:\n",
    "\n",
    "$$\n",
    "r = i-\\pi^{e}_{+1}\n",
    "$$\n",
    "\n",
    "**2) The general market equilibrium**\n",
    "\n",
    "$$\n",
    "y-\\bar{y} = \\alpha_1 (g-\\bar{g}) - \\alpha_2(r-\\bar{r})\n",
    "$$\n",
    "\n",
    "**3) The Taylor Rule**\n",
    "\n",
    "$$\n",
    "i = \\bar{r} + \\pi^{e}_{+1} + h(\\pi - \\pi^*) + b(y- \\bar{y})\n",
    "$$\n",
    "\n",
    "**4) The SRAS curve** which is derived from the Expectations-Augmented Phillips Curve\n",
    "\n",
    "$$\n",
    "\\pi = \\pi^e + \\gamma (y-\\bar{y}) + s\n",
    "$$\n",
    "\n",
    "\n",
    "**5) Assuming static inflation expectations in the economy**\n",
    "\n",
    "$$\n",
    "\\pi^e = \\pi_{-1}\n",
    "$$\n",
    "\n",
    "\n"
   ]
  },
  {
   "attachments": {},
   "cell_type": "markdown",
   "metadata": {},
   "source": [
    "The **AD-curve** is given by a combination of equation 1), 2) and 3):\n",
    "\n",
    "$$\n",
    "y-\\bar{y} = z-\\alpha(\\pi - \\pi^*)\n",
    "$$\n",
    "where\n",
    "$$\n",
    "z = \\frac{\\alpha_1}{1+\\alpha_2b}(g-\\bar{g}), \\alpha = \\frac{\\alpha_2 h}{1+\\alpha_2b}\n",
    "$$\n",
    "\n",
    "The **AS-curve** is given by a combination of equation 4) and 5):\n",
    "\n",
    "$$\n",
    "\\pi = \\pi_{-1} + \\gamma(y-\\bar{y}) + s"
   ]
  },
  {
   "attachments": {},
   "cell_type": "markdown",
   "metadata": {},
   "source": [
    "Explanation of the two curves: The **AD curve** represents the relationship between output, Y, and aggregate demand, AD, while the **AS curve** represents the relationship between output, Y, and aggregate supply, AS. \n",
    "\n",
    "**Alpha** is a function of the sensitivity of real interest rates,**h** to changes in the output gap and the slope of the Phillips curve, **b**.\n",
    "\n",
    "**Gamma** is the slope of the AS-curve and **s** represents supply shocks.\n",
    "\n",
    "\n",
    "Equilibrium: The equilibrium condition for the AD-AS-model is where the two curves intersect.\n",
    "\n",
    "\n"
   ]
  },
  {
   "cell_type": "markdown",
   "metadata": {},
   "source": [
    "## Analytical solution"
   ]
  },
  {
   "attachments": {},
   "cell_type": "markdown",
   "metadata": {},
   "source": [
    "I start by defing the AD- and AS-curve using the equations above:"
   ]
  },
  {
   "cell_type": "code",
   "execution_count": 418,
   "metadata": {},
   "outputs": [],
   "source": [
    "#Defining the symbols using sympy\n",
    "y, pi, g, b, alpha1, alpha2, h, s, y_bar, pi_star = sm.symbols('y pi g b alpha1 alpha2 h s y_bar pi_star')\n",
    "\n",
    "#Defining the AD-curve\n",
    "z = alpha1/(1 + alpha2*b)*(g - y_bar)\n",
    "alpha = alpha2*h/(1 + alpha2*b)\n",
    "AD = y - y_bar - alpha*(pi - pi_star) - z\n",
    "\n",
    "#Defining the AS-curve\n",
    "gamma = sm.symbols('gamma')\n",
    "AS = pi - pi_star + gamma*(y - y_bar) + s"
   ]
  },
  {
   "attachments": {},
   "cell_type": "markdown",
   "metadata": {},
   "source": [
    "I then derive the steady state equation. This is done by setting AD and AS equal to each other and then solving for y:"
   ]
  },
  {
   "cell_type": "code",
   "execution_count": 419,
   "metadata": {},
   "outputs": [],
   "source": [
    "#Steady state equation\n",
    "steady_state_eq = sm.solve(sm.Eq(AD, AS), y)[0]\n"
   ]
  },
  {
   "attachments": {},
   "cell_type": "markdown",
   "metadata": {},
   "source": [
    "I now use lambdify to turn it into a Python function:"
   ]
  },
  {
   "cell_type": "code",
   "execution_count": 420,
   "metadata": {},
   "outputs": [],
   "source": [
    "#Using lambdify to define the SS function\n",
    "#ss_func takes in the parameters of the model and returns the value of y at SS\n",
    "\n",
    "ss_func = sm.lambdify((pi, g, b, alpha1, alpha2, h, s, y_bar, pi_star, gamma), steady_state_eq)\n"
   ]
  },
  {
   "attachments": {},
   "cell_type": "markdown",
   "metadata": {},
   "source": [
    "I now want to study the AD-AS model when a supply shock hits the economy. I use ipywidgets to illustrate how a supply shock, s, affects the AD- and AS-curve. In period 0 the economy is in its long-term equilibrium. However, in period one the user can make a temporary, negative or positive supply shock in the range -5 to +5. Remember: A supply shock is negative when s > 0 and positive when s > 0.  S is 0 in period zero and two, but in period 1 the user can change the value.\n",
    "\n"
   ]
  },
  {
   "cell_type": "code",
   "execution_count": 421,
   "metadata": {},
   "outputs": [
    {
     "data": {
      "application/vnd.jupyter.widget-view+json": {
       "model_id": "8ce1e20c916846eabd6869871ce31a87",
       "version_major": 2,
       "version_minor": 0
      },
      "text/plain": [
       "interactive(children=(FloatSlider(value=0.0, description='s', max=5.0, min=-5.0), Output()), _dom_classes=('wi…"
      ]
     },
     "metadata": {},
     "output_type": "display_data"
    }
   ],
   "source": [
    "#Defining functions for the AD and AS curves\n",
    "def ad(y, pi, pi_star, alpha, alpha_1, alpha_2, b, g, g_bar, h):\n",
    "    z = alpha_1 / (1 + alpha_2 * b) * (g - g_bar)\n",
    "    return y - y_bar - z + alpha * (pi - pi_star)\n",
    "\n",
    "def as_curve(y, pi, pi_1, gamma, s):\n",
    "    return pi - pi_1 - gamma * (y - y_bar) - s\n",
    "\n",
    "#Defining the parameter values\n",
    "y_bar = 100\n",
    "pi_star = 2\n",
    "alpha_1 = 1\n",
    "alpha_2 = 1\n",
    "b = 1\n",
    "g = 1\n",
    "g_bar = 1\n",
    "h = 1\n",
    "alpha = alpha_2 * h / (1 + alpha_2 * b)\n",
    "gamma = 0.5\n",
    "\n",
    "#Defining a function to plot the AD and AS curves\n",
    "def plot_ad_as(s):\n",
    "    #Creating a range of output levels\n",
    "    y_range = np.linspace(y_bar - 10, y_bar + 10, 100)\n",
    "\n",
    "    #Deriving the AD and AS curves\n",
    "    ad_curve = ad(y_range, pi_star, pi_star, alpha, alpha_1, alpha_2, b, g, g_bar, h)\n",
    "    as_curve_0 = as_curve(y_range, pi_star, pi_star, gamma, 0)\n",
    "    as_curve_1 = as_curve(y_range, pi_star, pi_star, gamma, s)\n",
    "\n",
    "    #Plotting\n",
    "    plt.plot(y_range, ad_curve, label='AD')\n",
    "    plt.plot(y_range, as_curve_0, label='AS (s=0)', color='grey')\n",
    "    plt.plot(y_range, as_curve_1, label='AS (s={:.2f})'.format(s), color='red')\n",
    "\n",
    "    \n",
    "    plt.xlabel('Output')\n",
    "    plt.ylabel('Inflation')\n",
    "    plt.legend()\n",
    "\n",
    "#Creating the interactive plot with a slider \n",
    "interact(plot_ad_as, s=FloatSlider(min=-5, max=5, step=0.1, value=0));\n"
   ]
  },
  {
   "attachments": {},
   "cell_type": "markdown",
   "metadata": {},
   "source": [
    "It is worth noting, that the AD curve is upward sloping and the AS curve is downward sloping in this model. This is due to the assumptions that are made. For example, an increase in the price level leads to an increase in aggregate demand. This can be counterintuitive, because one would think a higher price level leads to a decrease in demand. But in this case, it is due to the effect of higher inflation on the real interest rate, which thereby affects consumption and investments.\n",
    "\n",
    "\n"
   ]
  },
  {
   "attachments": {},
   "cell_type": "markdown",
   "metadata": {},
   "source": [
    "**Steady state calculation**"
   ]
  },
  {
   "cell_type": "code",
   "execution_count": 422,
   "metadata": {},
   "outputs": [
    {
     "name": "stdout",
     "output_type": "stream",
     "text": [
      "The steady state value is: 1.0\n"
     ]
    }
   ],
   "source": [
    "#Defining the parameter values again\n",
    "y_bar = 100\n",
    "pi_star = 2\n",
    "alpha_1 = 1\n",
    "alpha_2 = 1\n",
    "b = 1\n",
    "g = 1\n",
    "g_bar = 1\n",
    "h = 1\n",
    "gamma = 0.5\n",
    "\n",
    "#Calculating steady state value assuming no supply shocks\n",
    "steady_state = ss_func(pi_star, g, b, alpha_1, alpha_2, h, 0, y_bar, pi_star, gamma)\n",
    "\n",
    "#Printing the result\n",
    "print(\"The steady state value is:\", steady_state)\n"
   ]
  },
  {
   "attachments": {},
   "cell_type": "markdown",
   "metadata": {},
   "source": [
    "## Numerical solution: Minimizing social loss "
   ]
  },
  {
   "attachments": {},
   "cell_type": "markdown",
   "metadata": {},
   "source": [
    "To solve an optimization problem in a AD-AS model, it is very appropriate to look a the social loss function. The social loss function measures the welfare loss that the society experiences due to the economy deviating from its optimal state. It is therefore essential to minimize the social loss function. This can be done by finding the optimal parameter values, that minimixes the following equation:\n",
    "\n",
    "$$\n",
    "L=(\\pi-\\pi^{*})^{2}+a(y-\\bar{y})^{2}\n",
    "\n",
    "$$\n",
    "\n",
    "Where $\\pi$ is the actual inflation rate, $\\pi^{*}$ is the target inflation rate, $y$ is the actual output level, $\\bar{y}$ is the natural output level and $a$ is a parameter that determines the weight given to the output gap in the loss function."
   ]
  },
  {
   "cell_type": "code",
   "execution_count": 423,
   "metadata": {},
   "outputs": [
    {
     "name": "stdout",
     "output_type": "stream",
     "text": [
      "The optimal parameter values that minimize the social loss are:\n",
      "g: 0.04500637346159248\n",
      "alpha1: 1.8421020773482135e-12\n"
     ]
    }
   ],
   "source": [
    "# Fixing the parameter values\n",
    "pi = 0.02\n",
    "b = 0.5\n",
    "alpha2 = 1\n",
    "h = 0.5\n",
    "s = 0\n",
    "y_bar = 100 \n",
    "pi_star = 0.02\n",
    "gamma = 0.5\n",
    "\n",
    "# Defining the social loss function with fixed parameters\n",
    "def social_loss(args):\n",
    "    g, alpha1 = args\n",
    "    y = ss_func(pi, g, b, alpha1, alpha2, h, s, y_bar, pi_star, gamma)\n",
    "    return (y_bar - y) ** 2 + (pi_star - pi) ** 2\n",
    "\n",
    "# Initial values for the varying parameters\n",
    "initial_g = 0.03\n",
    "initial_alpha1 = 1.5\n",
    "\n",
    "# Optimizing the social loss function with respect to g and alpha1 using the trust-constr method\n",
    "optimal_par_gh = opt.minimize(social_loss, [initial_g, initial_alpha1], method='trust-constr')\n",
    "\n",
    "print(\"The optimal parameter values that minimize the social loss are:\")\n",
    "print(\"g:\", optimal_par_gh.x[0])\n",
    "print(\"alpha1:\", optimal_par_gh.x[1])\n",
    "\n",
    "\n"
   ]
  },
  {
   "attachments": {},
   "cell_type": "markdown",
   "metadata": {},
   "source": [
    "To verify that the optimal parameter values for g and alpha1 truly minimize the social loss function, I evaluate the social loss function at these optimal parameter values and compare it with the social loss values obtained from other parameter combinations."
   ]
  },
  {
   "cell_type": "code",
   "execution_count": 424,
   "metadata": {},
   "outputs": [
    {
     "name": "stdout",
     "output_type": "stream",
     "text": [
      "The optimal parameter values do indeed minimize the social loss function.\n",
      "Optimal Social Loss: 6.027355254061632e-20\n",
      "Minimum Social Loss: 0.0\n"
     ]
    }
   ],
   "source": [
    "#Evaluating the social loss at the optimal parameter values\n",
    "optimal_g = optimal_par_gh.x[0]\n",
    "optimal_alpha1 = optimal_par_gh.x[1]\n",
    "optimal_social_loss = social_loss([optimal_g, optimal_alpha1])\n",
    "\n",
    "#Generating a range of parameter combinations\n",
    "g_values = np.linspace(0, 0.1, 100)   #Generating 100 equally spaced values between 0 and 0.1 for parameter g\n",
    "alpha1_values = np.linspace(0, 3, 100)   #Generating 100 equally spaced values between 0 and 3 for parameter alpha1\n",
    "social_loss_values = np.zeros((100, 100))   #Creating a 100x100 array to store social loss values\n",
    "\n",
    "#Calculating social loss for each parameter combination\n",
    "for i, g in enumerate(g_values):\n",
    "    for j, alpha1 in enumerate(alpha1_values):\n",
    "        social_loss_values[i, j] = social_loss([g, alpha1])   #Calculating social loss for each parameter combination\n",
    "\n",
    "#Finding the minimum social loss and its corresponding parameter values\n",
    "min_loss = np.min(social_loss_values)   #Finding the minimum social loss value from the array\n",
    "min_loss_idx = np.unravel_index(np.argmin(social_loss_values), social_loss_values.shape)   #Finding the indices of the minimum loss value\n",
    "min_loss_g = g_values[min_loss_idx[0]]   #Extracting the corresponding value of g for the minimum loss\n",
    "min_loss_alpha1 = alpha1_values[min_loss_idx[1]]   #Extracting the corresponding value of alpha1 for the minimum loss\n",
    "\n",
    "#Compare the optimal social loss with the minimum social loss\n",
    "if np.isclose(optimal_social_loss, min_loss):\n",
    "    print(\"The optimal parameter values do indeed minimize the social loss function.\")   #Text indicating that the optimal parameter values minimize the social loss function\n",
    "else:\n",
    "    print(\"The optimal parameter values may not minimize the social loss function.\")   #Text indicating that they may not minimize the social loss function\n",
    "\n",
    "#Printing the optimal social loss and the minimum social loss\n",
    "print(\"Optimal Social Loss:\", optimal_social_loss)   #Print the value of the optimal social loss\n",
    "print(\"Minimum Social Loss:\", min_loss)   #Print the value of the minimum social loss\n"
   ]
  },
  {
   "attachments": {},
   "cell_type": "markdown",
   "metadata": {},
   "source": [
    "**Conclusion:**\n",
    "\n",
    "The extremely small optimal social loss value of 6.03e-20 and the minimum social loss value of 0.0 indicate that the chosen parameter values result in an almost perfect fit between the model's output and the desired target. "
   ]
  },
  {
   "attachments": {},
   "cell_type": "markdown",
   "metadata": {},
   "source": [
    "# Checking convergence\n",
    "\n",
    "To check the convergence of the optimization result, I can analyze the change in the social loss function value across iterations. If the social loss function converges to a reaches a minimum, it indicates convergence.\n",
    "\n",
    "I define a optimization_callback function that is used as a callback during the optimization process to monitor the current social loss value. The result of the optimization is stored in the optimal_par_gh variable."
   ]
  },
  {
   "cell_type": "code",
   "execution_count": 425,
   "metadata": {},
   "outputs": [
    {
     "name": "stdout",
     "output_type": "stream",
     "text": [
      "Current social loss: 39976.0036\n",
      "Current social loss: 4442.444380918718\n",
      "Current social loss: 0.0006256893167095972\n",
      "Current social loss: 9.837157116764578e-13\n",
      "Current social loss: 9.837157116764578e-13\n",
      "Current social loss: 6.027355254061632e-20\n",
      "Current social loss: 6.027355254061632e-20\n",
      "Current social loss: 6.027355254061632e-20\n",
      "Current social loss: 6.027355254061632e-20\n",
      "Current social loss: 6.027355254061632e-20\n",
      "Current social loss: 6.027355254061632e-20\n",
      "Current social loss: 6.027355254061632e-20\n",
      "Current social loss: 6.027355254061632e-20\n",
      "Current social loss: 6.027355254061632e-20\n",
      "The optimization has converged.\n"
     ]
    },
    {
     "data": {
      "image/png": "[encoded data removed]",
      "text/plain": [
       "<Figure size 640x480 with 1 Axes>"
      ]
     },
     "metadata": {},
     "output_type": "display_data"
    }
   ],
   "source": [
    "#Defining an empty list to store the social loss values across iterations\n",
    "social_loss_history = []\n",
    "\n",
    "#Optimizing with convergence monitoring\n",
    "def optimization_callback(xk, _):\n",
    "\n",
    "    #social_loss_val is calculated at each iteration and appendeds it to the social_loss_history list\n",
    "    social_loss_val = social_loss(xk)\n",
    "    social_loss_history.append(social_loss_val)\n",
    "    print(\"Current social loss:\", social_loss_val)\n",
    "\n",
    "#Optimization using Trust Region Constraint method\n",
    "#optimal_par_gh minimizes the social_loss function with respect to the parameters [initial_g, initial_alpha1] \n",
    "optimal_par_gh = opt.minimize(social_loss, [initial_g, initial_alpha1], method='trust-constr', callback=optimization_callback)\n",
    "\n",
    "#Checking if the social loss has converged by comparing the last two values in social_loss_history\n",
    "if len(social_loss_history) > 1 and np.isclose(social_loss_history[-1], social_loss_history[-2]):\n",
    "    print(\"The optimization has converged.\")\n",
    "else:\n",
    "    print(\"The optimization may not have converged.\")\n",
    "\n",
    "#Plotting the convergence of the social loss function\n",
    "plt.plot(range(len(social_loss_history)), social_loss_history)\n",
    "plt.xlabel(\"Iteration\")\n",
    "plt.ylabel(\"Social Loss\")\n",
    "plt.title(\"Convergence of Social Loss\")\n",
    "plt.show()\n",
    "\n"
   ]
  },
  {
   "attachments": {},
   "cell_type": "markdown",
   "metadata": {},
   "source": [
    "## Numerical solution: Monetary policy intervention "
   ]
  },
  {
   "attachments": {},
   "cell_type": "markdown",
   "metadata": {},
   "source": [
    "One common example of a policy change in an AD-AS model is a monetary policy intervention, such as a change in the central bank's interest rate.\n",
    "\n",
    "I will now analyze how the steady state value changes, when decreasing the central bank's interest rate. A decrease in the interest rate is typically used to stimulate economic activity."
   ]
  },
  {
   "cell_type": "code",
   "execution_count": 426,
   "metadata": {},
   "outputs": [
    {
     "name": "stdout",
     "output_type": "stream",
     "text": [
      "Steady state value before policy intervention: 1.0\n",
      "Steady state value after policy intervention: 0.6000000000000085\n"
     ]
    }
   ],
   "source": [
    "from monetary_policy_AD_AS import monetary_policy_intervention\n",
    "\n",
    "# Create an instance of monetary_policy_intervention class\n",
    "mp = monetary_policy_intervention()\n",
    "\n",
    "# Set the desired interest rate for the policy intervention (decrease in interest rate)\n",
    "interest_rate = -0.2\n",
    "\n",
    "# Analyze the policy intervention\n",
    "steady_state_before, steady_state_after = mp.analyze_policy_intervention(interest_rate)\n",
    "\n",
    "# Compare the steady state values\n",
    "print(\"Steady state value before policy intervention:\", steady_state_before)\n",
    "print(\"Steady state value after policy intervention:\", steady_state_after)\n",
    "\n"
   ]
  },
  {
   "attachments": {},
   "cell_type": "markdown",
   "metadata": {},
   "source": [
    "**Interpretation:**\n",
    "\n",
    "The policy intervention, which involved decreasing the central bank's interest rate, led to a decrease in the steady state output value from 1.0 to 0.6. This suggests a contractionary effect on the economy due to the lower interest rate."
   ]
  },
  {
   "cell_type": "markdown",
   "metadata": {},
   "source": [
    "# Conclusion"
   ]
  },
  {
   "cell_type": "markdown",
   "metadata": {},
   "source": [
    "Add concise conclusion. "
   ]
  }
 ],
 "metadata": {
  "kernelspec": {
   "display_name": "base",
   "language": "python",
   "name": "python3"
  },
  "language_info": {
   "codemirror_mode": {
    "name": "ipython",
    "version": 3
   },
   "file_extension": ".py",
   "mimetype": "text/x-python",
   "name": "python",
   "nbconvert_exporter": "python",
   "pygments_lexer": "ipython3",
   "version": "3.9.13"
  },
  "toc-autonumbering": true,
  "vscode": {
   "interpreter": {
    "hash": "545c8d92fb4c24119f13202458cf7a7750e646aaf47478867c31e3beae5469ad"
   }
  }
 },
 "nbformat": 4,
 "nbformat_minor": 4
}
