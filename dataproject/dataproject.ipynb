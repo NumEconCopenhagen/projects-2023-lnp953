{
 "cells": [
  {
   "attachments": {},
   "cell_type": "markdown",
   "metadata": {},
   "source": [
    "# YOUR PROJECT TITLE"
   ]
  },
  {
   "attachments": {},
   "cell_type": "markdown",
   "metadata": {},
   "source": [
    "> **Note the following:** \n",
    "> 1. This is *not* meant to be an example of an actual **data analysis project**, just an example of how to structure such a project.\n",
    "> 1. Remember the general advice on structuring and commenting your code\n",
    "> 1. The `dataproject.py` file includes a function which can be used multiple times in this notebook."
   ]
  },
  {
   "cell_type": "markdown",
   "metadata": {},
   "source": [
    "Imports and set magics:"
   ]
  },
  {
   "cell_type": "code",
   "execution_count": 132,
   "metadata": {},
   "outputs": [
    {
     "name": "stdout",
     "output_type": "stream",
     "text": [
      "The autoreload extension is already loaded. To reload it, use:\n",
      "  %reload_ext autoreload\n"
     ]
    }
   ],
   "source": [
    "import pandas as pd\n",
    "import numpy as np\n",
    "import matplotlib.pyplot as plt\n",
    "import ipywidgets as widgets\n",
    "#from matplotlib_venn import venn2\n",
    "plt.style.use('seaborn-whitegrid')\n",
    "#import pydst\n",
    "#dst = pydst.Dst(lang='en')\n",
    "\n",
    "# autoreload modules when code is run\n",
    "%load_ext autoreload\n",
    "%autoreload 2\n",
    "\n",
    "# user written modules\n",
    "import dataproject\n"
   ]
  },
  {
   "cell_type": "markdown",
   "metadata": {},
   "source": [
    "# Read and clean data"
   ]
  },
  {
   "cell_type": "code",
   "execution_count": 133,
   "metadata": {},
   "outputs": [],
   "source": [
    "#Loading the data for GDP and house prices in Denmark from 2012-2022 \n",
    "df_gdp = pd.read_excel('GDP.xlsx', skiprows=2)\n",
    "df_hp = pd.read_excel('Houseprices.xlsx', skiprows=2)"
   ]
  },
  {
   "cell_type": "code",
   "execution_count": null,
   "metadata": {},
   "outputs": [],
   "source": [
    "#Cleaning data for GDP\n"
   ]
  },
  {
   "cell_type": "code",
   "execution_count": 134,
   "metadata": {},
   "outputs": [
    {
     "data": {
      "text/html": [
       "<div>\n",
       "<style scoped>\n",
       "    .dataframe tbody tr th:only-of-type {\n",
       "        vertical-align: middle;\n",
       "    }\n",
       "\n",
       "    .dataframe tbody tr th {\n",
       "        vertical-align: top;\n",
       "    }\n",
       "\n",
       "    .dataframe thead th {\n",
       "        text-align: right;\n",
       "    }\n",
       "</style>\n",
       "<table border=\"1\" class=\"dataframe\">\n",
       "  <thead>\n",
       "    <tr style=\"text-align: right;\">\n",
       "      <th></th>\n",
       "      <th>municipality</th>\n",
       "      <th>price2012 q1</th>\n",
       "      <th>price2012 q2</th>\n",
       "      <th>price2012 q3</th>\n",
       "      <th>price2012 q4</th>\n",
       "      <th>price2013 q1</th>\n",
       "      <th>price2013 q2</th>\n",
       "      <th>price2013 q3</th>\n",
       "      <th>price2013 q4</th>\n",
       "      <th>price2014 q1</th>\n",
       "      <th>...</th>\n",
       "      <th>price2020 q3</th>\n",
       "      <th>price2020 q4</th>\n",
       "      <th>price2021 q1</th>\n",
       "      <th>price2021 q2</th>\n",
       "      <th>price2021 q3</th>\n",
       "      <th>price2021 q4</th>\n",
       "      <th>price2022 q1</th>\n",
       "      <th>price2022 q2</th>\n",
       "      <th>price2022 q3</th>\n",
       "      <th>price2022 q4</th>\n",
       "    </tr>\n",
       "  </thead>\n",
       "  <tbody>\n",
       "    <tr>\n",
       "      <th>0</th>\n",
       "      <td>Hele landet</td>\n",
       "      <td>10972</td>\n",
       "      <td>11072</td>\n",
       "      <td>11084</td>\n",
       "      <td>10931</td>\n",
       "      <td>11041</td>\n",
       "      <td>11167</td>\n",
       "      <td>11128</td>\n",
       "      <td>11082</td>\n",
       "      <td>11100</td>\n",
       "      <td>...</td>\n",
       "      <td>14752</td>\n",
       "      <td>15076</td>\n",
       "      <td>15736</td>\n",
       "      <td>16377</td>\n",
       "      <td>16595</td>\n",
       "      <td>16528</td>\n",
       "      <td>16747</td>\n",
       "      <td>16898</td>\n",
       "      <td>16412</td>\n",
       "      <td>15491</td>\n",
       "    </tr>\n",
       "    <tr>\n",
       "      <th>1</th>\n",
       "      <td>København</td>\n",
       "      <td>22289</td>\n",
       "      <td>23782</td>\n",
       "      <td>23343</td>\n",
       "      <td>22932</td>\n",
       "      <td>24217</td>\n",
       "      <td>24611</td>\n",
       "      <td>24334</td>\n",
       "      <td>25883</td>\n",
       "      <td>25429</td>\n",
       "      <td>...</td>\n",
       "      <td>40458</td>\n",
       "      <td>42173</td>\n",
       "      <td>45636</td>\n",
       "      <td>46966</td>\n",
       "      <td>49455</td>\n",
       "      <td>47726</td>\n",
       "      <td>48374</td>\n",
       "      <td>50551</td>\n",
       "      <td>48954</td>\n",
       "      <td>42327</td>\n",
       "    </tr>\n",
       "    <tr>\n",
       "      <th>2</th>\n",
       "      <td>Frederiksberg</td>\n",
       "      <td>27052</td>\n",
       "      <td>27321</td>\n",
       "      <td>33137</td>\n",
       "      <td>34696</td>\n",
       "      <td>35653</td>\n",
       "      <td>34015</td>\n",
       "      <td>30697</td>\n",
       "      <td>33955</td>\n",
       "      <td>38057</td>\n",
       "      <td>...</td>\n",
       "      <td>54290</td>\n",
       "      <td>64237</td>\n",
       "      <td>63713</td>\n",
       "      <td>74204</td>\n",
       "      <td>73317</td>\n",
       "      <td>77872</td>\n",
       "      <td>80966</td>\n",
       "      <td>90034</td>\n",
       "      <td>76108</td>\n",
       "      <td>54166</td>\n",
       "    </tr>\n",
       "    <tr>\n",
       "      <th>3</th>\n",
       "      <td>Dragør</td>\n",
       "      <td>23083</td>\n",
       "      <td>19853</td>\n",
       "      <td>20733</td>\n",
       "      <td>21718</td>\n",
       "      <td>22948</td>\n",
       "      <td>23766</td>\n",
       "      <td>23803</td>\n",
       "      <td>23063</td>\n",
       "      <td>24022</td>\n",
       "      <td>...</td>\n",
       "      <td>33646</td>\n",
       "      <td>31565</td>\n",
       "      <td>35614</td>\n",
       "      <td>39863</td>\n",
       "      <td>37155</td>\n",
       "      <td>38977</td>\n",
       "      <td>39221</td>\n",
       "      <td>39417</td>\n",
       "      <td>41378</td>\n",
       "      <td>34750</td>\n",
       "    </tr>\n",
       "    <tr>\n",
       "      <th>4</th>\n",
       "      <td>Tårnby</td>\n",
       "      <td>17417</td>\n",
       "      <td>18042</td>\n",
       "      <td>19078</td>\n",
       "      <td>18386</td>\n",
       "      <td>18540</td>\n",
       "      <td>19386</td>\n",
       "      <td>21018</td>\n",
       "      <td>20756</td>\n",
       "      <td>20155</td>\n",
       "      <td>...</td>\n",
       "      <td>29363</td>\n",
       "      <td>29819</td>\n",
       "      <td>32239</td>\n",
       "      <td>36583</td>\n",
       "      <td>36839</td>\n",
       "      <td>34563</td>\n",
       "      <td>35810</td>\n",
       "      <td>35703</td>\n",
       "      <td>33769</td>\n",
       "      <td>29328</td>\n",
       "    </tr>\n",
       "  </tbody>\n",
       "</table>\n",
       "<p>5 rows × 45 columns</p>\n",
       "</div>"
      ],
      "text/plain": [
       "    municipality price2012 q1 price2012 q2 price2012 q3 price2012 q4  \\\n",
       "0    Hele landet        10972        11072        11084        10931   \n",
       "1      København        22289        23782        23343        22932   \n",
       "2  Frederiksberg        27052        27321        33137        34696   \n",
       "3         Dragør        23083        19853        20733        21718   \n",
       "4         Tårnby        17417        18042        19078        18386   \n",
       "\n",
       "   price2013 q1 price2013 q2 price2013 q3 price2013 q4 price2014 q1  ...  \\\n",
       "0         11041        11167        11128        11082        11100  ...   \n",
       "1         24217        24611        24334        25883        25429  ...   \n",
       "2         35653        34015        30697        33955        38057  ...   \n",
       "3         22948        23766        23803        23063        24022  ...   \n",
       "4         18540        19386        21018        20756        20155  ...   \n",
       "\n",
       "  price2020 q3 price2020 q4 price2021 q1 price2021 q2 price2021 q3  \\\n",
       "0        14752        15076        15736        16377        16595   \n",
       "1        40458        42173        45636        46966        49455   \n",
       "2        54290        64237        63713        74204        73317   \n",
       "3        33646        31565        35614        39863        37155   \n",
       "4        29363        29819        32239        36583        36839   \n",
       "\n",
       "  price2021 q4 price2022 q1 price2022 q2  price2022 q3  price2022 q4  \n",
       "0        16528        16747        16898         16412         15491  \n",
       "1        47726        48374        50551         48954         42327  \n",
       "2        77872        80966        90034         76108         54166  \n",
       "3        38977        39221        39417         41378         34750  \n",
       "4        34563        35810        35703         33769         29328  \n",
       "\n",
       "[5 rows x 45 columns]"
      ]
     },
     "execution_count": 134,
     "metadata": {},
     "output_type": "execute_result"
    }
   ],
   "source": [
    "#Cleaning data for Houseprices \n",
    "\n",
    "#Giving a column title for the municipalities:\n",
    "df_hp.rename(columns={'Unnamed: 2': 'municipality'}, inplace=True)\n",
    "\n",
    "#Removing the columns that is not used\n",
    "del df_hp['Unnamed: 0']\n",
    "del df_hp['Unnamed: 1']\n",
    "\n",
    "#Renaming time colums 1992K1 -> price1992 q1\n",
    "timecolumn_dict = {} \n",
    "for y in range(2012,2022+1): \n",
    "    for k in range(1,4+1): \n",
    "        q_from = f'{y}K{k}'\n",
    "        q_to   = f'price{y} q{k}'\n",
    "        timecolumn_dict[q_from] = q_to\n",
    "df_hp = df_hp.rename(columns = timecolumn_dict)\n",
    "\n",
    "#Dropping missing values\n",
    "df_hp = df_hp.dropna()\n",
    "\n",
    "\n",
    "df_hp.head()"
   ]
  },
  {
   "cell_type": "code",
   "execution_count": 137,
   "metadata": {},
   "outputs": [
    {
     "data": {
      "text/html": [
       "<div>\n",
       "<style scoped>\n",
       "    .dataframe tbody tr th:only-of-type {\n",
       "        vertical-align: middle;\n",
       "    }\n",
       "\n",
       "    .dataframe tbody tr th {\n",
       "        vertical-align: top;\n",
       "    }\n",
       "\n",
       "    .dataframe thead th {\n",
       "        text-align: right;\n",
       "    }\n",
       "</style>\n",
       "<table border=\"1\" class=\"dataframe\">\n",
       "  <thead>\n",
       "    <tr style=\"text-align: right;\">\n",
       "      <th></th>\n",
       "      <th>price2013 q1</th>\n",
       "      <th>price2016 q2</th>\n",
       "      <th>price2016 q3</th>\n",
       "      <th>price2016 q4</th>\n",
       "      <th>price2017 q3</th>\n",
       "      <th>price2017 q4</th>\n",
       "      <th>price2018 q1</th>\n",
       "      <th>price2018 q3</th>\n",
       "      <th>price2019 q1</th>\n",
       "      <th>price2019 q2</th>\n",
       "      <th>price2019 q3</th>\n",
       "      <th>price2019 q4</th>\n",
       "      <th>price2020 q2</th>\n",
       "      <th>price2020 q4</th>\n",
       "      <th>price2021 q1</th>\n",
       "      <th>price2021 q2</th>\n",
       "      <th>price2021 q3</th>\n",
       "      <th>price2022 q1</th>\n",
       "    </tr>\n",
       "  </thead>\n",
       "  <tbody>\n",
       "    <tr>\n",
       "      <th>count</th>\n",
       "      <td>99.000000</td>\n",
       "      <td>99.000000</td>\n",
       "      <td>99.000000</td>\n",
       "      <td>99.000000</td>\n",
       "      <td>99.000000</td>\n",
       "      <td>99.000000</td>\n",
       "      <td>99.000000</td>\n",
       "      <td>99.000000</td>\n",
       "      <td>99.000000</td>\n",
       "      <td>99.000000</td>\n",
       "      <td>99.000000</td>\n",
       "      <td>99.000000</td>\n",
       "      <td>99.000000</td>\n",
       "      <td>99.000000</td>\n",
       "      <td>99.000000</td>\n",
       "      <td>99.000000</td>\n",
       "      <td>99.000000</td>\n",
       "      <td>99.000000</td>\n",
       "    </tr>\n",
       "    <tr>\n",
       "      <th>mean</th>\n",
       "      <td>11584.212121</td>\n",
       "      <td>13308.202020</td>\n",
       "      <td>13398.494949</td>\n",
       "      <td>13333.464646</td>\n",
       "      <td>14044.808081</td>\n",
       "      <td>14073.151515</td>\n",
       "      <td>14257.212121</td>\n",
       "      <td>14655.434343</td>\n",
       "      <td>14515.525253</td>\n",
       "      <td>14950.555556</td>\n",
       "      <td>15027.797980</td>\n",
       "      <td>15086.212121</td>\n",
       "      <td>15326.353535</td>\n",
       "      <td>16156.929293</td>\n",
       "      <td>16876.484848</td>\n",
       "      <td>17797.757576</td>\n",
       "      <td>18007.666667</td>\n",
       "      <td>18288.494949</td>\n",
       "    </tr>\n",
       "    <tr>\n",
       "      <th>std</th>\n",
       "      <td>6151.255638</td>\n",
       "      <td>8045.081508</td>\n",
       "      <td>8077.341822</td>\n",
       "      <td>8136.096769</td>\n",
       "      <td>8869.715439</td>\n",
       "      <td>8942.745513</td>\n",
       "      <td>8919.626617</td>\n",
       "      <td>8987.988865</td>\n",
       "      <td>9044.633961</td>\n",
       "      <td>9236.066443</td>\n",
       "      <td>9286.963506</td>\n",
       "      <td>9612.462419</td>\n",
       "      <td>9675.658839</td>\n",
       "      <td>10839.403469</td>\n",
       "      <td>11376.872476</td>\n",
       "      <td>12561.635234</td>\n",
       "      <td>12827.987292</td>\n",
       "      <td>13375.719587</td>\n",
       "    </tr>\n",
       "    <tr>\n",
       "      <th>min</th>\n",
       "      <td>4591.000000</td>\n",
       "      <td>3753.000000</td>\n",
       "      <td>3542.000000</td>\n",
       "      <td>3341.000000</td>\n",
       "      <td>4015.000000</td>\n",
       "      <td>4041.000000</td>\n",
       "      <td>4270.000000</td>\n",
       "      <td>4885.000000</td>\n",
       "      <td>3845.000000</td>\n",
       "      <td>3577.000000</td>\n",
       "      <td>3782.000000</td>\n",
       "      <td>3300.000000</td>\n",
       "      <td>3860.000000</td>\n",
       "      <td>4088.000000</td>\n",
       "      <td>4553.000000</td>\n",
       "      <td>5134.000000</td>\n",
       "      <td>4746.000000</td>\n",
       "      <td>4872.000000</td>\n",
       "    </tr>\n",
       "    <tr>\n",
       "      <th>25%</th>\n",
       "      <td>7051.000000</td>\n",
       "      <td>7516.000000</td>\n",
       "      <td>7317.000000</td>\n",
       "      <td>7141.000000</td>\n",
       "      <td>7499.500000</td>\n",
       "      <td>7291.500000</td>\n",
       "      <td>7472.500000</td>\n",
       "      <td>7678.500000</td>\n",
       "      <td>7515.500000</td>\n",
       "      <td>7796.000000</td>\n",
       "      <td>7892.500000</td>\n",
       "      <td>7987.000000</td>\n",
       "      <td>7955.500000</td>\n",
       "      <td>8364.000000</td>\n",
       "      <td>8348.000000</td>\n",
       "      <td>8826.500000</td>\n",
       "      <td>8800.500000</td>\n",
       "      <td>8683.000000</td>\n",
       "    </tr>\n",
       "    <tr>\n",
       "      <th>50%</th>\n",
       "      <td>9591.000000</td>\n",
       "      <td>10465.000000</td>\n",
       "      <td>10570.000000</td>\n",
       "      <td>10560.000000</td>\n",
       "      <td>10857.000000</td>\n",
       "      <td>10651.000000</td>\n",
       "      <td>11158.000000</td>\n",
       "      <td>11458.000000</td>\n",
       "      <td>11228.000000</td>\n",
       "      <td>11722.000000</td>\n",
       "      <td>11660.000000</td>\n",
       "      <td>11738.000000</td>\n",
       "      <td>12061.000000</td>\n",
       "      <td>11972.000000</td>\n",
       "      <td>12297.000000</td>\n",
       "      <td>13131.000000</td>\n",
       "      <td>12833.000000</td>\n",
       "      <td>13136.000000</td>\n",
       "    </tr>\n",
       "    <tr>\n",
       "      <th>75%</th>\n",
       "      <td>15836.500000</td>\n",
       "      <td>19116.000000</td>\n",
       "      <td>19488.000000</td>\n",
       "      <td>19382.500000</td>\n",
       "      <td>20122.500000</td>\n",
       "      <td>19739.000000</td>\n",
       "      <td>20351.500000</td>\n",
       "      <td>20486.000000</td>\n",
       "      <td>20970.000000</td>\n",
       "      <td>21202.500000</td>\n",
       "      <td>20890.500000</td>\n",
       "      <td>21494.000000</td>\n",
       "      <td>21605.000000</td>\n",
       "      <td>23290.500000</td>\n",
       "      <td>24441.500000</td>\n",
       "      <td>24928.000000</td>\n",
       "      <td>25350.000000</td>\n",
       "      <td>25932.000000</td>\n",
       "    </tr>\n",
       "    <tr>\n",
       "      <th>max</th>\n",
       "      <td>35653.000000</td>\n",
       "      <td>44624.000000</td>\n",
       "      <td>42008.000000</td>\n",
       "      <td>42545.000000</td>\n",
       "      <td>52597.000000</td>\n",
       "      <td>53700.000000</td>\n",
       "      <td>49203.000000</td>\n",
       "      <td>49540.000000</td>\n",
       "      <td>48487.000000</td>\n",
       "      <td>50732.000000</td>\n",
       "      <td>48625.000000</td>\n",
       "      <td>53979.000000</td>\n",
       "      <td>52770.000000</td>\n",
       "      <td>64237.000000</td>\n",
       "      <td>63713.000000</td>\n",
       "      <td>74204.000000</td>\n",
       "      <td>73317.000000</td>\n",
       "      <td>80966.000000</td>\n",
       "    </tr>\n",
       "  </tbody>\n",
       "</table>\n",
       "</div>"
      ],
      "text/plain": [
       "       price2013 q1  price2016 q2  price2016 q3  price2016 q4  price2017 q3  \\\n",
       "count     99.000000     99.000000     99.000000     99.000000     99.000000   \n",
       "mean   11584.212121  13308.202020  13398.494949  13333.464646  14044.808081   \n",
       "std     6151.255638   8045.081508   8077.341822   8136.096769   8869.715439   \n",
       "min     4591.000000   3753.000000   3542.000000   3341.000000   4015.000000   \n",
       "25%     7051.000000   7516.000000   7317.000000   7141.000000   7499.500000   \n",
       "50%     9591.000000  10465.000000  10570.000000  10560.000000  10857.000000   \n",
       "75%    15836.500000  19116.000000  19488.000000  19382.500000  20122.500000   \n",
       "max    35653.000000  44624.000000  42008.000000  42545.000000  52597.000000   \n",
       "\n",
       "       price2017 q4  price2018 q1  price2018 q3  price2019 q1  price2019 q2  \\\n",
       "count     99.000000     99.000000     99.000000     99.000000     99.000000   \n",
       "mean   14073.151515  14257.212121  14655.434343  14515.525253  14950.555556   \n",
       "std     8942.745513   8919.626617   8987.988865   9044.633961   9236.066443   \n",
       "min     4041.000000   4270.000000   4885.000000   3845.000000   3577.000000   \n",
       "25%     7291.500000   7472.500000   7678.500000   7515.500000   7796.000000   \n",
       "50%    10651.000000  11158.000000  11458.000000  11228.000000  11722.000000   \n",
       "75%    19739.000000  20351.500000  20486.000000  20970.000000  21202.500000   \n",
       "max    53700.000000  49203.000000  49540.000000  48487.000000  50732.000000   \n",
       "\n",
       "       price2019 q3  price2019 q4  price2020 q2  price2020 q4  price2021 q1  \\\n",
       "count     99.000000     99.000000     99.000000     99.000000     99.000000   \n",
       "mean   15027.797980  15086.212121  15326.353535  16156.929293  16876.484848   \n",
       "std     9286.963506   9612.462419   9675.658839  10839.403469  11376.872476   \n",
       "min     3782.000000   3300.000000   3860.000000   4088.000000   4553.000000   \n",
       "25%     7892.500000   7987.000000   7955.500000   8364.000000   8348.000000   \n",
       "50%    11660.000000  11738.000000  12061.000000  11972.000000  12297.000000   \n",
       "75%    20890.500000  21494.000000  21605.000000  23290.500000  24441.500000   \n",
       "max    48625.000000  53979.000000  52770.000000  64237.000000  63713.000000   \n",
       "\n",
       "       price2021 q2  price2021 q3  price2022 q1  \n",
       "count     99.000000     99.000000     99.000000  \n",
       "mean   17797.757576  18007.666667  18288.494949  \n",
       "std    12561.635234  12827.987292  13375.719587  \n",
       "min     5134.000000   4746.000000   4872.000000  \n",
       "25%     8826.500000   8800.500000   8683.000000  \n",
       "50%    13131.000000  12833.000000  13136.000000  \n",
       "75%    24928.000000  25350.000000  25932.000000  \n",
       "max    74204.000000  73317.000000  80966.000000  "
      ]
     },
     "execution_count": 137,
     "metadata": {},
     "output_type": "execute_result"
    }
   ],
   "source": [
    "#Producing a summary statistics for house prices\n",
    "df_hp.describe()"
   ]
  },
  {
   "cell_type": "markdown",
   "metadata": {},
   "source": [
    "## Explore each data set"
   ]
  },
  {
   "cell_type": "markdown",
   "metadata": {},
   "source": [
    "In order to be able to **explore the raw data**, you may provide **static** and **interactive plots** to show important developments "
   ]
  },
  {
   "cell_type": "markdown",
   "metadata": {},
   "source": [
    "**Interactive plot** :"
   ]
  },
  {
   "cell_type": "code",
   "execution_count": 135,
   "metadata": {},
   "outputs": [
    {
     "data": {
      "application/vnd.jupyter.widget-view+json": {
       "model_id": "7120ded3731544e7a1d5632351957e92",
       "version_major": 2,
       "version_minor": 0
      },
      "text/plain": [
       "interactive(children=(Output(),), _dom_classes=('widget-interact',))"
      ]
     },
     "metadata": {},
     "output_type": "display_data"
    }
   ],
   "source": [
    "def plot_func():\n",
    "    # Function that operates on data set\n",
    "    pass\n",
    "\n",
    "widgets.interact(plot_func, \n",
    "    # Let the widget interact with data through plot_func()    \n",
    "); \n"
   ]
  },
  {
   "cell_type": "markdown",
   "metadata": {},
   "source": [
    "Explain what you see when moving elements of the interactive plot around. "
   ]
  },
  {
   "cell_type": "markdown",
   "metadata": {},
   "source": [
    "# Merge data sets"
   ]
  },
  {
   "cell_type": "markdown",
   "metadata": {},
   "source": [
    "Now you create combinations of your loaded data sets. Remember the illustration of a (inner) **merge**:"
   ]
  },
  {
   "cell_type": "code",
   "execution_count": 136,
   "metadata": {},
   "outputs": [
    {
     "ename": "NameError",
     "evalue": "name 'venn2' is not defined",
     "output_type": "error",
     "traceback": [
      "\u001b[0;31m---------------------------------------------------------------------------\u001b[0m",
      "\u001b[0;31mNameError\u001b[0m                                 Traceback (most recent call last)",
      "\u001b[0;32m/var/folders/yq/b0zj8c9x1gb_6ktg_p7mc2840000gn/T/ipykernel_57137/1190576843.py\u001b[0m in \u001b[0;36m<module>\u001b[0;34m\u001b[0m\n\u001b[1;32m      1\u001b[0m \u001b[0mplt\u001b[0m\u001b[0;34m.\u001b[0m\u001b[0mfigure\u001b[0m\u001b[0;34m(\u001b[0m\u001b[0mfigsize\u001b[0m\u001b[0;34m=\u001b[0m\u001b[0;34m(\u001b[0m\u001b[0;36m15\u001b[0m\u001b[0;34m,\u001b[0m\u001b[0;36m7\u001b[0m\u001b[0;34m)\u001b[0m\u001b[0;34m)\u001b[0m\u001b[0;34m\u001b[0m\u001b[0;34m\u001b[0m\u001b[0m\n\u001b[0;32m----> 2\u001b[0;31m \u001b[0mv\u001b[0m \u001b[0;34m=\u001b[0m \u001b[0mvenn2\u001b[0m\u001b[0;34m(\u001b[0m\u001b[0msubsets\u001b[0m \u001b[0;34m=\u001b[0m \u001b[0;34m(\u001b[0m\u001b[0;36m4\u001b[0m\u001b[0;34m,\u001b[0m \u001b[0;36m4\u001b[0m\u001b[0;34m,\u001b[0m \u001b[0;36m10\u001b[0m\u001b[0;34m)\u001b[0m\u001b[0;34m,\u001b[0m \u001b[0mset_labels\u001b[0m \u001b[0;34m=\u001b[0m \u001b[0;34m(\u001b[0m\u001b[0;34m'Data X'\u001b[0m\u001b[0;34m,\u001b[0m \u001b[0;34m'Data Y'\u001b[0m\u001b[0;34m)\u001b[0m\u001b[0;34m)\u001b[0m\u001b[0;34m\u001b[0m\u001b[0;34m\u001b[0m\u001b[0m\n\u001b[0m\u001b[1;32m      3\u001b[0m \u001b[0mv\u001b[0m\u001b[0;34m.\u001b[0m\u001b[0mget_label_by_id\u001b[0m\u001b[0;34m(\u001b[0m\u001b[0;34m'100'\u001b[0m\u001b[0;34m)\u001b[0m\u001b[0;34m.\u001b[0m\u001b[0mset_text\u001b[0m\u001b[0;34m(\u001b[0m\u001b[0;34m'dropped'\u001b[0m\u001b[0;34m)\u001b[0m\u001b[0;34m\u001b[0m\u001b[0;34m\u001b[0m\u001b[0m\n\u001b[1;32m      4\u001b[0m \u001b[0mv\u001b[0m\u001b[0;34m.\u001b[0m\u001b[0mget_label_by_id\u001b[0m\u001b[0;34m(\u001b[0m\u001b[0;34m'010'\u001b[0m\u001b[0;34m)\u001b[0m\u001b[0;34m.\u001b[0m\u001b[0mset_text\u001b[0m\u001b[0;34m(\u001b[0m\u001b[0;34m'dropped'\u001b[0m \u001b[0;34m)\u001b[0m\u001b[0;34m\u001b[0m\u001b[0;34m\u001b[0m\u001b[0m\n\u001b[1;32m      5\u001b[0m \u001b[0mv\u001b[0m\u001b[0;34m.\u001b[0m\u001b[0mget_label_by_id\u001b[0m\u001b[0;34m(\u001b[0m\u001b[0;34m'110'\u001b[0m\u001b[0;34m)\u001b[0m\u001b[0;34m.\u001b[0m\u001b[0mset_text\u001b[0m\u001b[0;34m(\u001b[0m\u001b[0;34m'included'\u001b[0m\u001b[0;34m)\u001b[0m\u001b[0;34m\u001b[0m\u001b[0;34m\u001b[0m\u001b[0m\n",
      "\u001b[0;31mNameError\u001b[0m: name 'venn2' is not defined"
     ]
    },
    {
     "data": {
      "text/plain": [
       "<Figure size 1500x700 with 0 Axes>"
      ]
     },
     "metadata": {},
     "output_type": "display_data"
    }
   ],
   "source": [
    "plt.figure(figsize=(15,7))\n",
    "v = venn2(subsets = (4, 4, 10), set_labels = ('Data X', 'Data Y'))\n",
    "v.get_label_by_id('100').set_text('dropped')\n",
    "v.get_label_by_id('010').set_text('dropped' )\n",
    "v.get_label_by_id('110').set_text('included')\n",
    "plt.show()"
   ]
  },
  {
   "cell_type": "markdown",
   "metadata": {},
   "source": [
    "Here we are dropping elements from both data set X and data set Y. A left join would keep all observations in data X intact and subset only from Y. \n",
    "\n",
    "Make sure that your resulting data sets have the correct number of rows and columns. That is, be clear about which observations are thrown away. \n",
    "\n",
    "**Note:** Don't make Venn diagrams in your own data project. It is just for exposition. "
   ]
  },
  {
   "cell_type": "markdown",
   "metadata": {},
   "source": [
    "# Analysis"
   ]
  },
  {
   "cell_type": "markdown",
   "metadata": {},
   "source": [
    "To get a quick overview of the data, we show some **summary statistics** on a meaningful aggregation. "
   ]
  },
  {
   "cell_type": "markdown",
   "metadata": {},
   "source": [
    "MAKE FURTHER ANALYSIS. EXPLAIN THE CODE BRIEFLY AND SUMMARIZE THE RESULTS."
   ]
  },
  {
   "cell_type": "markdown",
   "metadata": {},
   "source": [
    "# Conclusion"
   ]
  },
  {
   "attachments": {},
   "cell_type": "markdown",
   "metadata": {},
   "source": [
    "ADD CONCISE CONLUSION. tester 123"
   ]
  }
 ],
 "metadata": {
  "kernelspec": {
   "display_name": "base",
   "language": "python",
   "name": "python3"
  },
  "language_info": {
   "codemirror_mode": {
    "name": "ipython",
    "version": 3
   },
   "file_extension": ".py",
   "mimetype": "text/x-python",
   "name": "python",
   "nbconvert_exporter": "python",
   "pygments_lexer": "ipython3",
   "version": "3.9.13"
  },
  "toc-autonumbering": true,
  "vscode": {
   "interpreter": {
    "hash": "545c8d92fb4c24119f13202458cf7a7750e646aaf47478867c31e3beae5469ad"
   }
  }
 },
 "nbformat": 4,
 "nbformat_minor": 4
}
