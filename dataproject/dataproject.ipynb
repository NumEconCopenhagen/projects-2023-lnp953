{
 "cells": [
  {
   "attachments": {},
   "cell_type": "markdown",
   "metadata": {},
   "source": [
    "# The evolution of the House Price Index and GDP in Denmark"
   ]
  },
  {
   "cell_type": "code",
   "execution_count": 1195,
   "metadata": {},
   "outputs": [
    {
     "name": "stdout",
     "output_type": "stream",
     "text": [
      "The autoreload extension is already loaded. To reload it, use:\n",
      "  %reload_ext autoreload\n"
     ]
    }
   ],
   "source": [
    "#importing and setting magics\n",
    "import pandas as pd\n",
    "import numpy as np\n",
    "import matplotlib.pyplot as plt\n",
    "import plotly.graph_objs as go\n",
    "import ipywidgets as widgets\n",
    "from ipywidgets import interact, Dropdown\n",
    "from IPython.display import display\n",
    "from matplotlib_venn import venn2 \n",
    "plt.style.use('seaborn-whitegrid')\n",
    "\n",
    "\n",
    "# autoreload modules when code is run\n",
    "%load_ext autoreload\n",
    "%autoreload 2\n",
    "\n",
    "# user written modules\n",
    "import dataproject\n"
   ]
  },
  {
   "attachments": {},
   "cell_type": "markdown",
   "metadata": {},
   "source": [
    "# Loading and cleaning data for GDP in Denmark from 2012-2022"
   ]
  },
  {
   "attachments": {},
   "cell_type": "markdown",
   "metadata": {},
   "source": [
    "The data for is downloaded from \"Danmarks Statistik\": NAN1 for GDP and EJ66 for HPI. "
   ]
  },
  {
   "cell_type": "code",
   "execution_count": 1196,
   "metadata": {},
   "outputs": [
    {
     "data": {
      "text/html": [
       "<div>\n",
       "<style scoped>\n",
       "    .dataframe tbody tr th:only-of-type {\n",
       "        vertical-align: middle;\n",
       "    }\n",
       "\n",
       "    .dataframe tbody tr th {\n",
       "        vertical-align: top;\n",
       "    }\n",
       "\n",
       "    .dataframe thead th {\n",
       "        text-align: right;\n",
       "    }\n",
       "</style>\n",
       "<table border=\"1\" class=\"dataframe\">\n",
       "  <thead>\n",
       "    <tr style=\"text-align: right;\">\n",
       "      <th></th>\n",
       "      <th>Unnamed: 0</th>\n",
       "      <th>Unnamed: 1</th>\n",
       "      <th>2012</th>\n",
       "      <th>2013</th>\n",
       "      <th>2014</th>\n",
       "      <th>2015</th>\n",
       "      <th>2016</th>\n",
       "      <th>2017</th>\n",
       "      <th>2018</th>\n",
       "      <th>2019</th>\n",
       "      <th>2020</th>\n",
       "      <th>2021</th>\n",
       "      <th>2022</th>\n",
       "    </tr>\n",
       "  </thead>\n",
       "  <tbody>\n",
       "    <tr>\n",
       "      <th>0</th>\n",
       "      <td>NaN</td>\n",
       "      <td>Løbende priser, (mia. kr.)</td>\n",
       "      <td>1895.0</td>\n",
       "      <td>1929.7</td>\n",
       "      <td>1981.2</td>\n",
       "      <td>2036.4</td>\n",
       "      <td>2107.8</td>\n",
       "      <td>2193.0</td>\n",
       "      <td>2253.3</td>\n",
       "      <td>2311.0</td>\n",
       "      <td>2323.9</td>\n",
       "      <td>2504.2</td>\n",
       "      <td>2797.9</td>\n",
       "    </tr>\n",
       "    <tr>\n",
       "      <th>1</th>\n",
       "      <td>NaN</td>\n",
       "      <td>2010-priser, kædede værdier, (mia. kr.)</td>\n",
       "      <td>1839.3</td>\n",
       "      <td>1856.5</td>\n",
       "      <td>1886.5</td>\n",
       "      <td>1930.7</td>\n",
       "      <td>1993.4</td>\n",
       "      <td>2049.6</td>\n",
       "      <td>2090.4</td>\n",
       "      <td>2121.6</td>\n",
       "      <td>2079.3</td>\n",
       "      <td>2180.3</td>\n",
       "      <td>2263.5</td>\n",
       "    </tr>\n",
       "    <tr>\n",
       "      <th>2</th>\n",
       "      <td>NaN</td>\n",
       "      <td>Realvækst i forhold til foregående periode (pct.)</td>\n",
       "      <td>0.2</td>\n",
       "      <td>0.9</td>\n",
       "      <td>1.6</td>\n",
       "      <td>2.3</td>\n",
       "      <td>3.2</td>\n",
       "      <td>2.8</td>\n",
       "      <td>2.0</td>\n",
       "      <td>1.5</td>\n",
       "      <td>-2.0</td>\n",
       "      <td>4.9</td>\n",
       "      <td>3.8</td>\n",
       "    </tr>\n",
       "    <tr>\n",
       "      <th>3</th>\n",
       "      <td>NaN</td>\n",
       "      <td>Pr. indbygger, løbende priser, (1000 kr.)</td>\n",
       "      <td>339.0</td>\n",
       "      <td>343.8</td>\n",
       "      <td>351.1</td>\n",
       "      <td>358.4</td>\n",
       "      <td>367.9</td>\n",
       "      <td>380.4</td>\n",
       "      <td>388.9</td>\n",
       "      <td>397.3</td>\n",
       "      <td>398.6</td>\n",
       "      <td>427.7</td>\n",
       "      <td>473.7</td>\n",
       "    </tr>\n",
       "    <tr>\n",
       "      <th>4</th>\n",
       "      <td>NaN</td>\n",
       "      <td>Bidrag til realvækst i BNP, (procentpoint)</td>\n",
       "      <td>0.2</td>\n",
       "      <td>0.9</td>\n",
       "      <td>1.6</td>\n",
       "      <td>2.3</td>\n",
       "      <td>3.2</td>\n",
       "      <td>2.8</td>\n",
       "      <td>2.0</td>\n",
       "      <td>1.5</td>\n",
       "      <td>-2.0</td>\n",
       "      <td>4.9</td>\n",
       "      <td>3.8</td>\n",
       "    </tr>\n",
       "  </tbody>\n",
       "</table>\n",
       "</div>"
      ],
      "text/plain": [
       "   Unnamed: 0                                         Unnamed: 1    2012  \\\n",
       "0         NaN                         Løbende priser, (mia. kr.)  1895.0   \n",
       "1         NaN            2010-priser, kædede værdier, (mia. kr.)  1839.3   \n",
       "2         NaN  Realvækst i forhold til foregående periode (pct.)     0.2   \n",
       "3         NaN          Pr. indbygger, løbende priser, (1000 kr.)   339.0   \n",
       "4         NaN         Bidrag til realvækst i BNP, (procentpoint)     0.2   \n",
       "\n",
       "     2013    2014    2015    2016    2017    2018    2019    2020    2021  \\\n",
       "0  1929.7  1981.2  2036.4  2107.8  2193.0  2253.3  2311.0  2323.9  2504.2   \n",
       "1  1856.5  1886.5  1930.7  1993.4  2049.6  2090.4  2121.6  2079.3  2180.3   \n",
       "2     0.9     1.6     2.3     3.2     2.8     2.0     1.5    -2.0     4.9   \n",
       "3   343.8   351.1   358.4   367.9   380.4   388.9   397.3   398.6   427.7   \n",
       "4     0.9     1.6     2.3     3.2     2.8     2.0     1.5    -2.0     4.9   \n",
       "\n",
       "     2022  \n",
       "0  2797.9  \n",
       "1  2263.5  \n",
       "2     3.8  \n",
       "3   473.7  \n",
       "4     3.8  "
      ]
     },
     "execution_count": 1196,
     "metadata": {},
     "output_type": "execute_result"
    }
   ],
   "source": [
    "#Loading data for GDP\n",
    "df_gdp = pd.read_excel('GDP.xlsx', skiprows=2)\n",
    "\n",
    "df_gdp.head()"
   ]
  },
  {
   "attachments": {},
   "cell_type": "markdown",
   "metadata": {},
   "source": [
    "In this project, I am only interested in examining real GDP growth. In addition to cleaning up the data set and giving titles, I remove all other rows that I will not use in this examination. \n",
    "\n"
   ]
  },
  {
   "cell_type": "code",
   "execution_count": 1197,
   "metadata": {},
   "outputs": [
    {
     "data": {
      "text/html": [
       "<div>\n",
       "<style scoped>\n",
       "    .dataframe tbody tr th:only-of-type {\n",
       "        vertical-align: middle;\n",
       "    }\n",
       "\n",
       "    .dataframe tbody tr th {\n",
       "        vertical-align: top;\n",
       "    }\n",
       "\n",
       "    .dataframe thead th {\n",
       "        text-align: right;\n",
       "    }\n",
       "</style>\n",
       "<table border=\"1\" class=\"dataframe\">\n",
       "  <thead>\n",
       "    <tr style=\"text-align: right;\">\n",
       "      <th></th>\n",
       "      <th></th>\n",
       "      <th>2012</th>\n",
       "      <th>2013</th>\n",
       "      <th>2014</th>\n",
       "      <th>2015</th>\n",
       "      <th>2016</th>\n",
       "      <th>2017</th>\n",
       "      <th>2018</th>\n",
       "      <th>2019</th>\n",
       "      <th>2020</th>\n",
       "      <th>2021</th>\n",
       "      <th>2022</th>\n",
       "    </tr>\n",
       "  </thead>\n",
       "  <tbody>\n",
       "    <tr>\n",
       "      <th>2</th>\n",
       "      <td>Realvækst i forhold til foregående periode (pct.)</td>\n",
       "      <td>0.2</td>\n",
       "      <td>0.9</td>\n",
       "      <td>1.6</td>\n",
       "      <td>2.3</td>\n",
       "      <td>3.2</td>\n",
       "      <td>2.8</td>\n",
       "      <td>2.0</td>\n",
       "      <td>1.5</td>\n",
       "      <td>-2.0</td>\n",
       "      <td>4.9</td>\n",
       "      <td>3.8</td>\n",
       "    </tr>\n",
       "  </tbody>\n",
       "</table>\n",
       "</div>"
      ],
      "text/plain": [
       "                                                      2012  2013  2014  2015  \\\n",
       "2  Realvækst i forhold til foregående periode (pct.)   0.2   0.9   1.6   2.3   \n",
       "\n",
       "   2016  2017  2018  2019  2020  2021  2022  \n",
       "2   3.2   2.8   2.0   1.5  -2.0   4.9   3.8  "
      ]
     },
     "execution_count": 1197,
     "metadata": {},
     "output_type": "execute_result"
    }
   ],
   "source": [
    "#Cleaning data for GDP\n",
    "\n",
    "#Removing the \"Unnamed: 0\" column since it's not used\n",
    "del df_gdp['Unnamed: 0']\n",
    "\n",
    "#Removing the column name \"Unnamed: 1\":\n",
    "df_gdp.rename(columns={'Unnamed: 1': ''}, inplace=True)\n",
    "\n",
    "#Only keeping the GDP growth values\n",
    "I = df_gdp[''] == 'Realvækst i forhold til foregående periode (pct.)'\n",
    "df_gdp = df_gdp[I]\n",
    "\n",
    "#Dropping missing values\n",
    "df_gdp = df_gdp.dropna()\n",
    "\n",
    "\n",
    "df_gdp.head()\n"
   ]
  },
  {
   "attachments": {},
   "cell_type": "markdown",
   "metadata": {},
   "source": [
    "## Interactive plot GDP"
   ]
  },
  {
   "attachments": {},
   "cell_type": "markdown",
   "metadata": {},
   "source": [
    "In the following section I make an interactive line plot of the GDP growth rate in Denmark using Plotly."
   ]
  },
  {
   "attachments": {},
   "cell_type": "markdown",
   "metadata": {},
   "source": [
    "Firstly, I start by transforming the dataframe"
   ]
  },
  {
   "cell_type": "code",
   "execution_count": 1198,
   "metadata": {},
   "outputs": [
    {
     "data": {
      "text/html": [
       "<div>\n",
       "<style scoped>\n",
       "    .dataframe tbody tr th:only-of-type {\n",
       "        vertical-align: middle;\n",
       "    }\n",
       "\n",
       "    .dataframe tbody tr th {\n",
       "        vertical-align: top;\n",
       "    }\n",
       "\n",
       "    .dataframe thead th {\n",
       "        text-align: right;\n",
       "    }\n",
       "</style>\n",
       "<table border=\"1\" class=\"dataframe\">\n",
       "  <thead>\n",
       "    <tr style=\"text-align: right;\">\n",
       "      <th></th>\n",
       "      <th>GDP Growth Rate</th>\n",
       "    </tr>\n",
       "  </thead>\n",
       "  <tbody>\n",
       "    <tr>\n",
       "      <th>2012</th>\n",
       "      <td>0.2</td>\n",
       "    </tr>\n",
       "    <tr>\n",
       "      <th>2013</th>\n",
       "      <td>0.9</td>\n",
       "    </tr>\n",
       "    <tr>\n",
       "      <th>2014</th>\n",
       "      <td>1.6</td>\n",
       "    </tr>\n",
       "    <tr>\n",
       "      <th>2015</th>\n",
       "      <td>2.3</td>\n",
       "    </tr>\n",
       "    <tr>\n",
       "      <th>2016</th>\n",
       "      <td>3.2</td>\n",
       "    </tr>\n",
       "  </tbody>\n",
       "</table>\n",
       "</div>"
      ],
      "text/plain": [
       "      GDP Growth Rate\n",
       "2012              0.2\n",
       "2013              0.9\n",
       "2014              1.6\n",
       "2015              2.3\n",
       "2016              3.2"
      ]
     },
     "execution_count": 1198,
     "metadata": {},
     "output_type": "execute_result"
    }
   ],
   "source": [
    "#Setting the index of the dataframe to the GDP unit column:\n",
    "df_gdp.set_index('', inplace=True)\n",
    "\n",
    "\n",
    "#Transposing so that the years become the index and the columns become the rows:\n",
    "df_gdp = df_gdp.transpose()\n",
    "\n",
    "#Renaming the GDP unit\n",
    "df_gdp.rename(columns={'Realvækst i forhold til foregående periode (pct.)': 'GDP Growth Rate'}, inplace=True)\n",
    "\n",
    "df_gdp.head()"
   ]
  },
  {
   "attachments": {},
   "cell_type": "markdown",
   "metadata": {},
   "source": [
    "By creating a line plot using Plotly, it will be possible for you to hover over the data points and view the exact GDP growth rate for each year."
   ]
  },
  {
   "cell_type": "code",
   "execution_count": 1199,
   "metadata": {},
   "outputs": [
    {
     "data": {
      "application/vnd.plotly.v1+json": {
       "config": {
        "plotlyServerURL": "https://plot.ly"
       },
       "data": [
        {
         "mode": "lines+markers",
         "type": "scatter",
         "x": [
          "2012",
          "2013",
          "2014",
          "2015",
          "2016",
          "2017",
          "2018",
          "2019",
          "2020",
          "2021",
          "2022"
         ],
         "y": [
          0.2,
          0.9,
          1.6,
          2.3,
          3.2,
          2.8,
          2,
          1.5,
          -2,
          4.9,
          3.8
         ]
        }
       ],
       "layout": {
        "template": {
         "data": {
          "bar": [
           {
            "error_x": {
             "color": "#2a3f5f"
            },
            "error_y": {
             "color": "#2a3f5f"
            },
            "marker": {
             "line": {
              "color": "#E5ECF6",
              "width": 0.5
             },
             "pattern": {
              "fillmode": "overlay",
              "size": 10,
              "solidity": 0.2
             }
            },
            "type": "bar"
           }
          ],
          "barpolar": [
           {
            "marker": {
             "line": {
              "color": "#E5ECF6",
              "width": 0.5
             },
             "pattern": {
              "fillmode": "overlay",
              "size": 10,
              "solidity": 0.2
             }
            },
            "type": "barpolar"
           }
          ],
          "carpet": [
           {
            "aaxis": {
             "endlinecolor": "#2a3f5f",
             "gridcolor": "white",
             "linecolor": "white",
             "minorgridcolor": "white",
             "startlinecolor": "#2a3f5f"
            },
            "baxis": {
             "endlinecolor": "#2a3f5f",
             "gridcolor": "white",
             "linecolor": "white",
             "minorgridcolor": "white",
             "startlinecolor": "#2a3f5f"
            },
            "type": "carpet"
           }
          ],
          "choropleth": [
           {
            "colorbar": {
             "outlinewidth": 0,
             "ticks": ""
            },
            "type": "choropleth"
           }
          ],
          "contour": [
           {
            "colorbar": {
             "outlinewidth": 0,
             "ticks": ""
            },
            "colorscale": [
             [
              0,
              "#0d0887"
             ],
             [
              0.1111111111111111,
              "#46039f"
             ],
             [
              0.2222222222222222,
              "#7201a8"
             ],
             [
              0.3333333333333333,
              "#9c179e"
             ],
             [
              0.4444444444444444,
              "#bd3786"
             ],
             [
              0.5555555555555556,
              "#d8576b"
             ],
             [
              0.6666666666666666,
              "#ed7953"
             ],
             [
              0.7777777777777778,
              "#fb9f3a"
             ],
             [
              0.8888888888888888,
              "#fdca26"
             ],
             [
              1,
              "#f0f921"
             ]
            ],
            "type": "contour"
           }
          ],
          "contourcarpet": [
           {
            "colorbar": {
             "outlinewidth": 0,
             "ticks": ""
            },
            "type": "contourcarpet"
           }
          ],
          "heatmap": [
           {
            "colorbar": {
             "outlinewidth": 0,
             "ticks": ""
            },
            "colorscale": [
             [
              0,
              "#0d0887"
             ],
             [
              0.1111111111111111,
              "#46039f"
             ],
             [
              0.2222222222222222,
              "#7201a8"
             ],
             [
              0.3333333333333333,
              "#9c179e"
             ],
             [
              0.4444444444444444,
              "#bd3786"
             ],
             [
              0.5555555555555556,
              "#d8576b"
             ],
             [
              0.6666666666666666,
              "#ed7953"
             ],
             [
              0.7777777777777778,
              "#fb9f3a"
             ],
             [
              0.8888888888888888,
              "#fdca26"
             ],
             [
              1,
              "#f0f921"
             ]
            ],
            "type": "heatmap"
           }
          ],
          "heatmapgl": [
           {
            "colorbar": {
             "outlinewidth": 0,
             "ticks": ""
            },
            "colorscale": [
             [
              0,
              "#0d0887"
             ],
             [
              0.1111111111111111,
              "#46039f"
             ],
             [
              0.2222222222222222,
              "#7201a8"
             ],
             [
              0.3333333333333333,
              "#9c179e"
             ],
             [
              0.4444444444444444,
              "#bd3786"
             ],
             [
              0.5555555555555556,
              "#d8576b"
             ],
             [
              0.6666666666666666,
              "#ed7953"
             ],
             [
              0.7777777777777778,
              "#fb9f3a"
             ],
             [
              0.8888888888888888,
              "#fdca26"
             ],
             [
              1,
              "#f0f921"
             ]
            ],
            "type": "heatmapgl"
           }
          ],
          "histogram": [
           {
            "marker": {
             "pattern": {
              "fillmode": "overlay",
              "size": 10,
              "solidity": 0.2
             }
            },
            "type": "histogram"
           }
          ],
          "histogram2d": [
           {
            "colorbar": {
             "outlinewidth": 0,
             "ticks": ""
            },
            "colorscale": [
             [
              0,
              "#0d0887"
             ],
             [
              0.1111111111111111,
              "#46039f"
             ],
             [
              0.2222222222222222,
              "#7201a8"
             ],
             [
              0.3333333333333333,
              "#9c179e"
             ],
             [
              0.4444444444444444,
              "#bd3786"
             ],
             [
              0.5555555555555556,
              "#d8576b"
             ],
             [
              0.6666666666666666,
              "#ed7953"
             ],
             [
              0.7777777777777778,
              "#fb9f3a"
             ],
             [
              0.8888888888888888,
              "#fdca26"
             ],
             [
              1,
              "#f0f921"
             ]
            ],
            "type": "histogram2d"
           }
          ],
          "histogram2dcontour": [
           {
            "colorbar": {
             "outlinewidth": 0,
             "ticks": ""
            },
            "colorscale": [
             [
              0,
              "#0d0887"
             ],
             [
              0.1111111111111111,
              "#46039f"
             ],
             [
              0.2222222222222222,
              "#7201a8"
             ],
             [
              0.3333333333333333,
              "#9c179e"
             ],
             [
              0.4444444444444444,
              "#bd3786"
             ],
             [
              0.5555555555555556,
              "#d8576b"
             ],
             [
              0.6666666666666666,
              "#ed7953"
             ],
             [
              0.7777777777777778,
              "#fb9f3a"
             ],
             [
              0.8888888888888888,
              "#fdca26"
             ],
             [
              1,
              "#f0f921"
             ]
            ],
            "type": "histogram2dcontour"
           }
          ],
          "mesh3d": [
           {
            "colorbar": {
             "outlinewidth": 0,
             "ticks": ""
            },
            "type": "mesh3d"
           }
          ],
          "parcoords": [
           {
            "line": {
             "colorbar": {
              "outlinewidth": 0,
              "ticks": ""
             }
            },
            "type": "parcoords"
           }
          ],
          "pie": [
           {
            "automargin": true,
            "type": "pie"
           }
          ],
          "scatter": [
           {
            "fillpattern": {
             "fillmode": "overlay",
             "size": 10,
             "solidity": 0.2
            },
            "type": "scatter"
           }
          ],
          "scatter3d": [
           {
            "line": {
             "colorbar": {
              "outlinewidth": 0,
              "ticks": ""
             }
            },
            "marker": {
             "colorbar": {
              "outlinewidth": 0,
              "ticks": ""
             }
            },
            "type": "scatter3d"
           }
          ],
          "scattercarpet": [
           {
            "marker": {
             "colorbar": {
              "outlinewidth": 0,
              "ticks": ""
             }
            },
            "type": "scattercarpet"
           }
          ],
          "scattergeo": [
           {
            "marker": {
             "colorbar": {
              "outlinewidth": 0,
              "ticks": ""
             }
            },
            "type": "scattergeo"
           }
          ],
          "scattergl": [
           {
            "marker": {
             "colorbar": {
              "outlinewidth": 0,
              "ticks": ""
             }
            },
            "type": "scattergl"
           }
          ],
          "scattermapbox": [
           {
            "marker": {
             "colorbar": {
              "outlinewidth": 0,
              "ticks": ""
             }
            },
            "type": "scattermapbox"
           }
          ],
          "scatterpolar": [
           {
            "marker": {
             "colorbar": {
              "outlinewidth": 0,
              "ticks": ""
             }
            },
            "type": "scatterpolar"
           }
          ],
          "scatterpolargl": [
           {
            "marker": {
             "colorbar": {
              "outlinewidth": 0,
              "ticks": ""
             }
            },
            "type": "scatterpolargl"
           }
          ],
          "scatterternary": [
           {
            "marker": {
             "colorbar": {
              "outlinewidth": 0,
              "ticks": ""
             }
            },
            "type": "scatterternary"
           }
          ],
          "surface": [
           {
            "colorbar": {
             "outlinewidth": 0,
             "ticks": ""
            },
            "colorscale": [
             [
              0,
              "#0d0887"
             ],
             [
              0.1111111111111111,
              "#46039f"
             ],
             [
              0.2222222222222222,
              "#7201a8"
             ],
             [
              0.3333333333333333,
              "#9c179e"
             ],
             [
              0.4444444444444444,
              "#bd3786"
             ],
             [
              0.5555555555555556,
              "#d8576b"
             ],
             [
              0.6666666666666666,
              "#ed7953"
             ],
             [
              0.7777777777777778,
              "#fb9f3a"
             ],
             [
              0.8888888888888888,
              "#fdca26"
             ],
             [
              1,
              "#f0f921"
             ]
            ],
            "type": "surface"
           }
          ],
          "table": [
           {
            "cells": {
             "fill": {
              "color": "#EBF0F8"
             },
             "line": {
              "color": "white"
             }
            },
            "header": {
             "fill": {
              "color": "#C8D4E3"
             },
             "line": {
              "color": "white"
             }
            },
            "type": "table"
           }
          ]
         },
         "layout": {
          "annotationdefaults": {
           "arrowcolor": "#2a3f5f",
           "arrowhead": 0,
           "arrowwidth": 1
          },
          "autotypenumbers": "strict",
          "coloraxis": {
           "colorbar": {
            "outlinewidth": 0,
            "ticks": ""
           }
          },
          "colorscale": {
           "diverging": [
            [
             0,
             "#8e0152"
            ],
            [
             0.1,
             "#c51b7d"
            ],
            [
             0.2,
             "#de77ae"
            ],
            [
             0.3,
             "#f1b6da"
            ],
            [
             0.4,
             "#fde0ef"
            ],
            [
             0.5,
             "#f7f7f7"
            ],
            [
             0.6,
             "#e6f5d0"
            ],
            [
             0.7,
             "#b8e186"
            ],
            [
             0.8,
             "#7fbc41"
            ],
            [
             0.9,
             "#4d9221"
            ],
            [
             1,
             "#276419"
            ]
           ],
           "sequential": [
            [
             0,
             "#0d0887"
            ],
            [
             0.1111111111111111,
             "#46039f"
            ],
            [
             0.2222222222222222,
             "#7201a8"
            ],
            [
             0.3333333333333333,
             "#9c179e"
            ],
            [
             0.4444444444444444,
             "#bd3786"
            ],
            [
             0.5555555555555556,
             "#d8576b"
            ],
            [
             0.6666666666666666,
             "#ed7953"
            ],
            [
             0.7777777777777778,
             "#fb9f3a"
            ],
            [
             0.8888888888888888,
             "#fdca26"
            ],
            [
             1,
             "#f0f921"
            ]
           ],
           "sequentialminus": [
            [
             0,
             "#0d0887"
            ],
            [
             0.1111111111111111,
             "#46039f"
            ],
            [
             0.2222222222222222,
             "#7201a8"
            ],
            [
             0.3333333333333333,
             "#9c179e"
            ],
            [
             0.4444444444444444,
             "#bd3786"
            ],
            [
             0.5555555555555556,
             "#d8576b"
            ],
            [
             0.6666666666666666,
             "#ed7953"
            ],
            [
             0.7777777777777778,
             "#fb9f3a"
            ],
            [
             0.8888888888888888,
             "#fdca26"
            ],
            [
             1,
             "#f0f921"
            ]
           ]
          },
          "colorway": [
           "#636efa",
           "#EF553B",
           "#00cc96",
           "#ab63fa",
           "#FFA15A",
           "#19d3f3",
           "#FF6692",
           "#B6E880",
           "#FF97FF",
           "#FECB52"
          ],
          "font": {
           "color": "#2a3f5f"
          },
          "geo": {
           "bgcolor": "white",
           "lakecolor": "white",
           "landcolor": "#E5ECF6",
           "showlakes": true,
           "showland": true,
           "subunitcolor": "white"
          },
          "hoverlabel": {
           "align": "left"
          },
          "hovermode": "closest",
          "mapbox": {
           "style": "light"
          },
          "paper_bgcolor": "white",
          "plot_bgcolor": "#E5ECF6",
          "polar": {
           "angularaxis": {
            "gridcolor": "white",
            "linecolor": "white",
            "ticks": ""
           },
           "bgcolor": "#E5ECF6",
           "radialaxis": {
            "gridcolor": "white",
            "linecolor": "white",
            "ticks": ""
           }
          },
          "scene": {
           "xaxis": {
            "backgroundcolor": "#E5ECF6",
            "gridcolor": "white",
            "gridwidth": 2,
            "linecolor": "white",
            "showbackground": true,
            "ticks": "",
            "zerolinecolor": "white"
           },
           "yaxis": {
            "backgroundcolor": "#E5ECF6",
            "gridcolor": "white",
            "gridwidth": 2,
            "linecolor": "white",
            "showbackground": true,
            "ticks": "",
            "zerolinecolor": "white"
           },
           "zaxis": {
            "backgroundcolor": "#E5ECF6",
            "gridcolor": "white",
            "gridwidth": 2,
            "linecolor": "white",
            "showbackground": true,
            "ticks": "",
            "zerolinecolor": "white"
           }
          },
          "shapedefaults": {
           "line": {
            "color": "#2a3f5f"
           }
          },
          "ternary": {
           "aaxis": {
            "gridcolor": "white",
            "linecolor": "white",
            "ticks": ""
           },
           "baxis": {
            "gridcolor": "white",
            "linecolor": "white",
            "ticks": ""
           },
           "bgcolor": "#E5ECF6",
           "caxis": {
            "gridcolor": "white",
            "linecolor": "white",
            "ticks": ""
           }
          },
          "title": {
           "x": 0.05
          },
          "xaxis": {
           "automargin": true,
           "gridcolor": "white",
           "linecolor": "white",
           "ticks": "",
           "title": {
            "standoff": 15
           },
           "zerolinecolor": "white",
           "zerolinewidth": 2
          },
          "yaxis": {
           "automargin": true,
           "gridcolor": "white",
           "linecolor": "white",
           "ticks": "",
           "title": {
            "standoff": 15
           },
           "zerolinecolor": "white",
           "zerolinewidth": 2
          }
         }
        },
        "title": {
         "text": "Figure 1: GDP growth in Denmark from 2012 to 2022"
        },
        "xaxis": {
         "title": {
          "text": "Year"
         }
        },
        "yaxis": {
         "title": {
          "text": "GDP Growth Rate (pct.)"
         }
        }
       }
      }
     },
     "metadata": {},
     "output_type": "display_data"
    }
   ],
   "source": [
    "\n",
    "#Creating a Plotly figure\n",
    "fig = go.Figure()\n",
    "\n",
    "#Using a \"line trace\"\n",
    "#The x value returns the years from the dataframe\n",
    "#The y value returns the growth rate from the dataframe\n",
    "\n",
    "fig.add_trace(go.Scatter(x=df_gdp.index, y=df_gdp['GDP Growth Rate'], mode='lines+markers'))\n",
    "\n",
    "#Giving a title and setting axis labels\n",
    "fig.update_layout(\n",
    "    title='Figure 1: GDP growth in Denmark from 2012 to 2022',\n",
    "    xaxis_title='Year',\n",
    "    yaxis_title='GDP Growth Rate (pct.)'\n",
    ")\n",
    "\n",
    "#Showing the interactive figure\n",
    "fig.show()\n"
   ]
  },
  {
   "attachments": {},
   "cell_type": "markdown",
   "metadata": {},
   "source": [
    "# Loading and cleaning data for the House Price Index (HPI) in Denmark from 2012-2022"
   ]
  },
  {
   "cell_type": "code",
   "execution_count": 1200,
   "metadata": {},
   "outputs": [
    {
     "data": {
      "text/html": [
       "<div>\n",
       "<style scoped>\n",
       "    .dataframe tbody tr th:only-of-type {\n",
       "        vertical-align: middle;\n",
       "    }\n",
       "\n",
       "    .dataframe tbody tr th {\n",
       "        vertical-align: top;\n",
       "    }\n",
       "\n",
       "    .dataframe thead th {\n",
       "        text-align: right;\n",
       "    }\n",
       "</style>\n",
       "<table border=\"1\" class=\"dataframe\">\n",
       "  <thead>\n",
       "    <tr style=\"text-align: right;\">\n",
       "      <th></th>\n",
       "      <th>Unnamed: 0</th>\n",
       "      <th>Unnamed: 1</th>\n",
       "      <th>Unnamed: 2</th>\n",
       "      <th>2012</th>\n",
       "      <th>2013</th>\n",
       "      <th>2014</th>\n",
       "      <th>2015</th>\n",
       "      <th>2016</th>\n",
       "      <th>2017</th>\n",
       "      <th>2018</th>\n",
       "      <th>2019</th>\n",
       "      <th>2020</th>\n",
       "      <th>2021</th>\n",
       "      <th>2022</th>\n",
       "    </tr>\n",
       "  </thead>\n",
       "  <tbody>\n",
       "    <tr>\n",
       "      <th>0</th>\n",
       "      <td>Enfamiliehuse</td>\n",
       "      <td>Indeks</td>\n",
       "      <td>Hele landet</td>\n",
       "      <td>85.1</td>\n",
       "      <td>87.4</td>\n",
       "      <td>90.4</td>\n",
       "      <td>95.8</td>\n",
       "      <td>99.6</td>\n",
       "      <td>103.6</td>\n",
       "      <td>107.6</td>\n",
       "      <td>110.8</td>\n",
       "      <td>116.1</td>\n",
       "      <td>128.2</td>\n",
       "      <td>129.2</td>\n",
       "    </tr>\n",
       "    <tr>\n",
       "      <th>1</th>\n",
       "      <td>NaN</td>\n",
       "      <td>Indeks</td>\n",
       "      <td>Landsdel Byen København</td>\n",
       "      <td>79.5</td>\n",
       "      <td>85.7</td>\n",
       "      <td>93.3</td>\n",
       "      <td>101.5</td>\n",
       "      <td>109.4</td>\n",
       "      <td>115.4</td>\n",
       "      <td>122.6</td>\n",
       "      <td>125.4</td>\n",
       "      <td>134.2</td>\n",
       "      <td>152.3</td>\n",
       "      <td>158.6</td>\n",
       "    </tr>\n",
       "    <tr>\n",
       "      <th>2</th>\n",
       "      <td>NaN</td>\n",
       "      <td>Indeks</td>\n",
       "      <td>Landsdel Københavns omegn</td>\n",
       "      <td>77.6</td>\n",
       "      <td>83.1</td>\n",
       "      <td>88.0</td>\n",
       "      <td>95.1</td>\n",
       "      <td>101.8</td>\n",
       "      <td>107.3</td>\n",
       "      <td>112.3</td>\n",
       "      <td>116.5</td>\n",
       "      <td>124.1</td>\n",
       "      <td>143.3</td>\n",
       "      <td>145.1</td>\n",
       "    </tr>\n",
       "    <tr>\n",
       "      <th>3</th>\n",
       "      <td>NaN</td>\n",
       "      <td>Indeks</td>\n",
       "      <td>Landsdel Nordsjælland</td>\n",
       "      <td>72.1</td>\n",
       "      <td>74.2</td>\n",
       "      <td>76.3</td>\n",
       "      <td>82.8</td>\n",
       "      <td>86.2</td>\n",
       "      <td>90.5</td>\n",
       "      <td>95.2</td>\n",
       "      <td>98.7</td>\n",
       "      <td>104.4</td>\n",
       "      <td>121.0</td>\n",
       "      <td>125.6</td>\n",
       "    </tr>\n",
       "    <tr>\n",
       "      <th>4</th>\n",
       "      <td>NaN</td>\n",
       "      <td>Indeks</td>\n",
       "      <td>Landsdel Bornholm</td>\n",
       "      <td>84.7</td>\n",
       "      <td>82.9</td>\n",
       "      <td>82.0</td>\n",
       "      <td>84.0</td>\n",
       "      <td>91.6</td>\n",
       "      <td>101.1</td>\n",
       "      <td>107.1</td>\n",
       "      <td>111.1</td>\n",
       "      <td>122.0</td>\n",
       "      <td>143.1</td>\n",
       "      <td>143.4</td>\n",
       "    </tr>\n",
       "  </tbody>\n",
       "</table>\n",
       "</div>"
      ],
      "text/plain": [
       "      Unnamed: 0 Unnamed: 1                 Unnamed: 2  2012  2013  2014  \\\n",
       "0  Enfamiliehuse     Indeks                Hele landet  85.1  87.4  90.4   \n",
       "1            NaN     Indeks    Landsdel Byen København  79.5  85.7  93.3   \n",
       "2            NaN     Indeks  Landsdel Københavns omegn  77.6  83.1  88.0   \n",
       "3            NaN     Indeks      Landsdel Nordsjælland  72.1  74.2  76.3   \n",
       "4            NaN     Indeks          Landsdel Bornholm  84.7  82.9  82.0   \n",
       "\n",
       "    2015   2016   2017   2018   2019   2020   2021   2022  \n",
       "0   95.8   99.6  103.6  107.6  110.8  116.1  128.2  129.2  \n",
       "1  101.5  109.4  115.4  122.6  125.4  134.2  152.3  158.6  \n",
       "2   95.1  101.8  107.3  112.3  116.5  124.1  143.3  145.1  \n",
       "3   82.8   86.2   90.5   95.2   98.7  104.4  121.0  125.6  \n",
       "4   84.0   91.6  101.1  107.1  111.1  122.0  143.1  143.4  "
      ]
     },
     "execution_count": 1200,
     "metadata": {},
     "output_type": "execute_result"
    }
   ],
   "source": [
    "#Loading data for House Price Index (HPI)\n",
    "df_hpi = pd.read_excel('HPI.xlsx',  skiprows=2)\n",
    "df_hpi.head()"
   ]
  },
  {
   "attachments": {},
   "cell_type": "markdown",
   "metadata": {},
   "source": [
    "Again, I am only interested in examining real growth in HPI. So I remove all other rows that I will not use in this examination. "
   ]
  },
  {
   "cell_type": "code",
   "execution_count": 1201,
   "metadata": {},
   "outputs": [
    {
     "data": {
      "text/html": [
       "<div>\n",
       "<style scoped>\n",
       "    .dataframe tbody tr th:only-of-type {\n",
       "        vertical-align: middle;\n",
       "    }\n",
       "\n",
       "    .dataframe tbody tr th {\n",
       "        vertical-align: top;\n",
       "    }\n",
       "\n",
       "    .dataframe thead th {\n",
       "        text-align: right;\n",
       "    }\n",
       "</style>\n",
       "<table border=\"1\" class=\"dataframe\">\n",
       "  <thead>\n",
       "    <tr style=\"text-align: right;\">\n",
       "      <th></th>\n",
       "      <th>HPI unit</th>\n",
       "      <th>Region</th>\n",
       "      <th>2012</th>\n",
       "      <th>2013</th>\n",
       "      <th>2014</th>\n",
       "      <th>2015</th>\n",
       "      <th>2016</th>\n",
       "      <th>2017</th>\n",
       "      <th>2018</th>\n",
       "      <th>2019</th>\n",
       "      <th>2020</th>\n",
       "      <th>2021</th>\n",
       "      <th>2022</th>\n",
       "    </tr>\n",
       "  </thead>\n",
       "  <tbody>\n",
       "    <tr>\n",
       "      <th>12</th>\n",
       "      <td>Ændring i forhold til året før (pct.)</td>\n",
       "      <td>Hele landet</td>\n",
       "      <td>-3.4</td>\n",
       "      <td>2.7</td>\n",
       "      <td>3.4</td>\n",
       "      <td>6.0</td>\n",
       "      <td>4.0</td>\n",
       "      <td>4.0</td>\n",
       "      <td>3.9</td>\n",
       "      <td>3.0</td>\n",
       "      <td>4.8</td>\n",
       "      <td>10.4</td>\n",
       "      <td>0.8</td>\n",
       "    </tr>\n",
       "    <tr>\n",
       "      <th>13</th>\n",
       "      <td>Ændring i forhold til året før (pct.)</td>\n",
       "      <td>Landsdel Byen København</td>\n",
       "      <td>-2.5</td>\n",
       "      <td>7.8</td>\n",
       "      <td>8.9</td>\n",
       "      <td>8.8</td>\n",
       "      <td>7.8</td>\n",
       "      <td>5.5</td>\n",
       "      <td>6.2</td>\n",
       "      <td>2.3</td>\n",
       "      <td>7.0</td>\n",
       "      <td>13.5</td>\n",
       "      <td>4.1</td>\n",
       "    </tr>\n",
       "    <tr>\n",
       "      <th>14</th>\n",
       "      <td>Ændring i forhold til året før (pct.)</td>\n",
       "      <td>Landsdel Københavns omegn</td>\n",
       "      <td>-3.8</td>\n",
       "      <td>7.1</td>\n",
       "      <td>5.9</td>\n",
       "      <td>8.1</td>\n",
       "      <td>7.0</td>\n",
       "      <td>5.4</td>\n",
       "      <td>4.7</td>\n",
       "      <td>3.7</td>\n",
       "      <td>6.5</td>\n",
       "      <td>15.5</td>\n",
       "      <td>1.3</td>\n",
       "    </tr>\n",
       "    <tr>\n",
       "      <th>15</th>\n",
       "      <td>Ændring i forhold til året før (pct.)</td>\n",
       "      <td>Landsdel Nordsjælland</td>\n",
       "      <td>-3.5</td>\n",
       "      <td>2.9</td>\n",
       "      <td>2.8</td>\n",
       "      <td>8.5</td>\n",
       "      <td>4.1</td>\n",
       "      <td>5.0</td>\n",
       "      <td>5.2</td>\n",
       "      <td>3.7</td>\n",
       "      <td>5.8</td>\n",
       "      <td>15.9</td>\n",
       "      <td>3.8</td>\n",
       "    </tr>\n",
       "    <tr>\n",
       "      <th>16</th>\n",
       "      <td>Ændring i forhold til året før (pct.)</td>\n",
       "      <td>Landsdel Bornholm</td>\n",
       "      <td>-4.4</td>\n",
       "      <td>-2.1</td>\n",
       "      <td>-1.1</td>\n",
       "      <td>2.4</td>\n",
       "      <td>9.0</td>\n",
       "      <td>10.4</td>\n",
       "      <td>5.9</td>\n",
       "      <td>3.7</td>\n",
       "      <td>9.8</td>\n",
       "      <td>17.3</td>\n",
       "      <td>0.2</td>\n",
       "    </tr>\n",
       "  </tbody>\n",
       "</table>\n",
       "</div>"
      ],
      "text/plain": [
       "                                 HPI unit                     Region  2012  \\\n",
       "12  Ændring i forhold til året før (pct.)                Hele landet  -3.4   \n",
       "13  Ændring i forhold til året før (pct.)    Landsdel Byen København  -2.5   \n",
       "14  Ændring i forhold til året før (pct.)  Landsdel Københavns omegn  -3.8   \n",
       "15  Ændring i forhold til året før (pct.)      Landsdel Nordsjælland  -3.5   \n",
       "16  Ændring i forhold til året før (pct.)          Landsdel Bornholm  -4.4   \n",
       "\n",
       "    2013  2014  2015  2016  2017  2018  2019  2020  2021  2022  \n",
       "12   2.7   3.4   6.0   4.0   4.0   3.9   3.0   4.8  10.4   0.8  \n",
       "13   7.8   8.9   8.8   7.8   5.5   6.2   2.3   7.0  13.5   4.1  \n",
       "14   7.1   5.9   8.1   7.0   5.4   4.7   3.7   6.5  15.5   1.3  \n",
       "15   2.9   2.8   8.5   4.1   5.0   5.2   3.7   5.8  15.9   3.8  \n",
       "16  -2.1  -1.1   2.4   9.0  10.4   5.9   3.7   9.8  17.3   0.2  "
      ]
     },
     "execution_count": 1201,
     "metadata": {},
     "output_type": "execute_result"
    }
   ],
   "source": [
    "#Cleaning data for HPI\n",
    "\n",
    "#Giving a column title for the regions in DK:\n",
    "df_hpi.rename(columns={'Unnamed: 2': 'Region'}, inplace=True)\n",
    "\n",
    "#Giving a column title for the units of HPI:\n",
    "df_hpi.rename(columns={'Unnamed: 1': 'HPI unit'}, inplace=True)\n",
    "\n",
    "#Removing the columns that is not used\n",
    "del df_hpi['Unnamed: 0']\n",
    "\n",
    "#Only keeping the HPI growth values instead of the index\n",
    "I = df_hpi['HPI unit'] == 'Ændring i forhold til året før (pct.)'\n",
    "df_hpi = df_hpi[I]\n",
    "\n",
    "df_hpi.head()\n"
   ]
  },
  {
   "attachments": {},
   "cell_type": "markdown",
   "metadata": {},
   "source": [
    "## Interactive plot HPI\n"
   ]
  },
  {
   "attachments": {},
   "cell_type": "markdown",
   "metadata": {},
   "source": [
    "I will now make an interactive plot where you can choose which region (Landsdel) of Denmark you want to see the HPI growth rate for.\n",
    "\n",
    "I start by cleaning up the dataframe further, so the first column that shows HPI unit is removed:"
   ]
  },
  {
   "cell_type": "code",
   "execution_count": 1202,
   "metadata": {},
   "outputs": [
    {
     "data": {
      "text/html": [
       "<div>\n",
       "<style scoped>\n",
       "    .dataframe tbody tr th:only-of-type {\n",
       "        vertical-align: middle;\n",
       "    }\n",
       "\n",
       "    .dataframe tbody tr th {\n",
       "        vertical-align: top;\n",
       "    }\n",
       "\n",
       "    .dataframe thead th {\n",
       "        text-align: right;\n",
       "    }\n",
       "</style>\n",
       "<table border=\"1\" class=\"dataframe\">\n",
       "  <thead>\n",
       "    <tr style=\"text-align: right;\">\n",
       "      <th></th>\n",
       "      <th>Region</th>\n",
       "      <th>2012</th>\n",
       "      <th>2013</th>\n",
       "      <th>2014</th>\n",
       "      <th>2015</th>\n",
       "      <th>2016</th>\n",
       "      <th>2017</th>\n",
       "      <th>2018</th>\n",
       "      <th>2019</th>\n",
       "      <th>2020</th>\n",
       "      <th>2021</th>\n",
       "      <th>2022</th>\n",
       "    </tr>\n",
       "  </thead>\n",
       "  <tbody>\n",
       "    <tr>\n",
       "      <th>0</th>\n",
       "      <td>Hele landet</td>\n",
       "      <td>-3.4</td>\n",
       "      <td>2.7</td>\n",
       "      <td>3.4</td>\n",
       "      <td>6.0</td>\n",
       "      <td>4.0</td>\n",
       "      <td>4.0</td>\n",
       "      <td>3.9</td>\n",
       "      <td>3.0</td>\n",
       "      <td>4.8</td>\n",
       "      <td>10.4</td>\n",
       "      <td>0.8</td>\n",
       "    </tr>\n",
       "    <tr>\n",
       "      <th>1</th>\n",
       "      <td>Landsdel Byen København</td>\n",
       "      <td>-2.5</td>\n",
       "      <td>7.8</td>\n",
       "      <td>8.9</td>\n",
       "      <td>8.8</td>\n",
       "      <td>7.8</td>\n",
       "      <td>5.5</td>\n",
       "      <td>6.2</td>\n",
       "      <td>2.3</td>\n",
       "      <td>7.0</td>\n",
       "      <td>13.5</td>\n",
       "      <td>4.1</td>\n",
       "    </tr>\n",
       "    <tr>\n",
       "      <th>2</th>\n",
       "      <td>Landsdel Københavns omegn</td>\n",
       "      <td>-3.8</td>\n",
       "      <td>7.1</td>\n",
       "      <td>5.9</td>\n",
       "      <td>8.1</td>\n",
       "      <td>7.0</td>\n",
       "      <td>5.4</td>\n",
       "      <td>4.7</td>\n",
       "      <td>3.7</td>\n",
       "      <td>6.5</td>\n",
       "      <td>15.5</td>\n",
       "      <td>1.3</td>\n",
       "    </tr>\n",
       "    <tr>\n",
       "      <th>3</th>\n",
       "      <td>Landsdel Nordsjælland</td>\n",
       "      <td>-3.5</td>\n",
       "      <td>2.9</td>\n",
       "      <td>2.8</td>\n",
       "      <td>8.5</td>\n",
       "      <td>4.1</td>\n",
       "      <td>5.0</td>\n",
       "      <td>5.2</td>\n",
       "      <td>3.7</td>\n",
       "      <td>5.8</td>\n",
       "      <td>15.9</td>\n",
       "      <td>3.8</td>\n",
       "    </tr>\n",
       "    <tr>\n",
       "      <th>4</th>\n",
       "      <td>Landsdel Bornholm</td>\n",
       "      <td>-4.4</td>\n",
       "      <td>-2.1</td>\n",
       "      <td>-1.1</td>\n",
       "      <td>2.4</td>\n",
       "      <td>9.0</td>\n",
       "      <td>10.4</td>\n",
       "      <td>5.9</td>\n",
       "      <td>3.7</td>\n",
       "      <td>9.8</td>\n",
       "      <td>17.3</td>\n",
       "      <td>0.2</td>\n",
       "    </tr>\n",
       "  </tbody>\n",
       "</table>\n",
       "</div>"
      ],
      "text/plain": [
       "                      Region  2012  2013  2014  2015  2016  2017  2018  2019  \\\n",
       "0                Hele landet  -3.4   2.7   3.4   6.0   4.0   4.0   3.9   3.0   \n",
       "1    Landsdel Byen København  -2.5   7.8   8.9   8.8   7.8   5.5   6.2   2.3   \n",
       "2  Landsdel Københavns omegn  -3.8   7.1   5.9   8.1   7.0   5.4   4.7   3.7   \n",
       "3      Landsdel Nordsjælland  -3.5   2.9   2.8   8.5   4.1   5.0   5.2   3.7   \n",
       "4          Landsdel Bornholm  -4.4  -2.1  -1.1   2.4   9.0  10.4   5.9   3.7   \n",
       "\n",
       "   2020  2021  2022  \n",
       "0   4.8  10.4   0.8  \n",
       "1   7.0  13.5   4.1  \n",
       "2   6.5  15.5   1.3  \n",
       "3   5.8  15.9   3.8  \n",
       "4   9.8  17.3   0.2  "
      ]
     },
     "execution_count": 1202,
     "metadata": {},
     "output_type": "execute_result"
    }
   ],
   "source": [
    "#Dropping the column 'HPI unit' from the df_hpi \n",
    "#creating a new dataframe called df_hpi_i to use for an interactive plot\n",
    "df_hpi_i = df_hpi.drop('HPI unit', axis=1)\n",
    "df_hpi_i = df_hpi_i.reset_index()\n",
    "\n",
    "df_hpi_i = df_hpi_i.drop('index', axis=1)\n",
    "\n",
    "#Printing the updated dataframe df_hpi_i\n",
    "df_hpi_i.head()\n"
   ]
  },
  {
   "cell_type": "code",
   "execution_count": 1203,
   "metadata": {},
   "outputs": [
    {
     "data": {
      "application/vnd.jupyter.widget-view+json": {
       "model_id": "b499f1f9bfde425e87ac39b49e44a89c",
       "version_major": 2,
       "version_minor": 0
      },
      "text/plain": [
       "interactive(children=(Dropdown(description='Region', options=('Hele landet', 'Landsdel Byen København', 'Lands…"
      ]
     },
     "metadata": {},
     "output_type": "display_data"
    },
    {
     "data": {
      "text/plain": [
       "<function __main__.plot_hpi(Region)>"
      ]
     },
     "execution_count": 1203,
     "metadata": {},
     "output_type": "execute_result"
    }
   ],
   "source": [
    "#Making the interactive plot \n",
    "\n",
    "#Defining a function that plots the HPI growth rate for a arbitrary region over time\n",
    "def plot_hpi(Region):\n",
    "\n",
    "    #Plotting the line plot:\n",
    "    #The x value extracts the column labels representing the years (i.e., 2012 to 2022)\n",
    "    #The y value extracts the HPI growth rate values for the specified region as a numpy array\n",
    "\n",
    "    plt.plot(df_hpi_i.columns[1:], df_hpi_i.loc[df_hpi_i['Region'] == Region].values[0][1:], linestyle='-', color='Red')\n",
    "\n",
    "    #Using a f string so that the name of the region changes when choosing from the drop down menu\n",
    "    plt.title(f'Figure 2: HPI Growth Rate for {Region}')\n",
    "\n",
    "    #Setting the axis labels\n",
    "    plt.xlabel('Year')\n",
    "    plt.ylabel('HPI Growth Rate (pct.)')\n",
    "\n",
    "    #Showing the line plot\n",
    "    plt.show()\n",
    "\n",
    "\n",
    "#Creating an interactive widget to select a region\n",
    "interact(plot_hpi, Region=df_hpi_i['Region'].unique())\n"
   ]
  },
  {
   "attachments": {},
   "cell_type": "markdown",
   "metadata": {},
   "source": [
    "## Analysis"
   ]
  },
  {
   "attachments": {},
   "cell_type": "markdown",
   "metadata": {},
   "source": [
    "In this next section I want to analyze the empirical relationship bewteen the growth rate in HPI and GDP in Denmark. "
   ]
  },
  {
   "attachments": {},
   "cell_type": "markdown",
   "metadata": {},
   "source": [
    "Theory suggests that the HPI and GDP are related because a rise in GDP often leads to an increase in income, which can result in higher demand for housing. As demand for housing increases, house prices tend to rise. Additionally, a strong GDP can signal economic growth and stability, which can attract investment in the housing market and further drive up prices. However, in a empirical aspect the relationship between the two is complex and is possibly influenced by various other factors.\n",
    "\n",
    "By including the GDP growth rate in a interactive figure like figure 2, it will be possible to examine the empirical relationship between the two variables."
   ]
  },
  {
   "attachments": {},
   "cell_type": "markdown",
   "metadata": {},
   "source": [
    "## Interactive line plot of the relationship bewteen GDP and HPI"
   ]
  },
  {
   "attachments": {},
   "cell_type": "markdown",
   "metadata": {},
   "source": [
    "To analyze the relationship, I create a interactive figure that shows you the GDP growth rate in Denmark against an arbitrary region in Denmark that you choose. \n",
    "\n",
    "However, the \"region\" of interest is the one that shows the HPI growth rate for the whole country, namely \"Hele landet\". When choosing this one from the drop down menu, we see the relationship between the two variables at country level."
   ]
  },
  {
   "cell_type": "code",
   "execution_count": 1204,
   "metadata": {},
   "outputs": [
    {
     "data": {
      "application/vnd.jupyter.widget-view+json": {
       "model_id": "6ca7a712821e4e3cb6625e95aefe84f6",
       "version_major": 2,
       "version_minor": 0
      },
      "text/plain": [
       "interactive(children=(Dropdown(description='Region', options=('Hele landet', 'Landsdel Byen København', 'Lands…"
      ]
     },
     "metadata": {},
     "output_type": "display_data"
    },
    {
     "data": {
      "text/plain": [
       "<function __main__.plot_gdp_hpi(Region)>"
      ]
     },
     "execution_count": 1204,
     "metadata": {},
     "output_type": "execute_result"
    }
   ],
   "source": [
    "#Making the interactive plot that shows the GDP and HPI for an arbitrary region \n",
    "\n",
    "#Defining the function\n",
    "def plot_gdp_hpi(Region):\n",
    "\n",
    "    #Plotting the line plot:\n",
    "    #The x value extracts the column labels representing the years (i.e., 2012 to 2022)\n",
    "    #The y value extracts the HPI growth rate values for the specified region as a numpy array\n",
    "    #Giving the line plot a label using a f-string, so that the name of the region changes when choosing from the drop down menu\n",
    "\n",
    "    plt.plot(df_hpi_i.columns[1:], df_hpi_i.loc[df_hpi_i['Region'] == Region].values[0][1:], linestyle='-', color='Red', label=f' HPI Growth Rate for {Region}')\n",
    "    \n",
    "\n",
    "    #Creating another y value that extracts the GDP growth rate values \n",
    "    gdp_total = df_gdp['GDP Growth Rate'].values\n",
    "\n",
    "    #Plotting the line for the GDP growth rate\n",
    "    plt.plot(df_hpi_i.columns[1:], gdp_total, linestyle='--', color='Blue', label='GDP Growth Rate')\n",
    "\n",
    "\n",
    "    #Using a f string so that the name of the region changes when choosing from the drop down menu\n",
    "    plt.title(f'Figure 3: the total GDP Growth Rate against the HPI Growth Rate for {Region}')\n",
    "\n",
    "    #Setting the axis labels\n",
    "    plt.xlabel('Year')\n",
    "    plt.ylabel('Growth Rate (pct.)')\n",
    "\n",
    "    #Adding legends for the two lines\n",
    "    plt.legend()\n",
    "\n",
    "    #Showing the line plot\n",
    "    plt.show()\n",
    "\n",
    "\n",
    "#Creating an interactive widget to select a region\n",
    "interact(plot_gdp_hpi, Region=df_hpi_i['Region'].unique())"
   ]
  },
  {
   "cell_type": "markdown",
   "metadata": {},
   "source": [
    "# Conclusion"
   ]
  },
  {
   "attachments": {},
   "cell_type": "markdown",
   "metadata": {},
   "source": [
    "As written before, the main interest of this project is the empirical relationship bewteen the GDP rate and the HPI rate for \"Hele landet\" (= the whole country). So by choosing \"Hele landet\" in the drop down menu for figure 3, we have the line plot of interest.\n",
    "\n",
    "By examining the line plot, I observe that HPI seem to be procyclical, i.e. positively correlated with GDP. When GDP rises, the HPI also seem to rise - in accordance with the theory.\n",
    "\n",
    "Furthermore, we see that the correlation was at it's stongest in the period 2016-2019, and weakest in the year 2019, where their rates grew in differnt directions: the GDP decreased and the HPI increased. However, in 2020 they both increased by the most pct. points compared to the whole period.\n",
    "\n",
    "It is, however, worth noting that figure 3 cannot provide a qualified conclusion on the empirical relationship between the two variables. The figure can only be used to see whether there is a correlation or not. It cannot be used to say anything about if there is a causal relationship, and thus which direction causality goes, or if it just a simpel correlation bewteen the two variables. \n",
    "\n",
    "Furthermore, I know that there may be other factors that affect HPI besides GDP. For example, the interest rate or political or demographic conditions."
   ]
  }
 ],
 "metadata": {
  "kernelspec": {
   "display_name": "base",
   "language": "python",
   "name": "python3"
  },
  "language_info": {
   "codemirror_mode": {
    "name": "ipython",
    "version": 3
   },
   "file_extension": ".py",
   "mimetype": "text/x-python",
   "name": "python",
   "nbconvert_exporter": "python",
   "pygments_lexer": "ipython3",
   "version": "3.9.13"
  },
  "toc-autonumbering": true,
  "vscode": {
   "interpreter": {
    "hash": "545c8d92fb4c24119f13202458cf7a7750e646aaf47478867c31e3beae5469ad"
   }
  }
 },
 "nbformat": 4,
 "nbformat_minor": 4
}
