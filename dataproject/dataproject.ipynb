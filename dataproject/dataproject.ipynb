{
 "cells": [
  {
   "attachments": {},
   "cell_type": "markdown",
   "metadata": {},
   "source": [
    "# The evolution of house prices and GDP growth in Denmark"
   ]
  },
  {
   "attachments": {},
   "cell_type": "markdown",
   "metadata": {},
   "source": [
    "> **Note the following:** \n",
    "> 1. This is *not* meant to be an example of an actual **data analysis project**, just an example of how to structure such a project.\n",
    "> 1. Remember the general advice on structuring and commenting your code\n",
    "> 1. The `dataproject.py` file includes a function which can be used multiple times in this notebook."
   ]
  },
  {
   "cell_type": "markdown",
   "metadata": {},
   "source": [
    "Imports and set magics:"
   ]
  },
  {
   "cell_type": "code",
   "execution_count": 106,
   "metadata": {},
   "outputs": [
    {
     "name": "stdout",
     "output_type": "stream",
     "text": [
      "The autoreload extension is already loaded. To reload it, use:\n",
      "  %reload_ext autoreload\n"
     ]
    }
   ],
   "source": [
    "import pandas as pd\n",
    "import numpy as np\n",
    "import matplotlib.pyplot as plt\n",
    "import ipywidgets as widgets\n",
    "#from matplotlib_venn import venn2 SKAL MED??\n",
    "plt.style.use('seaborn-whitegrid')\n",
    "#import pydst SKAL MED????\n",
    "#dst = pydst.Dst(lang='en') SKAL MED??\n",
    "\n",
    "# autoreload modules when code is run\n",
    "%load_ext autoreload\n",
    "%autoreload 2\n",
    "\n",
    "# user written modules\n",
    "import dataproject\n"
   ]
  },
  {
   "attachments": {},
   "cell_type": "markdown",
   "metadata": {},
   "source": [
    "# Loading and cleaning data for GDP in Denmark from 2012-2022"
   ]
  },
  {
   "attachments": {},
   "cell_type": "markdown",
   "metadata": {},
   "source": [
    "The data for is downloaded from \"Danmarks Statistik\": NAN1 for GDP and EJ66 for HPI. "
   ]
  },
  {
   "cell_type": "code",
   "execution_count": 107,
   "metadata": {},
   "outputs": [
    {
     "data": {
      "text/html": [
       "<div>\n",
       "<style scoped>\n",
       "    .dataframe tbody tr th:only-of-type {\n",
       "        vertical-align: middle;\n",
       "    }\n",
       "\n",
       "    .dataframe tbody tr th {\n",
       "        vertical-align: top;\n",
       "    }\n",
       "\n",
       "    .dataframe thead th {\n",
       "        text-align: right;\n",
       "    }\n",
       "</style>\n",
       "<table border=\"1\" class=\"dataframe\">\n",
       "  <thead>\n",
       "    <tr style=\"text-align: right;\">\n",
       "      <th></th>\n",
       "      <th>Unnamed: 0</th>\n",
       "      <th>Unnamed: 1</th>\n",
       "      <th>2012</th>\n",
       "      <th>2013</th>\n",
       "      <th>2014</th>\n",
       "      <th>2015</th>\n",
       "      <th>2016</th>\n",
       "      <th>2017</th>\n",
       "      <th>2018</th>\n",
       "      <th>2019</th>\n",
       "      <th>2020</th>\n",
       "      <th>2021</th>\n",
       "      <th>2022</th>\n",
       "    </tr>\n",
       "  </thead>\n",
       "  <tbody>\n",
       "    <tr>\n",
       "      <th>0</th>\n",
       "      <td>NaN</td>\n",
       "      <td>Løbende priser, (mia. kr.)</td>\n",
       "      <td>1895.0</td>\n",
       "      <td>1929.7</td>\n",
       "      <td>1981.2</td>\n",
       "      <td>2036.4</td>\n",
       "      <td>2107.8</td>\n",
       "      <td>2193.0</td>\n",
       "      <td>2253.3</td>\n",
       "      <td>2311.0</td>\n",
       "      <td>2323.9</td>\n",
       "      <td>2504.2</td>\n",
       "      <td>2797.9</td>\n",
       "    </tr>\n",
       "    <tr>\n",
       "      <th>1</th>\n",
       "      <td>NaN</td>\n",
       "      <td>2010-priser, kædede værdier, (mia. kr.)</td>\n",
       "      <td>1839.3</td>\n",
       "      <td>1856.5</td>\n",
       "      <td>1886.5</td>\n",
       "      <td>1930.7</td>\n",
       "      <td>1993.4</td>\n",
       "      <td>2049.6</td>\n",
       "      <td>2090.4</td>\n",
       "      <td>2121.6</td>\n",
       "      <td>2079.3</td>\n",
       "      <td>2180.3</td>\n",
       "      <td>2263.5</td>\n",
       "    </tr>\n",
       "    <tr>\n",
       "      <th>2</th>\n",
       "      <td>NaN</td>\n",
       "      <td>Realvækst i forhold til foregående periode (pct.)</td>\n",
       "      <td>0.2</td>\n",
       "      <td>0.9</td>\n",
       "      <td>1.6</td>\n",
       "      <td>2.3</td>\n",
       "      <td>3.2</td>\n",
       "      <td>2.8</td>\n",
       "      <td>2.0</td>\n",
       "      <td>1.5</td>\n",
       "      <td>-2.0</td>\n",
       "      <td>4.9</td>\n",
       "      <td>3.8</td>\n",
       "    </tr>\n",
       "    <tr>\n",
       "      <th>3</th>\n",
       "      <td>NaN</td>\n",
       "      <td>Pr. indbygger, løbende priser, (1000 kr.)</td>\n",
       "      <td>339.0</td>\n",
       "      <td>343.8</td>\n",
       "      <td>351.1</td>\n",
       "      <td>358.4</td>\n",
       "      <td>367.9</td>\n",
       "      <td>380.4</td>\n",
       "      <td>388.9</td>\n",
       "      <td>397.3</td>\n",
       "      <td>398.6</td>\n",
       "      <td>427.7</td>\n",
       "      <td>473.7</td>\n",
       "    </tr>\n",
       "    <tr>\n",
       "      <th>4</th>\n",
       "      <td>NaN</td>\n",
       "      <td>Bidrag til realvækst i BNP, (procentpoint)</td>\n",
       "      <td>0.2</td>\n",
       "      <td>0.9</td>\n",
       "      <td>1.6</td>\n",
       "      <td>2.3</td>\n",
       "      <td>3.2</td>\n",
       "      <td>2.8</td>\n",
       "      <td>2.0</td>\n",
       "      <td>1.5</td>\n",
       "      <td>-2.0</td>\n",
       "      <td>4.9</td>\n",
       "      <td>3.8</td>\n",
       "    </tr>\n",
       "  </tbody>\n",
       "</table>\n",
       "</div>"
      ],
      "text/plain": [
       "   Unnamed: 0                                         Unnamed: 1    2012  \\\n",
       "0         NaN                         Løbende priser, (mia. kr.)  1895.0   \n",
       "1         NaN            2010-priser, kædede værdier, (mia. kr.)  1839.3   \n",
       "2         NaN  Realvækst i forhold til foregående periode (pct.)     0.2   \n",
       "3         NaN          Pr. indbygger, løbende priser, (1000 kr.)   339.0   \n",
       "4         NaN         Bidrag til realvækst i BNP, (procentpoint)     0.2   \n",
       "\n",
       "     2013    2014    2015    2016    2017    2018    2019    2020    2021  \\\n",
       "0  1929.7  1981.2  2036.4  2107.8  2193.0  2253.3  2311.0  2323.9  2504.2   \n",
       "1  1856.5  1886.5  1930.7  1993.4  2049.6  2090.4  2121.6  2079.3  2180.3   \n",
       "2     0.9     1.6     2.3     3.2     2.8     2.0     1.5    -2.0     4.9   \n",
       "3   343.8   351.1   358.4   367.9   380.4   388.9   397.3   398.6   427.7   \n",
       "4     0.9     1.6     2.3     3.2     2.8     2.0     1.5    -2.0     4.9   \n",
       "\n",
       "     2022  \n",
       "0  2797.9  \n",
       "1  2263.5  \n",
       "2     3.8  \n",
       "3   473.7  \n",
       "4     3.8  "
      ]
     },
     "execution_count": 107,
     "metadata": {},
     "output_type": "execute_result"
    }
   ],
   "source": [
    "#Loading data for GDP\n",
    "df_gdp = pd.read_excel('GDP.xlsx', skiprows=2)\n",
    "\n",
    "df_gdp.head()"
   ]
  },
  {
   "attachments": {},
   "cell_type": "markdown",
   "metadata": {},
   "source": [
    "In this project, I am only interested in examining real GDP growth. In addition to cleaning up the data set and giving titles, I remove all other rows that I will not use in this examination. \n",
    "\n"
   ]
  },
  {
   "cell_type": "code",
   "execution_count": 108,
   "metadata": {},
   "outputs": [
    {
     "data": {
      "text/html": [
       "<div>\n",
       "<style scoped>\n",
       "    .dataframe tbody tr th:only-of-type {\n",
       "        vertical-align: middle;\n",
       "    }\n",
       "\n",
       "    .dataframe tbody tr th {\n",
       "        vertical-align: top;\n",
       "    }\n",
       "\n",
       "    .dataframe thead th {\n",
       "        text-align: right;\n",
       "    }\n",
       "</style>\n",
       "<table border=\"1\" class=\"dataframe\">\n",
       "  <thead>\n",
       "    <tr style=\"text-align: right;\">\n",
       "      <th></th>\n",
       "      <th>GDP unit</th>\n",
       "      <th>2012</th>\n",
       "      <th>2013</th>\n",
       "      <th>2014</th>\n",
       "      <th>2015</th>\n",
       "      <th>2016</th>\n",
       "      <th>2017</th>\n",
       "      <th>2018</th>\n",
       "      <th>2019</th>\n",
       "      <th>2020</th>\n",
       "      <th>2021</th>\n",
       "      <th>2022</th>\n",
       "    </tr>\n",
       "  </thead>\n",
       "  <tbody>\n",
       "    <tr>\n",
       "      <th>2</th>\n",
       "      <td>Realvækst i forhold til foregående periode (pct.)</td>\n",
       "      <td>0.2</td>\n",
       "      <td>0.9</td>\n",
       "      <td>1.6</td>\n",
       "      <td>2.3</td>\n",
       "      <td>3.2</td>\n",
       "      <td>2.8</td>\n",
       "      <td>2.0</td>\n",
       "      <td>1.5</td>\n",
       "      <td>-2.0</td>\n",
       "      <td>4.9</td>\n",
       "      <td>3.8</td>\n",
       "    </tr>\n",
       "  </tbody>\n",
       "</table>\n",
       "</div>"
      ],
      "text/plain": [
       "                                            GDP unit  2012  2013  2014  2015  \\\n",
       "2  Realvækst i forhold til foregående periode (pct.)   0.2   0.9   1.6   2.3   \n",
       "\n",
       "   2016  2017  2018  2019  2020  2021  2022  \n",
       "2   3.2   2.8   2.0   1.5  -2.0   4.9   3.8  "
      ]
     },
     "execution_count": 108,
     "metadata": {},
     "output_type": "execute_result"
    }
   ],
   "source": [
    "#Cleaning data for GDP\n",
    "\n",
    "#Giving a column title for the different units for GDP:\n",
    "df_gdp.rename(columns={'Unnamed: 1': 'GDP unit'}, inplace=True)\n",
    "\n",
    "#Removing the columns that is not used\n",
    "del df_gdp['Unnamed: 0']\n",
    "\n",
    "#Only keeping the GDP growth values\n",
    "I = df_gdp['GDP unit'] == 'Realvækst i forhold til foregående periode (pct.)'\n",
    "df_gdp = df_gdp[I]\n",
    "\n",
    "#Dropping missing values\n",
    "df_gdp = df_gdp.dropna()\n",
    "\n",
    "df_gdp.head()\n"
   ]
  },
  {
   "attachments": {},
   "cell_type": "markdown",
   "metadata": {},
   "source": [
    "\n",
    "\n",
    "Then I transpose the data for GDP, such that the years are rows insted af of columns, and the values for GDP is listed in one column."
   ]
  },
  {
   "cell_type": "code",
   "execution_count": 117,
   "metadata": {},
   "outputs": [
    {
     "name": "stdout",
     "output_type": "stream",
     "text": [
      "                                                          2\n",
      "GDP unit  Realvækst i forhold til foregående periode (pct.)\n",
      "2012                                                    0.2\n",
      "2013                                                    0.9\n",
      "2014                                                    1.6\n",
      "2015                                                    2.3\n",
      "2016                                                    3.2\n",
      "2017                                                    2.8\n",
      "2018                                                    2.0\n",
      "2019                                                    1.5\n",
      "2020                                                   -2.0\n",
      "2021                                                    4.9\n",
      "2022                                                    3.8\n"
     ]
    }
   ],
   "source": [
    "#Transposing the data\n",
    "df_gdp_transposed = df_gdp.transpose()\n",
    "\n",
    "#Showing the transposed dataframe\n",
    "print(df_gdp_transposed)"
   ]
  },
  {
   "attachments": {},
   "cell_type": "markdown",
   "metadata": {},
   "source": [
    "\n",
    "Creating a line plot for the GDP growth."
   ]
  },
  {
   "cell_type": "code",
   "execution_count": 110,
   "metadata": {},
   "outputs": [],
   "source": [
    "#Creating lists to create a line plot\n",
    "#x-axis\n",
    "years_GDP = []\n",
    "\n",
    "for year in range(2012, 2023):\n",
    "    years_GDP.append(year)\n",
    "\n",
    "#y-axis\n",
    "GDP_growth = [0.2, 0.9, 1.6, 2.3, 3.2, 2.8, 2.0, 1.5, -2.0, 4.9, 3.8]"
   ]
  },
  {
   "cell_type": "code",
   "execution_count": 111,
   "metadata": {},
   "outputs": [
    {
     "data": {
      "image/png": "[encoded data removed]",
      "text/plain": [
       "<Figure size 640x480 with 1 Axes>"
      ]
     },
     "metadata": {},
     "output_type": "display_data"
    }
   ],
   "source": [
    "# creating a line plot\n",
    "plt.plot(years_GDP, GDP_growth, linestyle='-', color='Green') \n",
    "plt.xlabel('Years') \n",
    "plt.ylabel('Real GDP growth (pct.)') \n",
    "plt.title('Figure 1: Real GDP growth in Denmark from 2012 to 2022') \n",
    "plt.show() "
   ]
  },
  {
   "attachments": {},
   "cell_type": "markdown",
   "metadata": {},
   "source": [
    "# Loading and cleaning data for the House Price Index (HPI) in Denmark from 2012-2022"
   ]
  },
  {
   "cell_type": "code",
   "execution_count": 112,
   "metadata": {},
   "outputs": [
    {
     "data": {
      "text/html": [
       "<div>\n",
       "<style scoped>\n",
       "    .dataframe tbody tr th:only-of-type {\n",
       "        vertical-align: middle;\n",
       "    }\n",
       "\n",
       "    .dataframe tbody tr th {\n",
       "        vertical-align: top;\n",
       "    }\n",
       "\n",
       "    .dataframe thead th {\n",
       "        text-align: right;\n",
       "    }\n",
       "</style>\n",
       "<table border=\"1\" class=\"dataframe\">\n",
       "  <thead>\n",
       "    <tr style=\"text-align: right;\">\n",
       "      <th></th>\n",
       "      <th>Unnamed: 0</th>\n",
       "      <th>Unnamed: 1</th>\n",
       "      <th>Unnamed: 2</th>\n",
       "      <th>2012</th>\n",
       "      <th>2013</th>\n",
       "      <th>2014</th>\n",
       "      <th>2015</th>\n",
       "      <th>2016</th>\n",
       "      <th>2017</th>\n",
       "      <th>2018</th>\n",
       "      <th>2019</th>\n",
       "      <th>2020</th>\n",
       "      <th>2021</th>\n",
       "      <th>2022</th>\n",
       "    </tr>\n",
       "  </thead>\n",
       "  <tbody>\n",
       "    <tr>\n",
       "      <th>0</th>\n",
       "      <td>Enfamiliehuse</td>\n",
       "      <td>Indeks</td>\n",
       "      <td>Hele landet</td>\n",
       "      <td>85.1</td>\n",
       "      <td>87.4</td>\n",
       "      <td>90.4</td>\n",
       "      <td>95.8</td>\n",
       "      <td>99.6</td>\n",
       "      <td>103.6</td>\n",
       "      <td>107.6</td>\n",
       "      <td>110.8</td>\n",
       "      <td>116.1</td>\n",
       "      <td>128.2</td>\n",
       "      <td>129.2</td>\n",
       "    </tr>\n",
       "    <tr>\n",
       "      <th>1</th>\n",
       "      <td>NaN</td>\n",
       "      <td>Indeks</td>\n",
       "      <td>Landsdel Byen København</td>\n",
       "      <td>79.5</td>\n",
       "      <td>85.7</td>\n",
       "      <td>93.3</td>\n",
       "      <td>101.5</td>\n",
       "      <td>109.4</td>\n",
       "      <td>115.4</td>\n",
       "      <td>122.6</td>\n",
       "      <td>125.4</td>\n",
       "      <td>134.2</td>\n",
       "      <td>152.3</td>\n",
       "      <td>158.6</td>\n",
       "    </tr>\n",
       "    <tr>\n",
       "      <th>2</th>\n",
       "      <td>NaN</td>\n",
       "      <td>Indeks</td>\n",
       "      <td>Landsdel Københavns omegn</td>\n",
       "      <td>77.6</td>\n",
       "      <td>83.1</td>\n",
       "      <td>88.0</td>\n",
       "      <td>95.1</td>\n",
       "      <td>101.8</td>\n",
       "      <td>107.3</td>\n",
       "      <td>112.3</td>\n",
       "      <td>116.5</td>\n",
       "      <td>124.1</td>\n",
       "      <td>143.3</td>\n",
       "      <td>145.1</td>\n",
       "    </tr>\n",
       "    <tr>\n",
       "      <th>3</th>\n",
       "      <td>NaN</td>\n",
       "      <td>Indeks</td>\n",
       "      <td>Landsdel Nordsjælland</td>\n",
       "      <td>72.1</td>\n",
       "      <td>74.2</td>\n",
       "      <td>76.3</td>\n",
       "      <td>82.8</td>\n",
       "      <td>86.2</td>\n",
       "      <td>90.5</td>\n",
       "      <td>95.2</td>\n",
       "      <td>98.7</td>\n",
       "      <td>104.4</td>\n",
       "      <td>121.0</td>\n",
       "      <td>125.6</td>\n",
       "    </tr>\n",
       "    <tr>\n",
       "      <th>4</th>\n",
       "      <td>NaN</td>\n",
       "      <td>Indeks</td>\n",
       "      <td>Landsdel Bornholm</td>\n",
       "      <td>84.7</td>\n",
       "      <td>82.9</td>\n",
       "      <td>82.0</td>\n",
       "      <td>84.0</td>\n",
       "      <td>91.6</td>\n",
       "      <td>101.1</td>\n",
       "      <td>107.1</td>\n",
       "      <td>111.1</td>\n",
       "      <td>122.0</td>\n",
       "      <td>143.1</td>\n",
       "      <td>143.4</td>\n",
       "    </tr>\n",
       "  </tbody>\n",
       "</table>\n",
       "</div>"
      ],
      "text/plain": [
       "      Unnamed: 0 Unnamed: 1                 Unnamed: 2  2012  2013  2014  \\\n",
       "0  Enfamiliehuse     Indeks                Hele landet  85.1  87.4  90.4   \n",
       "1            NaN     Indeks    Landsdel Byen København  79.5  85.7  93.3   \n",
       "2            NaN     Indeks  Landsdel Københavns omegn  77.6  83.1  88.0   \n",
       "3            NaN     Indeks      Landsdel Nordsjælland  72.1  74.2  76.3   \n",
       "4            NaN     Indeks          Landsdel Bornholm  84.7  82.9  82.0   \n",
       "\n",
       "    2015   2016   2017   2018   2019   2020   2021   2022  \n",
       "0   95.8   99.6  103.6  107.6  110.8  116.1  128.2  129.2  \n",
       "1  101.5  109.4  115.4  122.6  125.4  134.2  152.3  158.6  \n",
       "2   95.1  101.8  107.3  112.3  116.5  124.1  143.3  145.1  \n",
       "3   82.8   86.2   90.5   95.2   98.7  104.4  121.0  125.6  \n",
       "4   84.0   91.6  101.1  107.1  111.1  122.0  143.1  143.4  "
      ]
     },
     "execution_count": 112,
     "metadata": {},
     "output_type": "execute_result"
    }
   ],
   "source": [
    "#Loading data for House Price Index (HPI)\n",
    "df_hpi = pd.read_excel('HPI.xlsx', skiprows=2)\n",
    "df_hpi.head()"
   ]
  },
  {
   "attachments": {},
   "cell_type": "markdown",
   "metadata": {},
   "source": [
    "Again, I am only interested in examining real growth in HPI. So I remove all other rows that I will not use in this examination. "
   ]
  },
  {
   "cell_type": "code",
   "execution_count": 113,
   "metadata": {},
   "outputs": [
    {
     "data": {
      "text/html": [
       "<div>\n",
       "<style scoped>\n",
       "    .dataframe tbody tr th:only-of-type {\n",
       "        vertical-align: middle;\n",
       "    }\n",
       "\n",
       "    .dataframe tbody tr th {\n",
       "        vertical-align: top;\n",
       "    }\n",
       "\n",
       "    .dataframe thead th {\n",
       "        text-align: right;\n",
       "    }\n",
       "</style>\n",
       "<table border=\"1\" class=\"dataframe\">\n",
       "  <thead>\n",
       "    <tr style=\"text-align: right;\">\n",
       "      <th></th>\n",
       "      <th>HPI unit</th>\n",
       "      <th>Landsdel</th>\n",
       "      <th>2012</th>\n",
       "      <th>2013</th>\n",
       "      <th>2014</th>\n",
       "      <th>2015</th>\n",
       "      <th>2016</th>\n",
       "      <th>2017</th>\n",
       "      <th>2018</th>\n",
       "      <th>2019</th>\n",
       "      <th>2020</th>\n",
       "      <th>2021</th>\n",
       "      <th>2022</th>\n",
       "    </tr>\n",
       "  </thead>\n",
       "  <tbody>\n",
       "    <tr>\n",
       "      <th>12</th>\n",
       "      <td>Ændring i forhold til året før (pct.)</td>\n",
       "      <td>Hele landet</td>\n",
       "      <td>-3.4</td>\n",
       "      <td>2.7</td>\n",
       "      <td>3.4</td>\n",
       "      <td>6.0</td>\n",
       "      <td>4.0</td>\n",
       "      <td>4.0</td>\n",
       "      <td>3.9</td>\n",
       "      <td>3.0</td>\n",
       "      <td>4.8</td>\n",
       "      <td>10.4</td>\n",
       "      <td>0.8</td>\n",
       "    </tr>\n",
       "    <tr>\n",
       "      <th>13</th>\n",
       "      <td>Ændring i forhold til året før (pct.)</td>\n",
       "      <td>Landsdel Byen København</td>\n",
       "      <td>-2.5</td>\n",
       "      <td>7.8</td>\n",
       "      <td>8.9</td>\n",
       "      <td>8.8</td>\n",
       "      <td>7.8</td>\n",
       "      <td>5.5</td>\n",
       "      <td>6.2</td>\n",
       "      <td>2.3</td>\n",
       "      <td>7.0</td>\n",
       "      <td>13.5</td>\n",
       "      <td>4.1</td>\n",
       "    </tr>\n",
       "    <tr>\n",
       "      <th>14</th>\n",
       "      <td>Ændring i forhold til året før (pct.)</td>\n",
       "      <td>Landsdel Københavns omegn</td>\n",
       "      <td>-3.8</td>\n",
       "      <td>7.1</td>\n",
       "      <td>5.9</td>\n",
       "      <td>8.1</td>\n",
       "      <td>7.0</td>\n",
       "      <td>5.4</td>\n",
       "      <td>4.7</td>\n",
       "      <td>3.7</td>\n",
       "      <td>6.5</td>\n",
       "      <td>15.5</td>\n",
       "      <td>1.3</td>\n",
       "    </tr>\n",
       "    <tr>\n",
       "      <th>15</th>\n",
       "      <td>Ændring i forhold til året før (pct.)</td>\n",
       "      <td>Landsdel Nordsjælland</td>\n",
       "      <td>-3.5</td>\n",
       "      <td>2.9</td>\n",
       "      <td>2.8</td>\n",
       "      <td>8.5</td>\n",
       "      <td>4.1</td>\n",
       "      <td>5.0</td>\n",
       "      <td>5.2</td>\n",
       "      <td>3.7</td>\n",
       "      <td>5.8</td>\n",
       "      <td>15.9</td>\n",
       "      <td>3.8</td>\n",
       "    </tr>\n",
       "    <tr>\n",
       "      <th>16</th>\n",
       "      <td>Ændring i forhold til året før (pct.)</td>\n",
       "      <td>Landsdel Bornholm</td>\n",
       "      <td>-4.4</td>\n",
       "      <td>-2.1</td>\n",
       "      <td>-1.1</td>\n",
       "      <td>2.4</td>\n",
       "      <td>9.0</td>\n",
       "      <td>10.4</td>\n",
       "      <td>5.9</td>\n",
       "      <td>3.7</td>\n",
       "      <td>9.8</td>\n",
       "      <td>17.3</td>\n",
       "      <td>0.2</td>\n",
       "    </tr>\n",
       "  </tbody>\n",
       "</table>\n",
       "</div>"
      ],
      "text/plain": [
       "                                 HPI unit                   Landsdel  2012  \\\n",
       "12  Ændring i forhold til året før (pct.)                Hele landet  -3.4   \n",
       "13  Ændring i forhold til året før (pct.)    Landsdel Byen København  -2.5   \n",
       "14  Ændring i forhold til året før (pct.)  Landsdel Københavns omegn  -3.8   \n",
       "15  Ændring i forhold til året før (pct.)      Landsdel Nordsjælland  -3.5   \n",
       "16  Ændring i forhold til året før (pct.)          Landsdel Bornholm  -4.4   \n",
       "\n",
       "    2013  2014  2015  2016  2017  2018  2019  2020  2021  2022  \n",
       "12   2.7   3.4   6.0   4.0   4.0   3.9   3.0   4.8  10.4   0.8  \n",
       "13   7.8   8.9   8.8   7.8   5.5   6.2   2.3   7.0  13.5   4.1  \n",
       "14   7.1   5.9   8.1   7.0   5.4   4.7   3.7   6.5  15.5   1.3  \n",
       "15   2.9   2.8   8.5   4.1   5.0   5.2   3.7   5.8  15.9   3.8  \n",
       "16  -2.1  -1.1   2.4   9.0  10.4   5.9   3.7   9.8  17.3   0.2  "
      ]
     },
     "execution_count": 113,
     "metadata": {},
     "output_type": "execute_result"
    }
   ],
   "source": [
    "#Cleaning data for HPI\n",
    "\n",
    "#Giving a column title for the \"Landsdele\":\n",
    "df_hpi.rename(columns={'Unnamed: 2': 'Landsdel'}, inplace=True)\n",
    "\n",
    "#Giving a column title for the units of HPI:\n",
    "df_hpi.rename(columns={'Unnamed: 1': 'HPI unit'}, inplace=True)\n",
    "\n",
    "#Removing the columns that is not used\n",
    "del df_hpi['Unnamed: 0']\n",
    "\n",
    "#Only keeping the HPI growth values instead of the index\n",
    "I = df_hpi['HPI unit'] == 'Ændring i forhold til året før (pct.)'\n",
    "df_hpi = df_hpi[I]\n",
    "\n",
    "df_hpi.head()\n"
   ]
  },
  {
   "attachments": {},
   "cell_type": "markdown",
   "metadata": {},
   "source": [
    "Since I'm only interested in examining the HPI across the whole country, I remove the other rows, that shows the HPI for teh different regions (landsdele) in Denmark."
   ]
  },
  {
   "cell_type": "code",
   "execution_count": 114,
   "metadata": {},
   "outputs": [
    {
     "data": {
      "text/html": [
       "<div>\n",
       "<style scoped>\n",
       "    .dataframe tbody tr th:only-of-type {\n",
       "        vertical-align: middle;\n",
       "    }\n",
       "\n",
       "    .dataframe tbody tr th {\n",
       "        vertical-align: top;\n",
       "    }\n",
       "\n",
       "    .dataframe thead th {\n",
       "        text-align: right;\n",
       "    }\n",
       "</style>\n",
       "<table border=\"1\" class=\"dataframe\">\n",
       "  <thead>\n",
       "    <tr style=\"text-align: right;\">\n",
       "      <th></th>\n",
       "      <th>HPI unit</th>\n",
       "      <th>Landsdel</th>\n",
       "      <th>2012</th>\n",
       "      <th>2013</th>\n",
       "      <th>2014</th>\n",
       "      <th>2015</th>\n",
       "      <th>2016</th>\n",
       "      <th>2017</th>\n",
       "      <th>2018</th>\n",
       "      <th>2019</th>\n",
       "      <th>2020</th>\n",
       "      <th>2021</th>\n",
       "      <th>2022</th>\n",
       "    </tr>\n",
       "  </thead>\n",
       "  <tbody>\n",
       "    <tr>\n",
       "      <th>12</th>\n",
       "      <td>Ændring i forhold til året før (pct.)</td>\n",
       "      <td>Hele landet</td>\n",
       "      <td>-3.4</td>\n",
       "      <td>2.7</td>\n",
       "      <td>3.4</td>\n",
       "      <td>6.0</td>\n",
       "      <td>4.0</td>\n",
       "      <td>4.0</td>\n",
       "      <td>3.9</td>\n",
       "      <td>3.0</td>\n",
       "      <td>4.8</td>\n",
       "      <td>10.4</td>\n",
       "      <td>0.8</td>\n",
       "    </tr>\n",
       "  </tbody>\n",
       "</table>\n",
       "</div>"
      ],
      "text/plain": [
       "                                 HPI unit     Landsdel  2012  2013  2014  \\\n",
       "12  Ændring i forhold til året før (pct.)  Hele landet  -3.4   2.7   3.4   \n",
       "\n",
       "    2015  2016  2017  2018  2019  2020  2021  2022  \n",
       "12   6.0   4.0   4.0   3.9   3.0   4.8  10.4   0.8  "
      ]
     },
     "execution_count": 114,
     "metadata": {},
     "output_type": "execute_result"
    }
   ],
   "source": [
    "#Only keeping the HPI growth values for the whole country (Hele landet)\n",
    "I = df_hpi['Landsdel'] == 'Hele landet'\n",
    "df_hpi = df_hpi[I]\n",
    "\n",
    "df_hpi.head()"
   ]
  },
  {
   "attachments": {},
   "cell_type": "markdown",
   "metadata": {},
   "source": [
    "Then I transpose the data for HPI, such that the years are rows insted af of columns, and the values for HPI is listed in one column."
   ]
  },
  {
   "cell_type": "code",
   "execution_count": 116,
   "metadata": {},
   "outputs": [
    {
     "name": "stdout",
     "output_type": "stream",
     "text": [
      "                                             12\n",
      "HPI unit  Ændring i forhold til året før (pct.)\n",
      "Landsdel                            Hele landet\n",
      "2012                                       -3.4\n",
      "2013                                        2.7\n",
      "2014                                        3.4\n",
      "2015                                        6.0\n",
      "2016                                        4.0\n",
      "2017                                        4.0\n",
      "2018                                        3.9\n",
      "2019                                        3.0\n",
      "2020                                        4.8\n",
      "2021                                       10.4\n",
      "2022                                        0.8\n"
     ]
    }
   ],
   "source": [
    "#Transposing the data\n",
    "df_hpi_transposed = df_hpi.transpose()\n",
    "\n",
    "#Showing the transposed dataframe\n",
    "print(df_hpi_transposed)"
   ]
  },
  {
   "attachments": {},
   "cell_type": "markdown",
   "metadata": {},
   "source": [
    "\n",
    "Creating a line plot of the Real Growth in HPI"
   ]
  },
  {
   "cell_type": "code",
   "execution_count": 118,
   "metadata": {},
   "outputs": [],
   "source": [
    "#Creating lists to create a line plot\n",
    "#x-axis\n",
    "years_HPI = []\n",
    "\n",
    "for year in range(2012, 2023):\n",
    "    years_HPI.append(year)\n",
    "\n",
    "#y-axis\n",
    "HPI_growth = [-3.4, 2.7, 3.4, 6.0, 4.0, 4.0, 3.9, 3.0, 4.8, 10.4, 0.8]"
   ]
  },
  {
   "cell_type": "code",
   "execution_count": 119,
   "metadata": {},
   "outputs": [
    {
     "data": {
      "image/png": "[encoded data removed]",
      "text/plain": [
       "<Figure size 640x480 with 1 Axes>"
      ]
     },
     "metadata": {},
     "output_type": "display_data"
    }
   ],
   "source": [
    "# creating a line plot\n",
    "plt.plot(years_HPI, HPI_growth, linestyle='-', color='Green') \n",
    "plt.xlabel('Years') \n",
    "plt.ylabel('Real growth in HPI (pct.)') \n",
    "plt.title('Figure 2: Real growth in HPI in Denmark from 2012 to 2022') \n",
    "plt.show() "
   ]
  },
  {
   "cell_type": "markdown",
   "metadata": {},
   "source": [
    "## Explore each data set"
   ]
  },
  {
   "cell_type": "markdown",
   "metadata": {},
   "source": [
    "In order to be able to **explore the raw data**, you may provide **static** and **interactive plots** to show important developments "
   ]
  },
  {
   "cell_type": "markdown",
   "metadata": {},
   "source": [
    "**Interactive plot** :"
   ]
  },
  {
   "cell_type": "code",
   "execution_count": null,
   "metadata": {},
   "outputs": [],
   "source": [
    "def plot_func():\n",
    "    # Function that operates on data set\n",
    "    pass\n",
    "\n",
    "widgets.interact(plot_func, \n",
    "    # Let the widget interact with data through plot_func()    \n",
    "); \n"
   ]
  },
  {
   "cell_type": "markdown",
   "metadata": {},
   "source": [
    "Explain what you see when moving elements of the interactive plot around. "
   ]
  },
  {
   "cell_type": "markdown",
   "metadata": {},
   "source": [
    "# Merge data sets"
   ]
  },
  {
   "cell_type": "markdown",
   "metadata": {},
   "source": [
    "Now you create combinations of your loaded data sets. Remember the illustration of a (inner) **merge**:"
   ]
  },
  {
   "cell_type": "code",
   "execution_count": null,
   "metadata": {},
   "outputs": [],
   "source": [
    "plt.figure(figsize=(15,7))\n",
    "v = venn2(subsets = (4, 4, 10), set_labels = ('Data X', 'Data Y'))\n",
    "v.get_label_by_id('100').set_text('dropped')\n",
    "v.get_label_by_id('010').set_text('dropped' )\n",
    "v.get_label_by_id('110').set_text('included')\n",
    "plt.show()"
   ]
  },
  {
   "cell_type": "markdown",
   "metadata": {},
   "source": [
    "Here we are dropping elements from both data set X and data set Y. A left join would keep all observations in data X intact and subset only from Y. \n",
    "\n",
    "Make sure that your resulting data sets have the correct number of rows and columns. That is, be clear about which observations are thrown away. \n",
    "\n",
    "**Note:** Don't make Venn diagrams in your own data project. It is just for exposition. "
   ]
  },
  {
   "cell_type": "markdown",
   "metadata": {},
   "source": [
    "# Analysis"
   ]
  },
  {
   "cell_type": "markdown",
   "metadata": {},
   "source": [
    "To get a quick overview of the data, we show some **summary statistics** on a meaningful aggregation. "
   ]
  },
  {
   "cell_type": "markdown",
   "metadata": {},
   "source": [
    "MAKE FURTHER ANALYSIS. EXPLAIN THE CODE BRIEFLY AND SUMMARIZE THE RESULTS."
   ]
  },
  {
   "cell_type": "markdown",
   "metadata": {},
   "source": [
    "# Conclusion"
   ]
  },
  {
   "attachments": {},
   "cell_type": "markdown",
   "metadata": {},
   "source": [
    "ADD CONCISE CONLUSION. "
   ]
  }
 ],
 "metadata": {
  "kernelspec": {
   "display_name": "base",
   "language": "python",
   "name": "python3"
  },
  "language_info": {
   "codemirror_mode": {
    "name": "ipython",
    "version": 3
   },
   "file_extension": ".py",
   "mimetype": "text/x-python",
   "name": "python",
   "nbconvert_exporter": "python",
   "pygments_lexer": "ipython3",
   "version": "3.9.13"
  },
  "toc-autonumbering": true,
  "vscode": {
   "interpreter": {
    "hash": "545c8d92fb4c24119f13202458cf7a7750e646aaf47478867c31e3beae5469ad"
   }
  }
 },
 "nbformat": 4,
 "nbformat_minor": 4
}
