{
 "cells": [
  {
   "attachments": {},
   "cell_type": "markdown",
   "metadata": {},
   "source": [
    "# The evolution of house prices and GDP growth in Denmark"
   ]
  },
  {
   "attachments": {},
   "cell_type": "markdown",
   "metadata": {},
   "source": [
    "> **Note the following:** \n",
    "> 1. This is *not* meant to be an example of an actual **data analysis project**, just an example of how to structure such a project.\n",
    "> 1. Remember the general advice on structuring and commenting your code\n",
    "> 1. The `dataproject.py` file includes a function which can be used multiple times in this notebook."
   ]
  },
  {
   "cell_type": "markdown",
   "metadata": {},
   "source": [
    "Imports and set magics:"
   ]
  },
  {
   "cell_type": "code",
   "execution_count": 341,
   "metadata": {},
   "outputs": [
    {
     "name": "stdout",
     "output_type": "stream",
     "text": [
      "The autoreload extension is already loaded. To reload it, use:\n",
      "  %reload_ext autoreload\n"
     ]
    }
   ],
   "source": [
    "import pandas as pd\n",
    "import numpy as np\n",
    "import matplotlib.pyplot as plt\n",
    "import ipywidgets as widgets\n",
    "#from matplotlib_venn import venn2 SKAL MED??\n",
    "plt.style.use('seaborn-whitegrid')\n",
    "#import pydst SKAL MED????\n",
    "#dst = pydst.Dst(lang='en') SKAL MED??\n",
    "\n",
    "# autoreload modules when code is run\n",
    "%load_ext autoreload\n",
    "%autoreload 2\n",
    "\n",
    "# user written modules\n",
    "import dataproject\n"
   ]
  },
  {
   "attachments": {},
   "cell_type": "markdown",
   "metadata": {},
   "source": [
    "# Loading data for GDP and house prices in Denmark from 2012-2022"
   ]
  },
  {
   "attachments": {},
   "cell_type": "markdown",
   "metadata": {},
   "source": [
    "The data for GDP is downloaded from \"Danmarks Statistik NAN1\", and the data for House Prices is downloaded from \"Finans Danmark boligstatistik BM010\"."
   ]
  },
  {
   "cell_type": "code",
   "execution_count": 342,
   "metadata": {},
   "outputs": [],
   "source": [
    "#Loading data for GDP\n",
    "df_gdp = pd.read_excel('GDP.xlsx', skiprows=2)\n",
    "\n",
    "#Loading data for House Prices (unit: kr. per m2)\n",
    "df_hp = pd.read_excel('Houseprices.xlsx', skiprows=2)"
   ]
  },
  {
   "attachments": {},
   "cell_type": "markdown",
   "metadata": {},
   "source": [
    "# Cleaning data for GDP"
   ]
  },
  {
   "cell_type": "code",
   "execution_count": 343,
   "metadata": {},
   "outputs": [
    {
     "data": {
      "text/html": [
       "<div>\n",
       "<style scoped>\n",
       "    .dataframe tbody tr th:only-of-type {\n",
       "        vertical-align: middle;\n",
       "    }\n",
       "\n",
       "    .dataframe tbody tr th {\n",
       "        vertical-align: top;\n",
       "    }\n",
       "\n",
       "    .dataframe thead th {\n",
       "        text-align: right;\n",
       "    }\n",
       "</style>\n",
       "<table border=\"1\" class=\"dataframe\">\n",
       "  <thead>\n",
       "    <tr style=\"text-align: right;\">\n",
       "      <th></th>\n",
       "      <th>GDP unit</th>\n",
       "      <th>2012</th>\n",
       "      <th>2013</th>\n",
       "      <th>2014</th>\n",
       "      <th>2015</th>\n",
       "      <th>2016</th>\n",
       "      <th>2017</th>\n",
       "      <th>2018</th>\n",
       "      <th>2019</th>\n",
       "      <th>2020</th>\n",
       "      <th>2021</th>\n",
       "      <th>2022</th>\n",
       "    </tr>\n",
       "  </thead>\n",
       "  <tbody>\n",
       "    <tr>\n",
       "      <th>2</th>\n",
       "      <td>Realvækst i forhold til foregående periode (pct.)</td>\n",
       "      <td>0.2</td>\n",
       "      <td>0.9</td>\n",
       "      <td>1.6</td>\n",
       "      <td>2.3</td>\n",
       "      <td>3.2</td>\n",
       "      <td>2.8</td>\n",
       "      <td>2.0</td>\n",
       "      <td>1.5</td>\n",
       "      <td>-2.0</td>\n",
       "      <td>4.9</td>\n",
       "      <td>3.8</td>\n",
       "    </tr>\n",
       "  </tbody>\n",
       "</table>\n",
       "</div>"
      ],
      "text/plain": [
       "                                            GDP unit  2012  2013  2014  2015  \\\n",
       "2  Realvækst i forhold til foregående periode (pct.)   0.2   0.9   1.6   2.3   \n",
       "\n",
       "   2016  2017  2018  2019  2020  2021  2022  \n",
       "2   3.2   2.8   2.0   1.5  -2.0   4.9   3.8  "
      ]
     },
     "execution_count": 343,
     "metadata": {},
     "output_type": "execute_result"
    }
   ],
   "source": [
    "#Cleaning data for GDP\n",
    "\n",
    "#Giving a column title for the different units for GDP:\n",
    "df_gdp.rename(columns={'Unnamed: 1': 'GDP unit'}, inplace=True)\n",
    "\n",
    "#Removing the columns that is not used\n",
    "del df_gdp['Unnamed: 0']\n",
    "\n",
    "#Only keeping the GDP growth values\n",
    "I = df_gdp['GDP unit'] == 'Realvækst i forhold til foregående periode (pct.)'\n",
    "df_gdp = df_gdp[I]\n",
    "\n",
    "#Dropping missing values\n",
    "df_gdp = df_gdp.dropna()\n",
    "\n",
    "df_gdp.head()\n"
   ]
  },
  {
   "attachments": {},
   "cell_type": "markdown",
   "metadata": {},
   "source": [
    "**MANGLER**\n",
    "\n",
    "Then I \"transform\" the data for GDP, such that the years are rows insted af of columns, and the values for GDP is listed in one column."
   ]
  },
  {
   "cell_type": "code",
   "execution_count": 344,
   "metadata": {},
   "outputs": [
    {
     "ename": "ValueError",
     "evalue": "stubname can't be identical to a column name",
     "output_type": "error",
     "traceback": [
      "\u001b[0;31m---------------------------------------------------------------------------\u001b[0m",
      "\u001b[0;31mValueError\u001b[0m                                Traceback (most recent call last)",
      "\u001b[0;32m/var/folders/yq/b0zj8c9x1gb_6ktg_p7mc2840000gn/T/ipykernel_57137/344966512.py\u001b[0m in \u001b[0;36m<module>\u001b[0;34m\u001b[0m\n\u001b[1;32m      1\u001b[0m \u001b[0;31m# e. convert to long\u001b[0m\u001b[0;34m\u001b[0m\u001b[0;34m\u001b[0m\u001b[0m\n\u001b[0;32m----> 2\u001b[0;31m \u001b[0mdf_gdp_long\u001b[0m \u001b[0;34m=\u001b[0m \u001b[0mpd\u001b[0m\u001b[0;34m.\u001b[0m\u001b[0mwide_to_long\u001b[0m\u001b[0;34m(\u001b[0m\u001b[0mdf_gdp\u001b[0m\u001b[0;34m,\u001b[0m \u001b[0mstubnames\u001b[0m\u001b[0;34m=\u001b[0m\u001b[0;34m[\u001b[0m\u001b[0;34m'2012'\u001b[0m\u001b[0;34m,\u001b[0m \u001b[0;34m'2013'\u001b[0m\u001b[0;34m,\u001b[0m \u001b[0;34m'2014'\u001b[0m\u001b[0;34m,\u001b[0m \u001b[0;34m'2015'\u001b[0m\u001b[0;34m,\u001b[0m \u001b[0;34m'2016'\u001b[0m\u001b[0;34m,\u001b[0m \u001b[0;34m'2017'\u001b[0m\u001b[0;34m,\u001b[0m \u001b[0;34m'2018'\u001b[0m\u001b[0;34m,\u001b[0m \u001b[0;34m'2019'\u001b[0m\u001b[0;34m,\u001b[0m \u001b[0;34m'2020'\u001b[0m\u001b[0;34m,\u001b[0m \u001b[0;34m'2021'\u001b[0m\u001b[0;34m,\u001b[0m \u001b[0;34m'2022'\u001b[0m\u001b[0;34m]\u001b[0m\u001b[0;34m,\u001b[0m \u001b[0mi\u001b[0m\u001b[0;34m=\u001b[0m\u001b[0;34m'GDP'\u001b[0m\u001b[0;34m,\u001b[0m \u001b[0mj\u001b[0m\u001b[0;34m=\u001b[0m\u001b[0;34m'year'\u001b[0m\u001b[0;34m,\u001b[0m \u001b[0msep\u001b[0m\u001b[0;34m=\u001b[0m\u001b[0;34m'_'\u001b[0m\u001b[0;34m)\u001b[0m\u001b[0;34m\u001b[0m\u001b[0;34m\u001b[0m\u001b[0m\n\u001b[0m\u001b[1;32m      3\u001b[0m \u001b[0;31m#df_gdp_long.reset_index(inplace=True)\u001b[0m\u001b[0;34m\u001b[0m\u001b[0;34m\u001b[0m\u001b[0m\n\u001b[1;32m      4\u001b[0m \u001b[0;34m\u001b[0m\u001b[0m\n\u001b[1;32m      5\u001b[0m \u001b[0mprint\u001b[0m\u001b[0;34m(\u001b[0m\u001b[0mdf_gdp_long\u001b[0m\u001b[0;34m)\u001b[0m\u001b[0;34m\u001b[0m\u001b[0;34m\u001b[0m\u001b[0m\n",
      "\u001b[0;32m~/opt/anaconda3/lib/python3.9/site-packages/pandas/core/reshape/melt.py\u001b[0m in \u001b[0;36mwide_to_long\u001b[0;34m(df, stubnames, i, j, sep, suffix)\u001b[0m\n\u001b[1;32m    521\u001b[0m \u001b[0;34m\u001b[0m\u001b[0m\n\u001b[1;32m    522\u001b[0m     \u001b[0;32mif\u001b[0m \u001b[0many\u001b[0m\u001b[0;34m(\u001b[0m\u001b[0mcol\u001b[0m \u001b[0;32min\u001b[0m \u001b[0mstubnames\u001b[0m \u001b[0;32mfor\u001b[0m \u001b[0mcol\u001b[0m \u001b[0;32min\u001b[0m \u001b[0mdf\u001b[0m\u001b[0;34m.\u001b[0m\u001b[0mcolumns\u001b[0m\u001b[0;34m)\u001b[0m\u001b[0;34m:\u001b[0m\u001b[0;34m\u001b[0m\u001b[0;34m\u001b[0m\u001b[0m\n\u001b[0;32m--> 523\u001b[0;31m         \u001b[0;32mraise\u001b[0m \u001b[0mValueError\u001b[0m\u001b[0;34m(\u001b[0m\u001b[0;34m\"stubname can't be identical to a column name\"\u001b[0m\u001b[0;34m)\u001b[0m\u001b[0;34m\u001b[0m\u001b[0;34m\u001b[0m\u001b[0m\n\u001b[0m\u001b[1;32m    524\u001b[0m \u001b[0;34m\u001b[0m\u001b[0m\n\u001b[1;32m    525\u001b[0m     \u001b[0;32mif\u001b[0m \u001b[0;32mnot\u001b[0m \u001b[0mis_list_like\u001b[0m\u001b[0;34m(\u001b[0m\u001b[0mi\u001b[0m\u001b[0;34m)\u001b[0m\u001b[0;34m:\u001b[0m\u001b[0;34m\u001b[0m\u001b[0;34m\u001b[0m\u001b[0m\n",
      "\u001b[0;31mValueError\u001b[0m: stubname can't be identical to a column name"
     ]
    }
   ],
   "source": [
    "# e. convert to long\n",
    "df_gdp_long = pd.wide_to_long(df_gdp, stubnames=['2012', '2013', '2014', '2015', '2016', '2017', '2018', '2019', '2020', '2021', '2022'], i='GDP', j='year', sep='_')\n",
    "#df_gdp_long.reset_index(inplace=True)\n",
    "\n",
    "print(df_gdp_long)\n",
    "\n",
    "# # f. drop missing and convert to float\n",
    "# I = prices_long.loc[prices_long.price == '..']\n",
    "# prices_long.drop(I.index, inplace=True)\n",
    "# prices_long.price = prices_long.price.astype('float')\n",
    "\n",
    "# # g. create date variable\n",
    "# prices_long['d'] = (prices_long.year_quarter.astype(str).str[:4] # grab the year, first four digits\n",
    "#           + 'Q' # add the letter Q \n",
    "#           + prices_long.year_quarter.astype(str).str[4]) # the quarter (fifth digit)\n",
    "# prices_long['date'] = pd.to_datetime(prices_long.d)\n",
    "\n",
    "# # h. cleanup \n",
    "# del prices_long['year_quarter']\n",
    "# del prices_long['d']\n",
    "\n",
    "# prices_long.head()"
   ]
  },
  {
   "cell_type": "code",
   "execution_count": 353,
   "metadata": {},
   "outputs": [
    {
     "name": "stdout",
     "output_type": "stream",
     "text": [
      "                                                          2\n",
      "GDP unit  Realvækst i forhold til foregående periode (pct.)\n",
      "2012                                                    0.2\n",
      "2013                                                    0.9\n",
      "2014                                                    1.6\n",
      "2015                                                    2.3\n",
      "2016                                                    3.2\n",
      "2017                                                    2.8\n",
      "2018                                                    2.0\n",
      "2019                                                    1.5\n",
      "2020                                                   -2.0\n",
      "2021                                                    4.9\n",
      "2022                                                    3.8\n"
     ]
    }
   ],
   "source": [
    "#alternativ metode: ????\n",
    "\n",
    "# transpose the dataframe\n",
    "df_gdp_transposed = df_gdp.transpose()\n",
    "\n",
    "# show the transposed dataframe\n",
    "print(df_gdp_transposed)\n",
    "\n"
   ]
  },
  {
   "attachments": {},
   "cell_type": "markdown",
   "metadata": {},
   "source": [
    "\n",
    "I now create a line plot for the GDP growth."
   ]
  },
  {
   "cell_type": "code",
   "execution_count": 349,
   "metadata": {},
   "outputs": [],
   "source": [
    "#Creating lists to create a line plot\n",
    "#x-axis\n",
    "years_GDP = []\n",
    "\n",
    "for year in range(2012, 2023):\n",
    "    years_GDP.append(year)\n",
    "\n",
    "#y-axis\n",
    "#HVORDAN KAN DET GØRES SMARTERE???\n",
    "GDP_growth = [0.2, 0.9, 1.6, 2.3, 3.2, 2.8, 2.0, 1.5, -2.0, 4.9, 3.8]"
   ]
  },
  {
   "cell_type": "code",
   "execution_count": 355,
   "metadata": {},
   "outputs": [
    {
     "data": {
      "image/png": "[encoded data removed]",
      "text/plain": [
       "<Figure size 640x480 with 1 Axes>"
      ]
     },
     "metadata": {},
     "output_type": "display_data"
    }
   ],
   "source": [
    "# creating a line plot\n",
    "plt.plot(years_GDP, GDP_growth, linestyle='-', color='Green') \n",
    "plt.xlabel('Years') \n",
    "plt.ylabel('Real GDP growth (pct.)') \n",
    "plt.title('Figure 1: Real GDP growth in Denmark from 2012 to 2022') \n",
    "plt.show() "
   ]
  },
  {
   "attachments": {},
   "cell_type": "markdown",
   "metadata": {},
   "source": [
    "# Cleaning data for House Prices"
   ]
  },
  {
   "cell_type": "code",
   "execution_count": 354,
   "metadata": {},
   "outputs": [
    {
     "data": {
      "text/html": [
       "<div>\n",
       "<style scoped>\n",
       "    .dataframe tbody tr th:only-of-type {\n",
       "        vertical-align: middle;\n",
       "    }\n",
       "\n",
       "    .dataframe tbody tr th {\n",
       "        vertical-align: top;\n",
       "    }\n",
       "\n",
       "    .dataframe thead th {\n",
       "        text-align: right;\n",
       "    }\n",
       "</style>\n",
       "<table border=\"1\" class=\"dataframe\">\n",
       "  <thead>\n",
       "    <tr style=\"text-align: right;\">\n",
       "      <th></th>\n",
       "      <th>municipality</th>\n",
       "      <th>price2012 q1</th>\n",
       "      <th>price2012 q2</th>\n",
       "      <th>price2012 q3</th>\n",
       "      <th>price2012 q4</th>\n",
       "      <th>price2013 q1</th>\n",
       "      <th>price2013 q2</th>\n",
       "      <th>price2013 q3</th>\n",
       "      <th>price2013 q4</th>\n",
       "      <th>price2014 q1</th>\n",
       "      <th>...</th>\n",
       "      <th>price2020 q3</th>\n",
       "      <th>price2020 q4</th>\n",
       "      <th>price2021 q1</th>\n",
       "      <th>price2021 q2</th>\n",
       "      <th>price2021 q3</th>\n",
       "      <th>price2021 q4</th>\n",
       "      <th>price2022 q1</th>\n",
       "      <th>price2022 q2</th>\n",
       "      <th>price2022 q3</th>\n",
       "      <th>price2022 q4</th>\n",
       "    </tr>\n",
       "  </thead>\n",
       "  <tbody>\n",
       "    <tr>\n",
       "      <th>0</th>\n",
       "      <td>Hele landet</td>\n",
       "      <td>10972</td>\n",
       "      <td>11072</td>\n",
       "      <td>11084</td>\n",
       "      <td>10931</td>\n",
       "      <td>11041</td>\n",
       "      <td>11167</td>\n",
       "      <td>11128</td>\n",
       "      <td>11082</td>\n",
       "      <td>11100</td>\n",
       "      <td>...</td>\n",
       "      <td>14752</td>\n",
       "      <td>15076</td>\n",
       "      <td>15736</td>\n",
       "      <td>16377</td>\n",
       "      <td>16595</td>\n",
       "      <td>16528</td>\n",
       "      <td>16747</td>\n",
       "      <td>16898</td>\n",
       "      <td>16412</td>\n",
       "      <td>15491</td>\n",
       "    </tr>\n",
       "    <tr>\n",
       "      <th>1</th>\n",
       "      <td>København</td>\n",
       "      <td>22289</td>\n",
       "      <td>23782</td>\n",
       "      <td>23343</td>\n",
       "      <td>22932</td>\n",
       "      <td>24217</td>\n",
       "      <td>24611</td>\n",
       "      <td>24334</td>\n",
       "      <td>25883</td>\n",
       "      <td>25429</td>\n",
       "      <td>...</td>\n",
       "      <td>40458</td>\n",
       "      <td>42173</td>\n",
       "      <td>45636</td>\n",
       "      <td>46966</td>\n",
       "      <td>49455</td>\n",
       "      <td>47726</td>\n",
       "      <td>48374</td>\n",
       "      <td>50551</td>\n",
       "      <td>48954</td>\n",
       "      <td>42327</td>\n",
       "    </tr>\n",
       "    <tr>\n",
       "      <th>2</th>\n",
       "      <td>Frederiksberg</td>\n",
       "      <td>27052</td>\n",
       "      <td>27321</td>\n",
       "      <td>33137</td>\n",
       "      <td>34696</td>\n",
       "      <td>35653</td>\n",
       "      <td>34015</td>\n",
       "      <td>30697</td>\n",
       "      <td>33955</td>\n",
       "      <td>38057</td>\n",
       "      <td>...</td>\n",
       "      <td>54290</td>\n",
       "      <td>64237</td>\n",
       "      <td>63713</td>\n",
       "      <td>74204</td>\n",
       "      <td>73317</td>\n",
       "      <td>77872</td>\n",
       "      <td>80966</td>\n",
       "      <td>90034</td>\n",
       "      <td>76108</td>\n",
       "      <td>54166</td>\n",
       "    </tr>\n",
       "    <tr>\n",
       "      <th>3</th>\n",
       "      <td>Dragør</td>\n",
       "      <td>23083</td>\n",
       "      <td>19853</td>\n",
       "      <td>20733</td>\n",
       "      <td>21718</td>\n",
       "      <td>22948</td>\n",
       "      <td>23766</td>\n",
       "      <td>23803</td>\n",
       "      <td>23063</td>\n",
       "      <td>24022</td>\n",
       "      <td>...</td>\n",
       "      <td>33646</td>\n",
       "      <td>31565</td>\n",
       "      <td>35614</td>\n",
       "      <td>39863</td>\n",
       "      <td>37155</td>\n",
       "      <td>38977</td>\n",
       "      <td>39221</td>\n",
       "      <td>39417</td>\n",
       "      <td>41378</td>\n",
       "      <td>34750</td>\n",
       "    </tr>\n",
       "    <tr>\n",
       "      <th>4</th>\n",
       "      <td>Tårnby</td>\n",
       "      <td>17417</td>\n",
       "      <td>18042</td>\n",
       "      <td>19078</td>\n",
       "      <td>18386</td>\n",
       "      <td>18540</td>\n",
       "      <td>19386</td>\n",
       "      <td>21018</td>\n",
       "      <td>20756</td>\n",
       "      <td>20155</td>\n",
       "      <td>...</td>\n",
       "      <td>29363</td>\n",
       "      <td>29819</td>\n",
       "      <td>32239</td>\n",
       "      <td>36583</td>\n",
       "      <td>36839</td>\n",
       "      <td>34563</td>\n",
       "      <td>35810</td>\n",
       "      <td>35703</td>\n",
       "      <td>33769</td>\n",
       "      <td>29328</td>\n",
       "    </tr>\n",
       "  </tbody>\n",
       "</table>\n",
       "<p>5 rows × 45 columns</p>\n",
       "</div>"
      ],
      "text/plain": [
       "    municipality price2012 q1 price2012 q2 price2012 q3 price2012 q4  \\\n",
       "0    Hele landet        10972        11072        11084        10931   \n",
       "1      København        22289        23782        23343        22932   \n",
       "2  Frederiksberg        27052        27321        33137        34696   \n",
       "3         Dragør        23083        19853        20733        21718   \n",
       "4         Tårnby        17417        18042        19078        18386   \n",
       "\n",
       "   price2013 q1 price2013 q2 price2013 q3 price2013 q4 price2014 q1  ...  \\\n",
       "0         11041        11167        11128        11082        11100  ...   \n",
       "1         24217        24611        24334        25883        25429  ...   \n",
       "2         35653        34015        30697        33955        38057  ...   \n",
       "3         22948        23766        23803        23063        24022  ...   \n",
       "4         18540        19386        21018        20756        20155  ...   \n",
       "\n",
       "  price2020 q3 price2020 q4 price2021 q1 price2021 q2 price2021 q3  \\\n",
       "0        14752        15076        15736        16377        16595   \n",
       "1        40458        42173        45636        46966        49455   \n",
       "2        54290        64237        63713        74204        73317   \n",
       "3        33646        31565        35614        39863        37155   \n",
       "4        29363        29819        32239        36583        36839   \n",
       "\n",
       "  price2021 q4 price2022 q1 price2022 q2  price2022 q3  price2022 q4  \n",
       "0        16528        16747        16898         16412         15491  \n",
       "1        47726        48374        50551         48954         42327  \n",
       "2        77872        80966        90034         76108         54166  \n",
       "3        38977        39221        39417         41378         34750  \n",
       "4        34563        35810        35703         33769         29328  \n",
       "\n",
       "[5 rows x 45 columns]"
      ]
     },
     "execution_count": 354,
     "metadata": {},
     "output_type": "execute_result"
    }
   ],
   "source": [
    "#Cleaning data for Houseprices \n",
    "\n",
    "#Giving a column title for the municipalities:\n",
    "df_hp.rename(columns={'Unnamed: 2': 'municipality'}, inplace=True)\n",
    "\n",
    "#Removing the columns that is not used\n",
    "del df_hp['Unnamed: 0']\n",
    "del df_hp['Unnamed: 1']\n",
    "\n",
    "#Renaming time colums 1992K1 -> price1992 q1\n",
    "timecolumn_dict = {} \n",
    "for y in range(2012,2022+1): \n",
    "    for k in range(1,4+1): \n",
    "        q_from = f'{y}K{k}'\n",
    "        q_to   = f'price{y} q{k}'\n",
    "        timecolumn_dict[q_from] = q_to\n",
    "df_hp = df_hp.rename(columns = timecolumn_dict)\n",
    "\n",
    "#Dropping missing values\n",
    "df_hp = df_hp.dropna()\n",
    "\n",
    "\n",
    "df_hp.head()"
   ]
  },
  {
   "attachments": {},
   "cell_type": "markdown",
   "metadata": {},
   "source": [
    "**Mangler** \n",
    "\n",
    "Calculating the average house price for each year (kr. per m2)"
   ]
  },
  {
   "cell_type": "code",
   "execution_count": null,
   "metadata": {},
   "outputs": [],
   "source": [
    "#Calculating the average house price for each year\n",
    "\n"
   ]
  },
  {
   "attachments": {},
   "cell_type": "markdown",
   "metadata": {},
   "source": [
    "**Mangler**\n",
    "\n",
    "Calculating the Real House Prices Growth"
   ]
  },
  {
   "cell_type": "code",
   "execution_count": null,
   "metadata": {},
   "outputs": [],
   "source": []
  },
  {
   "attachments": {},
   "cell_type": "markdown",
   "metadata": {},
   "source": [
    "**Mangler** \n",
    "\n",
    "Creating a line plot of the Real House Price Growth"
   ]
  },
  {
   "cell_type": "code",
   "execution_count": 357,
   "metadata": {},
   "outputs": [
    {
     "ename": "SyntaxError",
     "evalue": "invalid syntax (758295604.py, line 2)",
     "output_type": "error",
     "traceback": [
      "\u001b[0;36m  File \u001b[0;32m\"/var/folders/yq/b0zj8c9x1gb_6ktg_p7mc2840000gn/T/ipykernel_57137/758295604.py\"\u001b[0;36m, line \u001b[0;32m2\u001b[0m\n\u001b[0;31m    plt.plot(x value, y value, linestyle='-', color='Green')\u001b[0m\n\u001b[0m               ^\u001b[0m\n\u001b[0;31mSyntaxError\u001b[0m\u001b[0;31m:\u001b[0m invalid syntax\n"
     ]
    }
   ],
   "source": [
    "# creating a line plot\n",
    "plt.plot(x value, y value, linestyle='-', color='Green') \n",
    "plt.xlabel('Years') \n",
    "plt.ylabel('Real House Prices growth (pct.)') \n",
    "plt.title('Figure 2: Real House Prices growth in Denmark from 2012 to 2022') \n",
    "plt.show() "
   ]
  },
  {
   "cell_type": "code",
   "execution_count": null,
   "metadata": {},
   "outputs": [],
   "source": [
    "#Producing a summary statistics for house prices\n",
    "df_hp.describe()"
   ]
  },
  {
   "cell_type": "markdown",
   "metadata": {},
   "source": [
    "## Explore each data set"
   ]
  },
  {
   "cell_type": "markdown",
   "metadata": {},
   "source": [
    "In order to be able to **explore the raw data**, you may provide **static** and **interactive plots** to show important developments "
   ]
  },
  {
   "cell_type": "markdown",
   "metadata": {},
   "source": [
    "**Interactive plot** :"
   ]
  },
  {
   "cell_type": "code",
   "execution_count": null,
   "metadata": {},
   "outputs": [],
   "source": [
    "def plot_func():\n",
    "    # Function that operates on data set\n",
    "    pass\n",
    "\n",
    "widgets.interact(plot_func, \n",
    "    # Let the widget interact with data through plot_func()    \n",
    "); \n"
   ]
  },
  {
   "cell_type": "markdown",
   "metadata": {},
   "source": [
    "Explain what you see when moving elements of the interactive plot around. "
   ]
  },
  {
   "cell_type": "markdown",
   "metadata": {},
   "source": [
    "# Merge data sets"
   ]
  },
  {
   "cell_type": "markdown",
   "metadata": {},
   "source": [
    "Now you create combinations of your loaded data sets. Remember the illustration of a (inner) **merge**:"
   ]
  },
  {
   "cell_type": "code",
   "execution_count": null,
   "metadata": {},
   "outputs": [],
   "source": [
    "plt.figure(figsize=(15,7))\n",
    "v = venn2(subsets = (4, 4, 10), set_labels = ('Data X', 'Data Y'))\n",
    "v.get_label_by_id('100').set_text('dropped')\n",
    "v.get_label_by_id('010').set_text('dropped' )\n",
    "v.get_label_by_id('110').set_text('included')\n",
    "plt.show()"
   ]
  },
  {
   "cell_type": "markdown",
   "metadata": {},
   "source": [
    "Here we are dropping elements from both data set X and data set Y. A left join would keep all observations in data X intact and subset only from Y. \n",
    "\n",
    "Make sure that your resulting data sets have the correct number of rows and columns. That is, be clear about which observations are thrown away. \n",
    "\n",
    "**Note:** Don't make Venn diagrams in your own data project. It is just for exposition. "
   ]
  },
  {
   "cell_type": "markdown",
   "metadata": {},
   "source": [
    "# Analysis"
   ]
  },
  {
   "cell_type": "markdown",
   "metadata": {},
   "source": [
    "To get a quick overview of the data, we show some **summary statistics** on a meaningful aggregation. "
   ]
  },
  {
   "cell_type": "markdown",
   "metadata": {},
   "source": [
    "MAKE FURTHER ANALYSIS. EXPLAIN THE CODE BRIEFLY AND SUMMARIZE THE RESULTS."
   ]
  },
  {
   "cell_type": "markdown",
   "metadata": {},
   "source": [
    "# Conclusion"
   ]
  },
  {
   "attachments": {},
   "cell_type": "markdown",
   "metadata": {},
   "source": [
    "ADD CONCISE CONLUSION. "
   ]
  }
 ],
 "metadata": {
  "kernelspec": {
   "display_name": "base",
   "language": "python",
   "name": "python3"
  },
  "language_info": {
   "codemirror_mode": {
    "name": "ipython",
    "version": 3
   },
   "file_extension": ".py",
   "mimetype": "text/x-python",
   "name": "python",
   "nbconvert_exporter": "python",
   "pygments_lexer": "ipython3",
   "version": "3.9.13"
  },
  "toc-autonumbering": true,
  "vscode": {
   "interpreter": {
    "hash": "545c8d92fb4c24119f13202458cf7a7750e646aaf47478867c31e3beae5469ad"
   }
  }
 },
 "nbformat": 4,
 "nbformat_minor": 4
}
