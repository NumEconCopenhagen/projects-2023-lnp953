{
 "cells": [
  {
   "attachments": {},
   "cell_type": "markdown",
   "metadata": {},
   "source": [
    "**Table of contents**<a id='toc0_'></a>    \n",
    "- 1. [Problem 1: Optimal taxation with government consumption](#toc1_)    \n",
    "- 2. [Problem 2: Labor adjustment costs](#toc2_)    \n",
    "- 3. [Problem 3: Global optimizer with refined multi-start](#toc3_)    \n",
    "\n",
    "<!-- vscode-jupyter-toc-config\n",
    "\tnumbering=true\n",
    "\tanchor=true\n",
    "\tflat=false\n",
    "\tminLevel=2\n",
    "\tmaxLevel=6\n",
    "\t/vscode-jupyter-toc-config -->\n",
    "<!-- THIS CELL WILL BE REPLACED ON TOC UPDATE. DO NOT WRITE YOUR TEXT IN THIS CELL -->"
   ]
  },
  {
   "cell_type": "code",
   "execution_count": null,
   "metadata": {},
   "outputs": [],
   "source": [
    "#Importing and setting magics \n",
    "\n",
    "import numpy as np\n",
    "from scipy import optimize\n",
    "import scipy.optimize as opt\n",
    "import sympy as sm\n",
    "import matplotlib.pyplot as plt\n",
    "\n",
    "\n",
    "plt.rcParams.update({\"axes.grid\":True,\"grid.color\":\"black\",\"grid.alpha\":\"0.25\",\"grid.linestyle\":\"--\"})\n",
    "plt.rcParams.update({'font.size': 14})\n",
    "\n",
    "# autoreload modules when code is run\n",
    "%load_ext autoreload\n",
    "%autoreload 2"
   ]
  },
  {
   "attachments": {},
   "cell_type": "markdown",
   "metadata": {},
   "source": [
    "## 1. <a id='toc1_'></a>[Problem 1: Optimal taxation with government consumption](#toc0_)"
   ]
  },
  {
   "attachments": {},
   "cell_type": "markdown",
   "metadata": {},
   "source": [
    "\n",
    "Consider a worker choosing hours of labor, $L\\in[0,24]$, to maximize utility: \n",
    "\n",
    "$$\n",
    "\\begin{align*}\n",
    "V(w,\\tau,G)&=\\max_{L\\in[0,24]}\\ln\\left(C^{\\alpha}G^{1-\\alpha}\\right)-\\nu\\frac{L^{2}}{2}\\\\&\\text{s.t.}\\\\&C=\\kappa+(1-\\tau)wL\n",
    "\\end{align*}\n",
    "$$\n",
    "\n",
    "where \n",
    "\n",
    "* $C$ is *private* consumption with weight $\\alpha\\in(0,1)$.\n",
    "* $\\kappa > 0$ is the *free private* consumption component.\n",
    "* $(1-\\tau)wL$ is the *costly private* consumption component.\n",
    "* $w > 0 $ is the real wage.\n",
    "* $\\tau \\in (0,1)$ is the labor-income tax rate.\n",
    "* $G > 0 $ is *government* consumption with weight $1-\\alpha$.\n",
    "* $\\nu > 0$ is the disutility of labor scaling factor"
   ]
  },
  {
   "attachments": {},
   "cell_type": "markdown",
   "metadata": {},
   "source": [
    "\n",
    "The baseline parameters are:\n",
    "\n",
    "$$\n",
    "\\begin{align*}\n",
    "\\alpha &= 0.5\\\\\n",
    "\\kappa &= 1.0\\\\\n",
    "\\nu &= \\frac{1}{2\\cdot16^2} \\\\\n",
    "w &= 1.0 \\\\ \n",
    "\\tau &= 0.30 \\\\\n",
    "\\end{align*}\n",
    "$$"
   ]
  },
  {
   "attachments": {},
   "cell_type": "markdown",
   "metadata": {},
   "source": [
    "# Question 1: \n",
    "**Verify that the optimal labor supply choice is $L^{\\star}(\\tilde{w}) =\\frac{-\\kappa+\\sqrt{\\kappa^{2}+4\\frac{\\alpha}{\\nu}\\tilde{w}^2}}{2\\tilde{w}}$, where $\\tilde{w} = (1-\\tau)w$, for $G\\in\\left\\{1.0 , 2.0\\right\\}$.**"
   ]
  },
  {
   "attachments": {},
   "cell_type": "markdown",
   "metadata": {},
   "source": [
    "I start by defining the optimal_labor_choice function. The function takes the parameters $\\alpha$, $\\kappa$, $\\nu$, $\\omega$, $\\tau$ and G as inputs and calculates the optimal labor supply choice using the formula given in question 1. I define the baseline parameters as the given values and define the values of G as [1.0, 2.0]. \n",
    "\n",
    "I then add an verifucation step such that I can compare the results obtained from the code from the optimal_labor_choice function with the result of calculating the values \"manually\". Specifically, I use the np.isclose() function from the NumPy library to check if the two results are close to each other. In the end, the code prints wheter the reults match or not. If it matches, then I can confirm that the optimal labor supply choice is given by $L^{\\star}(\\tilde{w})$.\n"
   ]
  },
  {
   "cell_type": "code",
   "execution_count": null,
   "metadata": {},
   "outputs": [],
   "source": [
    "\n",
    "def optimal_labor_choice(w, tau, alpha, kappa, nu, G):\n",
    "    #Calculating the tilde_w value\n",
    "    tilde_omega = (1 - tau) * w\n",
    "    \n",
    "    #Calculating the discriminant for the optimal labor supply choice formula\n",
    "    discriminant = kappa**2 + 4 * alpha / nu * tilde_omega**2\n",
    "    \n",
    "    #Calculating the optimal labor supply choice using the formula\n",
    "    L_star = (-kappa + np.sqrt(discriminant)) / (2 * tilde_omega)\n",
    "    \n",
    "    return L_star\n",
    "\n",
    "#Defining baseline parameters\n",
    "alpha = 0.5\n",
    "kappa = 1.0\n",
    "nu = 1 / (2 * 16**2)\n",
    "omega = 1.0\n",
    "tau = 0.30\n",
    "\n",
    "#Defining the values G can take\n",
    "G_values = [1.0, 2.0]\n",
    "\n",
    "#Calculating the optimal labor supply choice for each G value\n",
    "for G in G_values:\n",
    "    #Calling the function to find the optimal labor supply choice\n",
    "    L_star = optimal_labor_choice(omega, tau, alpha, kappa, nu, G)\n",
    "    \n",
    "    #Calculating the optimal labor supply choice MANUALLY using the formula\n",
    "    calculated_L_star = (-kappa + np.sqrt(kappa**2 + 4 * alpha / nu * (1 - tau)**2 * omega**2)) / (2 * (1 - tau) * omega)\n",
    "    \n",
    "    print(f\"For G = {G}:\")\n",
    "    print(f\"Optimal labor supply choice from the code: L* = {L_star:.2f}\")\n",
    "    print(f\"Optimal labor supply choice calculated manually: L* = {calculated_L_star:.2f}\")\n",
    "    \n",
    "    #Verifying if the results match using isclose from np\n",
    "    if np.isclose(L_star, calculated_L_star):\n",
    "        print(\"Verification check: The results match!\")\n",
    "    else:\n",
    "        print(\"Verification check: The results do not match\")\n",
    "    \n",
    "    print()\n"
   ]
  },
  {
   "attachments": {},
   "cell_type": "markdown",
   "metadata": {},
   "source": [
    "# Question 2:\n",
    "**Illustrate how $L^{\\star}(\\tilde{w})$ depends on $w$.**"
   ]
  },
  {
   "attachments": {},
   "cell_type": "markdown",
   "metadata": {},
   "source": [
    "I start by calculating the optimal labor supply choice for different values of omega. Then I plot the relationship using the plotting function from matplotlib. "
   ]
  },
  {
   "cell_type": "code",
   "execution_count": null,
   "metadata": {},
   "outputs": [],
   "source": [
    "#Generating a range of omega values\n",
    "omega_values = np.linspace(0.01, 2.0, 100)\n",
    "\n",
    "#Calculating the optimal labor supply choice for each omega value\n",
    "L_star_values = [optimal_labor_choice(omega, tau, alpha, kappa, nu, G) for omega in omega_values]\n",
    "\n",
    "#Plotting the relationship between omega and L_star\n",
    "plt.plot(omega_values, L_star_values)\n",
    "plt.xlabel('omega')\n",
    "plt.ylabel('Optimal labor supply, L*')\n",
    "plt.title('Fig 1: How the optimal labor supply depends on omega')\n",
    "plt.grid(True)\n",
    "\n",
    "#Showing the plot\n",
    "plt.show()\n",
    "\n"
   ]
  },
  {
   "attachments": {},
   "cell_type": "markdown",
   "metadata": {},
   "source": [
    "**Interpretation:** \n",
    "\n",
    "The concave graph of the optimal labor supply, shows that there is diminishing marginal utility of consumption. That is people value their free time and prefer to have more leisure, which means that there is a labor-leisure trade-off. In oher words, there is a diminishing satisfaction from additional income as they work more."
   ]
  },
  {
   "attachments": {},
   "cell_type": "markdown",
   "metadata": {},
   "source": [
    "\n",
    "We now consider a government, who chooses $\\tau$ and spend all of the taxes on government consumption so:\n",
    "\n",
    "$$\n",
    "G = \\tau w L^{\\star}((1-\\tau)w)\n",
    "$$\n",
    "\n",
    "# Question 3: \n",
    "**Plot the implied $L$, $G$ and worker utility for a grid of $\\tau$-values.**\n"
   ]
  },
  {
   "attachments": {},
   "cell_type": "markdown",
   "metadata": {},
   "source": [
    "To calculate and plot the values of labor supply (L), government consumption (G), and worker utility based on a given set of parameters and a range of tax rates (tau), I start by defining three functions, where the first function \"ootimal_labor_choice\" is already used in the previous answers. \n",
    "\n",
    "The two new functions I define is \"government_consumption\" and \"worker_utility\". The government_consumption function calculates the government consumption based on the optimal labor supply. The worker_utility function calculates the worker's utility based on the optimal labor supply and consumption. \n",
    "\n",
    "To plot the implied $L$, $G$ and worker utility for a grid of $\\tau$-values, I create three subplots. The first subplot shows how labor supply changes as the tax rate varies. The second subplot shows the corresponding government consumption for each tax rate. The third subplot shows the worker's utility as a function of the tax rate. I also adjust the figure size and use plt.tight_layout(), so that the figures do not collide with each oher."
   ]
  },
  {
   "cell_type": "code",
   "execution_count": null,
   "metadata": {},
   "outputs": [],
   "source": [
    "#Defining the three functions\n",
    "\n",
    "#Defining the function for L\n",
    "def optimal_labor_choice(omega, tau, alpha, kappa, nu):\n",
    "    tilde_w = (1 - tau) * omega\n",
    "    discriminant = kappa**2 + 4 * alpha / nu * tilde_w**2\n",
    "    L_star = (-kappa + np.sqrt(discriminant)) / (2 * tilde_w)\n",
    "    return L_star\n",
    "\n",
    "#Defining the function for G\n",
    "def government_consumption(omega, tau, alpha, kappa, nu):\n",
    "    L_star = optimal_labor_choice(omega, tau, alpha, kappa, nu)\n",
    "    return tau * omega * L_star\n",
    "\n",
    "#Defining the function for worker_utility\n",
    "def worker_utility(omega, tau, alpha, kappa, nu):\n",
    "    L_star = optimal_labor_choice(omega, tau, alpha, kappa, nu)\n",
    "    C = kappa + (1 - tau) * omega * L_star\n",
    "    G = government_consumption(omega, tau, alpha, kappa, nu)\n",
    "    return np.log(C**alpha * G**(1 - alpha)) - nu * L_star**2 / 2\n",
    "\n",
    "#Defining a grid of tau values\n",
    "tau_values = np.linspace(0.1, 0.9, 100)\n",
    "\n",
    "#Calculating the implied values for L, G and worker utility referring to the tau_values linspace\n",
    "L_values = [optimal_labor_choice(omega, tau, alpha, kappa, nu) for tau in tau_values]\n",
    "G_values = [government_consumption(omega, tau, alpha, kappa, nu) for tau in tau_values]\n",
    "utility_values = [worker_utility(omega, tau, alpha, kappa, nu) for tau in tau_values]\n",
    "\n",
    "#Now plotting the results and adjusting the figure size so the subplots do not collide \n",
    "plt.figure(figsize=(10, 12))\n",
    "\n",
    "#Fig 2: Labor Supply\n",
    "plt.subplot(3, 1, 1)\n",
    "plt.plot(tau_values, L_values)\n",
    "plt.xlabel('τ')\n",
    "plt.ylabel('L')\n",
    "plt.title('Fig 2: The relationship between labor supply and tax rate')\n",
    "\n",
    "#Fig 3: Government Consumption\n",
    "plt.subplot(3, 1, 2)\n",
    "plt.plot(tau_values, G_values)\n",
    "plt.xlabel('τ')\n",
    "plt.ylabel('G')\n",
    "plt.title('Fig 3: The relationship between government consumption and tax rate')\n",
    "\n",
    "#Fig 4: Worker Utility\n",
    "plt.subplot(3, 1, 3)\n",
    "plt.plot(tau_values, utility_values)\n",
    "plt.xlabel('τ')\n",
    "plt.ylabel('Worker Utility')\n",
    "plt.title('Fig 4: The relationship between worker utility and tax rate')\n",
    "\n",
    "#Ensuring the subplots do not overlap each other, so that they fit within the figure area\n",
    "plt.tight_layout()\n",
    "\n",
    "#Showing the plot\n",
    "plt.show()\n"
   ]
  },
  {
   "attachments": {},
   "cell_type": "markdown",
   "metadata": {},
   "source": [
    "**Interpretation:**\n",
    "1) Fig 2 shows that as the tax rate increases, the optimal labor supply decreases. This implies, that a higher tax rate discourages people to work. The cocae shape again represents a diminishing marginal utility of consumption and therefore a sign that the people prefers leisure time over work.\n",
    "\n",
    "2) Fig 3 shows that as the tax rate increases, the government consumption increases. This is beacause an increase in the tax rate, will increase the tax revenue since the people will work less due to higher taxes. \n",
    "\n",
    "3) Fig 4 shows a concave graph, which implies a diminishing marginal utility of consumption and a increasing disutility of labor. In the beginning, as the tax rate increases, worker utility decreases. However, beyond a certain point, the marginal decrease in utility starts to diminish as the tax rate continues to increase. Therefore, there exists an optimal tax rate that maximizes worker utility that takes the trade-offs between consumption and leisure into consideration."
   ]
  },
  {
   "attachments": {},
   "cell_type": "markdown",
   "metadata": {},
   "source": [
    "# Question 4:\n",
    "\n",
    "**Find the socially optimal tax rate $\\tau^{\\star}\\in(0,1)$ maximizing worker utility. Illustrate your result.**"
   ]
  },
  {
   "attachments": {},
   "cell_type": "markdown",
   "metadata": {},
   "source": [
    "First, I define a function called \"social_optimal_tax_rate\". This calculates the socially optimal tax rate by maximizing the negative worker utility function. Specifically, the opt.minimize function is used from the optimization library.\n",
    "\n",
    "For each tax rate in tau_values, the code calculates the optimal labor supply using the optimal_labor_choice function.\n",
    "\n",
    "Lastly, I plot the socially optimal tax rate in a figure that shows the relationship between the tax rate  and the labor supply like figure 2. The socially optimal tax rate is represented on the plot using plt.axvline that draws a vertical line at the optimal tax rate value."
   ]
  },
  {
   "cell_type": "code",
   "execution_count": null,
   "metadata": {},
   "outputs": [],
   "source": [
    "#Defining a function that calculates the socially optimal tax\n",
    "\n",
    "def social_optimal_tax_rate(omega, alpha, kappa, nu):\n",
    "    # Define the negative of the worker utility function\n",
    "    def neg_worker_utility(tau):\n",
    "        return -worker_utility(omega, tau, alpha, kappa, nu)\n",
    "\n",
    "    #Maximizing the negative worker utility function\n",
    "    result = opt.minimize(neg_worker_utility, x0=0.5, bounds=[(0, 1)])\n",
    "\n",
    "    return result.x[0]\n",
    "\n",
    "#Calculating the optimal labor supply for each tau_values\n",
    "labor_values = [optimal_labor_choice(omega, tau, alpha, kappa, nu) for tau in tau_values]\n",
    "\n",
    "#Plotting the labor supply as a function of the tax rate\n",
    "plt.figure(figsize=(8, 6))\n",
    "plt.plot(tau_values, labor_values)\n",
    "plt.xlabel('Tax Rate')\n",
    "plt.ylabel('Labor Supply')\n",
    "plt.title('Fig 5: The relationship between labor supply and tax rate incl. the socially optimal tax rate')\n",
    "\n",
    "#Calculating the socially optimal tax rate\n",
    "social_opt_tau = social_optimal_tax_rate(omega, alpha, kappa, nu)\n",
    "\n",
    "#Marking the socially optimal tax rate on the plot using axvline\n",
    "plt.axvline(x=social_opt_tau, color='red', linestyle='--', label='Socially Optimal τ')\n",
    "plt.legend()\n",
    "\n",
    "#Printing the value of the socially optimal tax rate\n",
    "print(f\"The socially optimal tax rate is: {social_opt_tau:.2f}\")\n",
    "\n",
    "#Showing the plot\n",
    "plt.show()\n"
   ]
  },
  {
   "attachments": {},
   "cell_type": "markdown",
   "metadata": {},
   "source": [
    "**Interpretation:**\n",
    "Thus, the optimal tax rate that maximizes worker utility, which takes the trade-offs between consumption and leisure into consideration, is $\\tau$ = 0.51. "
   ]
  },
  {
   "attachments": {},
   "cell_type": "markdown",
   "metadata": {},
   "source": [
    "A more general preference formulation for the worker is:\n",
    "\n",
    "$$\n",
    "\\begin{align*}\n",
    "\\mathcal{V}(w,\\tau,G)&=\\max_{L\\in[0,24]}\\frac{\\left[ \\left( \\alpha C^{\\frac{\\sigma-1}{\\sigma}}+(1-\\alpha) G^{\\frac{\\sigma-1}{\\sigma}} \\right)^{\\frac{\\sigma}{\\sigma-1} }\\right]^{1-\\rho}-1}{1-\\rho}- \\nu\\frac{L^{1+\\varepsilon}}{1+\\varepsilon},\\,\\,\\,\\varepsilon,\\rho,\\sigma>0,\\,\\,\\,\\rho,\\sigma\\neq1\\\\&\\text{s.t.}\\\\&C=\\kappa+(1-\\tau)wL\n",
    "\\end{align*}    \n",
    "$$\n",
    "\n",
    "Optimal labor supply is now $L^{\\star}(\\tilde{w},G)$."
   ]
  },
  {
   "attachments": {},
   "cell_type": "markdown",
   "metadata": {},
   "source": [
    "Questions 5 and 6 must be answered with the general formulation, and for 2 different set of parameters:\n",
    "\n",
    "- Set 1:  $\\sigma = 1.001$, $\\rho = 1.001$ and $\\varepsilon = 1.0$.\n",
    "- Set 2:  $\\sigma = 1.5$, $\\rho = 1.5$ and $\\varepsilon = 1.0 $."
   ]
  },
  {
   "attachments": {},
   "cell_type": "markdown",
   "metadata": {},
   "source": [
    "# Question 5:\n",
    "\n",
    "**Find the $G$ that solves $G = \\tau w L^{\\star}((1-\\tau)w,G)$ using the $\\tau$ found in question 4.**\n",
    "\n",
    "*Hint: First write code that solves the worker problem for given values of $G$ and $\\tau$. Then find the correct G based on this.*"
   ]
  },
  {
   "cell_type": "code",
   "execution_count": null,
   "metadata": {},
   "outputs": [],
   "source": [
    "def optimal_labor_choice(omega, tau, alpha, kappa, nu, sigma, rho, epsilon):\n",
    "    tilde_w = omega\n",
    "    discriminant = kappa**2 + 4 * alpha / nu * tilde_w**2\n",
    "    L_star = (-kappa + np.sqrt(discriminant)) / (2 * tilde_w)\n",
    "    return L_star\n",
    "\n",
    "def target_equation(G, tau, omega, alpha, kappa, nu, sigma, rho, epsilon):\n",
    "    L_star = optimal_labor_choice(omega, tau, alpha, kappa, nu, sigma, rho, epsilon)\n",
    "    return G - tau * omega * L_star * (1 - tau) * omega\n",
    "\n",
    "\n",
    "# Set 1: sigma = 1.001, rho = 1.001, epsilon = 1.0\n",
    "sigma1 = 1.001\n",
    "rho1 = 1.001\n",
    "epsilon1 = 1.0\n",
    "\n",
    "# Solve for G using the socially optimal tau value and parameter set 1\n",
    "tau_optimal1 = social_opt_tau\n",
    "G_solution1 = opt.root(target_equation, x0=0.5, args=(tau_optimal1, omega, alpha, kappa, nu, sigma1, rho1, epsilon1))\n",
    "G_optimal1 = G_solution1.x[0]\n",
    "\n",
    "# Set 2: sigma = 1.5, rho = 1.5, epsilon = 1.0\n",
    "sigma2 = 1.5\n",
    "rho2 = 1.5\n",
    "epsilon2 = 1.0\n",
    "\n",
    "# Solve for G using the socially optimal tau value and parameter set 2\n",
    "tau_optimal2 = social_opt_tau\n",
    "G_solution2 = opt.root(target_equation, x0=0.5, args=(tau_optimal2, omega, alpha, kappa, nu, sigma2, rho2, epsilon2))\n",
    "G_optimal2 = G_solution2.x[0]\n",
    "\n",
    "# Check if the calculated values of G satisfy the equation G = tau * omega * L_star * (1 - tau) * omega\n",
    "equation_satisfied1 = np.isclose(G_optimal1, tau_optimal1 * omega * optimal_labor_choice(omega, tau_optimal1, alpha, kappa, nu, sigma1, rho1, epsilon1) * (1 - tau_optimal1) * omega)\n",
    "equation_satisfied2 = np.isclose(G_optimal2, tau_optimal2 * omega * optimal_labor_choice(omega, tau_optimal2, alpha, kappa, nu, sigma2, rho2, epsilon2) * (1 - tau_optimal2) * omega)\n",
    "\n",
    "# Print the results\n",
    "print(\"Optimal G for Set 1:\")\n",
    "print(f\"The value of G that satisfies the equation G = tau * omega * L_star * (1 - tau) * omega is: {G_optimal1:.2f}\")\n",
    "print(f\"Equation satisfied: {equation_satisfied1}\")\n",
    "\n",
    "print(\"\\nOptimal G for Set 2:\")\n",
    "print(f\"The value of G that satisfies the equation G = tau * omega * L_star * (1 - tau) * omega is: {G_optimal2:.2f}\")\n",
    "print(f\"Equation satisfied: {equation_satisfied2}\")\n"
   ]
  },
  {
   "attachments": {},
   "cell_type": "markdown",
   "metadata": {},
   "source": [
    "**Question 6:** Find the socially optimal tax rate, $\\tau^{\\star}$, maximizing worker utility, while keeping $G = \\tau w L^{\\star}((1-\\tau)w,G)$."
   ]
  },
  {
   "cell_type": "code",
   "execution_count": null,
   "metadata": {},
   "outputs": [],
   "source": [
    "# write your code here  "
   ]
  },
  {
   "attachments": {},
   "cell_type": "markdown",
   "metadata": {},
   "source": [
    "## 2. <a id='toc2_'></a>[Problem 2: Labor adjustment costs](#toc0_)"
   ]
  },
  {
   "attachments": {},
   "cell_type": "markdown",
   "metadata": {},
   "source": [
    "You own a hair salon. You employ hairdressers, $\\ell_t$, to produce haircuts, $y_t = \\ell_t$.\n",
    "\n",
    "The wage for each haridresser is $w$.\n",
    "\n",
    "The demand for haircuts implies that the price of haircuts you can charge is $p_t = \\kappa_t y_t^{-\\eta}$, where $\\kappa_t$ is a demand-shock and $\\eta \\in (0,1)$ measures the elasticity of demand.\n",
    "\n",
    "Profits are:\n",
    "\n",
    "$$\n",
    "\\Pi_t = p_t y_t - w \\ell_t = \\kappa_t \\ell_t^{1-\\eta} - w \\ell_t\n",
    "$$"
   ]
  },
  {
   "attachments": {},
   "cell_type": "markdown",
   "metadata": {},
   "source": [
    "Baseline parameters are:\n",
    "- $\\eta = 0.5$\n",
    "- $w = 1.0$"
   ]
  },
  {
   "attachments": {},
   "cell_type": "markdown",
   "metadata": {},
   "source": [
    "**Question 1:** Verify numerically that $\\ell_{t}=\\left(\\frac{(1-\\eta)\\kappa_{t}}{w}\\right)^{\\frac{1}{\\eta}}$ maximises profits, for $\\kappa\\in\\left\\{1.0 , 2.0\\right\\}$."
   ]
  },
  {
   "cell_type": "code",
   "execution_count": null,
   "metadata": {},
   "outputs": [],
   "source": [
    "from hair_salon_model import HairSalonModel\n",
    "\n",
    "model = HairSalonModel()\n"
   ]
  },
  {
   "attachments": {},
   "cell_type": "markdown",
   "metadata": {},
   "source": [
    "First, I create a HairSalonModel class, which is initialized with parameters eta (elasticity of demand) and w (wage for hairdressers).\n",
    "\n",
    "I start by defining the values kappa can take and then calculate the optimal ell using the formula based on eta, kappa and w. Next, I calculate the profit for the optimal ell. \n",
    "\n",
    "To check if the optimal value for ell truly is the one that maximizes profits, I calculate if neighboring ell value results in a higher profit. Specifically, the code checks if the profit for the lower ell value is greater than the optimal profit, and if that is the case, it updates the optimal ell and profit. The same is done for the upper ell value. "
   ]
  },
  {
   "cell_type": "code",
   "execution_count": null,
   "metadata": {},
   "outputs": [],
   "source": [
    "kappa_values = [1.0, 2.0]\n",
    "eta = model.eta  #Calling the eta from the model\n",
    "w = model.w  #Calling the w from the model\n",
    "\n",
    "for kappa in kappa_values:\n",
    "    #Calculating the optimal ell using the formula\n",
    "    optimal_ell = ((1 - eta) * kappa / w) ** (1 / eta)\n",
    "    \n",
    "    #Calculating the profit for the optimal ell\n",
    "    optimal_profit = model.calculate_profit(kappa)\n",
    "    \n",
    "    #Calculating profits for neighboring values of ell to determine if the optimal ell value truly maximizes the profit or if the neighboring ell value results in a higher profit\n",
    "    ell_lower = optimal_ell - 0.05  #Decreasing optimal_ell by 0.05\n",
    "    ell_upper = optimal_ell + 0.05  #Increasing optimal_ell by 0.05\n",
    "    \n",
    "    #Calculating profits for the lower and upper ell values\n",
    "    profit_lower = model.calculate_profit(kappa, ell_lower)\n",
    "    profit_upper = model.calculate_profit(kappa, ell_upper)\n",
    "    \n",
    "    #Checking if the profit for the lower ell is greater than the optimal profit\n",
    "    if profit_lower > optimal_profit:\n",
    "        optimal_ell = ell_lower  # Set the lower ell as the new optimal ell\n",
    "        optimal_profit = profit_lower  # Update the optimal profit\n",
    "    \n",
    "    #Checking if the profit for the upper ell is greater than the optimal profit\n",
    "    if profit_upper > optimal_profit:\n",
    "        optimal_ell = ell_upper  # Set the upper ell as the new optimal ell\n",
    "        optimal_profit = profit_upper  # Update the optimal profit\n",
    "    \n",
    "    #Printing the result\n",
    "    print(f\"When kappa = {kappa}, the optimal ell value is: {optimal_ell}\")\n",
    "    print(f\"The corresponding profit is: {optimal_profit}\")\n",
    "\n"
   ]
  },
  {
   "cell_type": "code",
   "execution_count": null,
   "metadata": {},
   "outputs": [],
   "source": [
    "# write your code here"
   ]
  },
  {
   "attachments": {},
   "cell_type": "markdown",
   "metadata": {},
   "source": [
    "We now consider a *dynamic* version of the model.\n",
    "\n",
    "* The demand-shock is a so-called AR(1) in logs, \n",
    "\n",
    "$$\n",
    "\\log \\kappa_{t} = \\rho \\log \\kappa_{t-1} + \\epsilon_{t},\\,\\,\\, \\epsilon_{t+1} \\sim \\mathcal{N}(-0.5\\sigma_{\\epsilon}^2,\\sigma_{\\epsilon})\n",
    "$$\n",
    "\n",
    "* Any hiring or firing implies a fixed adjustment cost, $\\iota > 0 $.\n",
    "* Future profits are discounted with a monthly factor of $R \\in (0,1)$.\n",
    "\n",
    "The initial demand shock is $\\kappa_{-1} = 1$ and the planning horizon is 10 years, i.e. 120 months so $t \\in \\{0,1,2,\\dots,119\\}$. Initially you don't have any employees, $\\ell_{-1}=0$"
   ]
  },
  {
   "attachments": {},
   "cell_type": "markdown",
   "metadata": {},
   "source": [
    "\n",
    "The *ex post* value of the salon is *conditional* on the shock series is:\n",
    "\n",
    "$$\n",
    "h(\\epsilon_0,\\epsilon_1,\\dots,\\epsilon_{119}) = \\left[\\sum_{t=0}^{119}R^{-t}\\left[\\kappa_{t}\\ell_{t}^{1-\\eta}-w\\ell_{t}-\\boldsymbol{1}_{\\ell_{t}\\neq\\ell_{t-1}}\\iota\\right]\\right]\n",
    "$$\n",
    "\n",
    "The *ex ante* expected value of the salon can be approximated by\n",
    "\n",
    "$$\n",
    "H = \\mathbb{E}[h(\\epsilon_0,\\epsilon_1,\\dots,\\epsilon_{119})] \\approx \\frac{1}{K}\\sum_{k=0}^{K} h(\\epsilon_0^k,\\epsilon_1^k,\\dots,\\epsilon_{119}^k)\n",
    "$$\n",
    "\n",
    "where each $k\\in\\{0,1,\\dots,K-1\\}$ is a random shock series. Maximizing profitability means maximizing $H$.\n"
   ]
  },
  {
   "attachments": {},
   "cell_type": "markdown",
   "metadata": {},
   "source": [
    "Baseline parameters are: \n",
    "\n",
    "- $\\rho = 0.90$\n",
    "- $\\iota = 0.01$\n",
    "- $\\sigma_{\\epsilon} = 0.10$\n",
    "- $R = \\left(1+0.01\\right)^{1/12}$"
   ]
  },
  {
   "attachments": {},
   "cell_type": "markdown",
   "metadata": {},
   "source": [
    "**Question 2:** Calculate $H$ if the policy  $\\ell_{t}=\\left(\\frac{(1-\\eta)\\kappa_{t}}{w}\\right)^{\\frac{1}{\\eta}}$ from question 1 is followed. Choose $K$ so the approximation is good enough to not affect your results substantially."
   ]
  },
  {
   "cell_type": "code",
   "execution_count": null,
   "metadata": {},
   "outputs": [],
   "source": [
    "# write your code here "
   ]
  },
  {
   "attachments": {},
   "cell_type": "markdown",
   "metadata": {},
   "source": [
    "Next, we consider policies on the form:\n",
    "\n",
    "$$\n",
    "\n",
    "\\ell_{t}=\\begin{cases}\n",
    "\\ell_t^{\\ast}  & \\text{if }\\left|\\ell_{t-1}-\\ell_t^{\\ast} \\right|>\\Delta\\\\\n",
    "\\ell_{t-1} & \\text{else }\n",
    "\\end{cases}\n",
    "\\\\\n",
    "\\text{where}\\,\\,\\ell_t^{\\ast} = \\left(\\frac{(1-\\eta)\\kappa_{t}}{w}\\right)^{\\frac{1}{\\eta}} \\\\\n",
    "\n",
    "$$\n",
    "With $\\Delta \\geq 0$ and $\\Delta = 0$ being the previous policy.\n"
   ]
  },
  {
   "attachments": {},
   "cell_type": "markdown",
   "metadata": {},
   "source": [
    "\n",
    "**Question 3:** Calculate $H$ if the policy above was followed with $\\Delta = 0.05$. Does it improve profitability?"
   ]
  },
  {
   "cell_type": "code",
   "execution_count": null,
   "metadata": {},
   "outputs": [],
   "source": [
    "# write your code here"
   ]
  },
  {
   "attachments": {},
   "cell_type": "markdown",
   "metadata": {},
   "source": [
    "**Question 4:** Find the optimal $\\Delta$ maximizing $H$. Illustrate your result."
   ]
  },
  {
   "cell_type": "code",
   "execution_count": null,
   "metadata": {},
   "outputs": [],
   "source": [
    "# write your code here"
   ]
  },
  {
   "attachments": {},
   "cell_type": "markdown",
   "metadata": {},
   "source": [
    "\n",
    "**Question 5:** Suggest an alternative policy you believe might improve profitability. Implement and test your policy.\n",
    "\n"
   ]
  },
  {
   "cell_type": "code",
   "execution_count": null,
   "metadata": {},
   "outputs": [],
   "source": [
    "# write your code here"
   ]
  },
  {
   "attachments": {},
   "cell_type": "markdown",
   "metadata": {},
   "source": [
    "## 3. <a id='toc3_'></a>[Problem 3: Global optimizer with refined multi-start](#toc0_)"
   ]
  },
  {
   "attachments": {},
   "cell_type": "markdown",
   "metadata": {},
   "source": [
    "We consider the Griewank function:\n",
    "\n",
    "$$ f(\\boldsymbol{x}) = \\sum^n_{i=1} \\frac{x^2_i}{4000}-\\prod^n_{i=1}\\cos\\left(\\frac{x_i}{\\sqrt{i}}\\right)+1$$\n",
    "\n",
    "The **global minimum** of this function is $f(0,0) = 0$ (remember: $\\cos(0)=1$).<br>\n",
    "But the function also have a lot of **local minima**."
   ]
  },
  {
   "cell_type": "code",
   "execution_count": null,
   "metadata": {},
   "outputs": [],
   "source": [
    "def griewank(x):\n",
    "    return griewank_(x[0],x[1])\n",
    "    \n",
    "def griewank_(x1,x2):\n",
    "    A = x1**2/4000 + x2**2/4000\n",
    "    B = np.cos(x1/np.sqrt(1))*np.cos(x2/np.sqrt(2))\n",
    "    return A-B+1"
   ]
  },
  {
   "attachments": {},
   "cell_type": "markdown",
   "metadata": {},
   "source": [
    "A **refined global optimizer with multi-start** is:\n",
    "\n",
    "1. Choose *bounds* for $\\mathbf{x}$ and *tolerance* $\\tau > 0$.\n",
    "2. Choose number of *warm-up iterations*, $\\underline{K} > 0$ and *maximum number of iterations*, $K > \\underline{K}$.\n",
    "3. In each iteration for $k \\in \\{0,1,\\dots,K-1\\}$:\n",
    "\n",
    "    A. Draw random $\\mathbf{x}^k$ uniformly within chosen bounds.\n",
    "\n",
    "    B. If $k < \\underline{K}$ go to step E.\n",
    "\n",
    "    C. Calculate $\\chi^k = 0.50\\cdot\\frac{2}{1+\\exp((k-\\underline{K})/100)}$  \n",
    "\n",
    "    D. Set $\\mathbf{x}^{k0} = \\chi^k \\mathbf{x}^k + (1-\\chi^k)\\mathbf{x}^{\\ast} $\n",
    "\n",
    "    E. Run optimizer with $\\mathbf{x}^{k0}$ as initial guess and $\\mathbf{x}^{k\\ast}$ as result.\n",
    "\n",
    "    F. Set $\\mathbf{x}^{\\ast} = \\mathbf{x}^{k\\ast}$ if $k = 0$ or $f(\\mathbf{x}^{k\\ast}) < f(\\mathbf{x}^{\\ast})$\n",
    "\n",
    "    G. If $f(\\mathbf{x}^{\\ast}) < \\tau$ go to step 4.\n",
    "\n",
    "4. Return the result $\\mathbf{x}^{\\ast}$."
   ]
  },
  {
   "attachments": {},
   "cell_type": "markdown",
   "metadata": {},
   "source": [
    "As settings we choose:\n",
    "\n",
    "* $x_1,x_2 \\in  [-600,600]$\n",
    "* $\\tau = 10^{-8}$\n",
    "* $\\underline{K}=10$\n",
    "* $K=1000$\n",
    "\n",
    "The optimizer in Step 3.E is `BFGS` with a tolerance of $\\tau$."
   ]
  },
  {
   "attachments": {},
   "cell_type": "markdown",
   "metadata": {},
   "source": [
    "**Question 1:** Implement the refined global optimizer with multi-start. Illustrate how the effective initial guesses $\\mathbf{x}^{k0}$ vary with the iteration counter $k$."
   ]
  },
  {
   "cell_type": "code",
   "execution_count": null,
   "metadata": {},
   "outputs": [],
   "source": [
    "# write your code here"
   ]
  },
  {
   "attachments": {},
   "cell_type": "markdown",
   "metadata": {},
   "source": [
    "**Question 2:** Is it a better idea to set $\\underline{K} = 100$? Is the convergence faster?"
   ]
  },
  {
   "cell_type": "code",
   "execution_count": null,
   "metadata": {},
   "outputs": [],
   "source": [
    "# write your code here"
   ]
  }
 ],
 "metadata": {
  "kernelspec": {
   "display_name": "base",
   "language": "python",
   "name": "python3"
  },
  "language_info": {
   "codemirror_mode": {
    "name": "ipython",
    "version": 3
   },
   "file_extension": ".py",
   "mimetype": "text/x-python",
   "name": "python",
   "nbconvert_exporter": "python",
   "pygments_lexer": "ipython3",
   "version": "3.9.13"
  },
  "orig_nbformat": 4,
  "vscode": {
   "interpreter": {
    "hash": "545c8d92fb4c24119f13202458cf7a7750e646aaf47478867c31e3beae5469ad"
   }
  }
 },
 "nbformat": 4,
 "nbformat_minor": 2
}
